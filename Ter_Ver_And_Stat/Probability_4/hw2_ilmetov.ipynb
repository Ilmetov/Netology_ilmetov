{
 "cells": [
  {
   "cell_type": "markdown",
   "metadata": {},
   "source": [
    "# Домашняя работа №2"
   ]
  },
  {
   "cell_type": "code",
   "execution_count": 2,
   "metadata": {},
   "outputs": [],
   "source": [
    "import pandas as pd\n",
    "from scipy import stats\n",
    "import numpy as np\n",
    "\n",
    "import seaborn as sns\n",
    "from sklearn import datasets\n",
    "from matplotlib import pyplot as plt\n",
    "from statsmodels.distributions.empirical_distribution import ECDF"
   ]
  },
  {
   "cell_type": "markdown",
   "metadata": {},
   "source": [
    "## Генеральная совокупность и выборка"
   ]
  },
  {
   "cell_type": "markdown",
   "metadata": {},
   "source": [
    "- Чем отличается генеральная совокупность от выборки?"
   ]
  },
  {
   "cell_type": "markdown",
   "metadata": {},
   "source": [
    "Генеральная совокупность - предполагаемая (или реальная) совокупность объектов, характеризующий конкретный процесс/исследований. Может быть конечной или бесконечной.\n",
    "Выборка - выбранная по определённым правилам часть генеральной совокупности, всегда конечная"
   ]
  },
  {
   "cell_type": "markdown",
   "metadata": {},
   "source": [
    "- Если размер выборки больше 200, то такая выборка является репрезентативной?"
   ]
  },
  {
   "cell_type": "markdown",
   "metadata": {},
   "source": [
    "Основной критерий репрезентативности - выборка   по своим относительным характеристикам должна быть максимально схожа с генеральной совокупностью. Достаточность размера выборки зависит от нескольких факторов: размер геенральной совокупности, требуемая точность, требуемый доверительный интервал в результатах исследования."
   ]
  },
  {
   "cell_type": "markdown",
   "metadata": {},
   "source": [
    "- Измерили длину волос футболистов сборной Франции на ЧМ-2018. Что могло являться генеральной совокупностью? Приведите 3 примера."
   ]
  },
  {
   "cell_type": "markdown",
   "metadata": {},
   "source": [
    "1.  Длина волос всех футболистов, попавших на ЧМ-2018\n",
    "2. Длина волос всех профессиональных футболистов Франции\n",
    "3. Длина волос зрителей мужчин, пришедших на футбольный матч с участием сборной Франции (репрезентативность выборки для этой генеральной совокупности конечно под вопросом)"
   ]
  },
  {
   "cell_type": "markdown",
   "metadata": {},
   "source": [
    "- Пусть генеральная совокупность --- вес детей, родившихся в Волгограде за последние 10 лет. Предложите 2 стратегии, как сгенерировать выборку."
   ]
  },
  {
   "cell_type": "markdown",
   "metadata": {},
   "source": [
    "1. выбор равного количества мальчиков и девочек в каждом году за последние 10 лет\n",
    "2. случайная выборка определённого количества детей в каждом роддоме "
   ]
  },
  {
   "cell_type": "markdown",
   "metadata": {},
   "source": [
    "## Параметры центра и разброса"
   ]
  },
  {
   "cell_type": "markdown",
   "metadata": {},
   "source": [
    "- Постройте распределение, у которого отсутствует мода.\n"
   ]
  },
  {
   "cell_type": "code",
   "execution_count": 4,
   "metadata": {},
   "outputs": [
    {
     "data": {
      "text/plain": [
       "[<matplotlib.lines.Line2D at 0x21631d16710>]"
      ]
     },
     "execution_count": 4,
     "metadata": {},
     "output_type": "execute_result"
    },
    {
     "data": {
      "image/png": "[encoded data removed]",
      "text/plain": [
       "<Figure size 432x288 with 1 Axes>"
      ]
     },
     "metadata": {
      "needs_background": "light"
     },
     "output_type": "display_data"
    }
   ],
   "source": [
    "#равномерное распределение\n",
    "\n",
    "uniform_rv = stats.uniform(1, 3)\n",
    "\n",
    "uniform_rv.rvs(10)\n",
    "\n",
    "x = np.linspace(0, 5, 100)\n",
    "pdf = uniform_rv.pdf(x)\n",
    "plt.plot(x, pdf)"
   ]
  },
  {
   "cell_type": "markdown",
   "metadata": {},
   "source": [
    "- Какая из статистик (медиана, матожидание) будет наиболее неустойчивой при выбросах? Проверить на выборке из Гамма-распределения. "
   ]
  },
  {
   "cell_type": "code",
   "execution_count": 20,
   "metadata": {},
   "outputs": [
    {
     "name": "stdout",
     "output_type": "stream",
     "text": [
      "3.8489811579551425\n",
      "3.989774099344785\n",
      "4.0428878867849525\n",
      "114.87923109382562\n",
      "[2.90613267e+00 2.85435151e+00 2.85233115e+00 4.48142017e+00\n",
      " 2.36528939e+00 4.10272293e+00 3.38555142e+00 4.87883178e+00\n",
      " 4.07659825e+00 2.79277444e+00 6.74769098e+00 1.66676830e+00\n",
      " 3.84898116e+00 7.00891207e+00 4.15446056e+00 4.80937865e+00\n",
      " 2.35831668e+00 6.15485293e+00 5.02786595e+00 2.67796142e+00\n",
      " 4.68904603e+00 2.41018482e+00 4.63043327e+00 3.11093244e+00\n",
      " 4.20336572e+00 4.77340204e+00 5.14888022e+00 4.00917753e+00\n",
      " 2.35610781e+00 3.01939228e+00 3.39333224e+00 2.81811969e+00\n",
      " 2.94178499e+00 5.20391047e+00 3.46755969e+00 5.45745005e+00\n",
      " 6.54085651e+00 4.34710331e+00 3.30004148e+00 4.35753833e+00\n",
      " 1.67359234e+00 3.60465241e+00 4.18082543e+00 7.61943389e+00\n",
      " 2.07299054e+00 1.77548719e+00 1.94442582e+00 2.19175636e+00\n",
      " 1.18941829e+01 2.37215207e+00 4.81916879e+00 1.00000000e+03\n",
      " 2.00000000e+03 3.00000000e+03]\n"
     ]
    }
   ],
   "source": [
    "#наиболее неустойчива к выбросам - матожидание, на медиане эффект незначительный\n",
    "gamma_rv = stats.gamma(3, 1)\n",
    "sample = gamma_rv.rvs(51)\n",
    "#med = sorted(sample)[24]\n",
    "med = np.median(sample)\n",
    "mean = sample.mean()\n",
    "print(med)\n",
    "print(mean)\n",
    "#your code here\n",
    "overshoot = np.array([1000, 2000, 3000])\n",
    "sample_with_overshoot = np.append(sample, overshoot)\n",
    "new_med =np.median(sample_with_overshoot)\n",
    "new_mean = sample_with_overshoot.mean()\n",
    "print(new_med)\n",
    "print(new_mean)\n",
    "print(sample_with_overshoot)"
   ]
  },
  {
   "cell_type": "markdown",
   "metadata": {},
   "source": [
    "- Как изменится матожидание, если к выборке добавить константу $C$? Умножить на $C$. \n",
    "\n",
    "Проверите на выборке из распределения Пуассона"
   ]
  },
  {
   "cell_type": "code",
   "execution_count": 36,
   "metadata": {},
   "outputs": [
    {
     "name": "stdout",
     "output_type": "stream",
     "text": [
      "1.86\n",
      "3.86\n",
      "3.72\n"
     ]
    }
   ],
   "source": [
    "#в этом случае среднее изменится: увеличиться на константу С, измениться в С раз, соответственно для сложения и умноженияё\n",
    "pois_rv = stats.poisson(2)\n",
    "sample = pois_rv.rvs(100)\n",
    "C = 2\n",
    "#your code here\n",
    "mean =sample.mean()\n",
    "mean_with_c = (sample+C).mean()\n",
    "mean_mult_c = (sample*C).mean()\n",
    "print(mean)\n",
    "print(mean_with_c)\n",
    "print(mean_mult_c)"
   ]
  },
  {
   "cell_type": "markdown",
   "metadata": {},
   "source": [
    "- Как изменится дисперсия при добавлении выбросов? Проверьте для распределения экспоненциального распределения"
   ]
  },
  {
   "cell_type": "code",
   "execution_count": 49,
   "metadata": {},
   "outputs": [
    {
     "name": "stdout",
     "output_type": "stream",
     "text": [
      "1.6361430634596212\n",
      "1895441.927257694\n"
     ]
    }
   ],
   "source": [
    "#при добавлении выбросов, рост дисперсии также будет экспоненциальным\n",
    "exp_rv = stats.expon(4)\n",
    "sample = exp_rv.rvs(50)\n",
    "var = sample.var()\n",
    "print(var)\n",
    "\n",
    "#your code here\n",
    "overshoot = np.array([1000, 10000])\n",
    "sample_with_overshoot = np.append(sample, overshoot)\n",
    "new_var =sample_with_overshoot.var()\n",
    "print(new_var)"
   ]
  },
  {
   "cell_type": "markdown",
   "metadata": {},
   "source": [
    "- Что шире: интерквантильный размах ($X_{0.75} - X_{0.25}$) или $(\\bar{X}-s, \\bar{X}+s)$ для $\\mathcal{N}(a, \\sigma^2)$. Посчитайте и сравните эти интервалы для распредения $\\mathcal{N}(3,1)$"
   ]
  },
  {
   "cell_type": "code",
   "execution_count": 97,
   "metadata": {},
   "outputs": [
    {
     "name": "stdout",
     "output_type": "stream",
     "text": [
      "1.2986513481455213\n",
      "2.0008769090986984\n",
      "2.9571642760979016\n"
     ]
    }
   ],
   "source": [
    "#доверительный интервал всегда будет шире чем интерквантильный размах\n",
    "from math import sqrt\n",
    "norm_rv = stats.norm(3,1)\n",
    "sample = norm_rv.rvs(1000)\n",
    "#your code here\n",
    "mean= sample.mean()\n",
    "interq = (np.quantile(sample, 0.75) - np.quantile(sample, 0.25))\n",
    "std = sqrt(sum([(i-mean)**2 for i in sample]) / (len(sample) - 1))\n",
    "interv2 = (mean + std) - (mean - std)\n",
    "print(interq)\n",
    "print(interv2)\n",
    "print(sample.mean())"
   ]
  },
  {
   "cell_type": "markdown",
   "metadata": {},
   "source": [
    "## Основные статистики и ЦПТ"
   ]
  },
  {
   "cell_type": "markdown",
   "metadata": {},
   "source": [
    "- Что такое статистика? Посчитайте любую для бета-распределения (1,3)"
   ]
  },
  {
   "cell_type": "code",
   "execution_count": 16,
   "metadata": {},
   "outputs": [
    {
     "name": "stdout",
     "output_type": "stream",
     "text": [
      "0.3908690437705074\n"
     ]
    }
   ],
   "source": [
    "#статистики - показатели, характеризующие распределение: среднее, дисперсия, медиана, мода, интерквантильный размах и т.п.\n",
    "beta_rv = stats.beta(1,3)\n",
    "sample = beta_rv.rvs(50)\n",
    "#your code here\n",
    "interq = (np.quantile(sample, 0.75) - np.quantile(sample, 0.25))\n",
    "print(interq)\n",
    "#sample"
   ]
  },
  {
   "cell_type": "markdown",
   "metadata": {},
   "source": [
    "- Какие статистики являются оценками матожидания, медианы и дисперсии? Посчитайте их для гамма-распределения с параметрами (2, 2)"
   ]
  },
  {
   "cell_type": "code",
   "execution_count": 18,
   "metadata": {},
   "outputs": [
    {
     "name": "stdout",
     "output_type": "stream",
     "text": [
      "3.848360909459457\n",
      "1.6929677289893783\n",
      "3.497251383151369\n"
     ]
    }
   ],
   "source": [
    "gamma_rv = stats.gamma(2,2)\n",
    "sample = gamma_rv.rvs(50)\n",
    "#your code here\n",
    "mean = sample.mean()\n",
    "var = np.var(sample)\n",
    "med = np.median(sample)\n",
    "print (mean)\n",
    "print (var)\n",
    "print (med)"
   ]
  },
  {
   "cell_type": "markdown",
   "metadata": {},
   "source": [
    "- Какое распределение имеет $\\bar{X}$ по ЦПТ? Если исходное распределение $\\mathcal{N}(5, 2)$. Сгенерировать выборки размером 50 из этого распределения и проверить. (построить распределение средних)"
   ]
  },
  {
   "cell_type": "code",
   "execution_count": 11,
   "metadata": {},
   "outputs": [
    {
     "data": {
      "text/plain": [
       "Text(0.5,1,'Обоснование ЦПТ')"
      ]
     },
     "execution_count": 11,
     "metadata": {},
     "output_type": "execute_result"
    },
    {
     "data": {
      "image/png": "[encoded data removed]",
      "text/plain": [
       "<Figure size 432x288 with 1 Axes>"
      ]
     },
     "metadata": {
      "needs_background": "light"
     },
     "output_type": "display_data"
    }
   ],
   "source": [
    "#будет нормальное распределение\n",
    "import matplotlib.pyplot as plt\n",
    "#your code here\n",
    "norm_rv = stats.norm(5,2)\n",
    "means = np.array([])\n",
    "for i in range(10000):\n",
    "    sample = norm_rv.rvs(50)\n",
    "    #your code here\n",
    "    means = np.append(means, sample.mean())\n",
    "plt.hist(means, bins = 30,density = True)\n",
    "plt.title('Обоснование ЦПТ')"
   ]
  },
  {
   "cell_type": "markdown",
   "metadata": {},
   "source": [
    "- Сгенерируйте выборки так, чтобы ЦПТ не выполнялось (распределение средних не было похоже нормальное)"
   ]
  },
  {
   "cell_type": "code",
   "execution_count": 32,
   "metadata": {},
   "outputs": [
    {
     "data": {
      "text/plain": [
       "Text(0.5,1,'ЦПТ не выполняется при случайной генерации распределения')"
      ]
     },
     "execution_count": 32,
     "metadata": {},
     "output_type": "execute_result"
    },
    {
     "data": {
      "image/png": "[encoded data removed]",
      "text/plain": [
       "<Figure size 432x288 with 1 Axes>"
      ]
     },
     "metadata": {
      "needs_background": "light"
     },
     "output_type": "display_data"
    }
   ],
   "source": [
    "#при случайной генерации распределения в каждой итерации цикла распределение не получается нормальным, но это и понятно\n",
    "from random import randint\n",
    "\n",
    "means = np.array([])\n",
    "for i in range(10000):\n",
    "    n = randint(0, 10)\n",
    "    norm_rv = stats.norm(n,0.1)\n",
    "    sample = norm_rv.rvs(20)\n",
    "    #your code here\n",
    "    means = np.append(means, sample.mean())\n",
    "plt.hist(means, bins = 30,density = True)\n",
    "plt.title('ЦПТ не выполняется при случайной генерации распределения')"
   ]
  },
  {
   "cell_type": "code",
   "execution_count": 53,
   "metadata": {},
   "outputs": [
    {
     "data": {
      "text/plain": [
       "Text(0.5,1,'ЦПТ не выполняется при крайне малой выборке')"
      ]
     },
     "execution_count": 53,
     "metadata": {},
     "output_type": "execute_result"
    },
    {
     "data": {
      "image/png": "[encoded data removed]",
      "text/plain": [
       "<Figure size 432x288 with 1 Axes>"
      ]
     },
     "metadata": {
      "needs_background": "light"
     },
     "output_type": "display_data"
    }
   ],
   "source": [
    "#занятно, что даже при огромном разбросе достичь \"смещение\" распределения средних в сторону от нормального не так просто\n",
    "#например так, логично, что в этом случае по сути получается по сути само распределение\n",
    "gamma_rv = stats.gamma(5,1000000)\n",
    "means = np.array([])\n",
    "for i in range(10000):\n",
    "    sample = gamma_rv.rvs(1)\n",
    "    means = np.append(means, sample.mean())\n",
    "plt.hist(means, bins = 30,density = True)\n",
    "plt.title('ЦПТ не выполняется при крайне малой выборке')\n",
    "#print(means)"
   ]
  },
  {
   "cell_type": "code",
   "execution_count": 54,
   "metadata": {},
   "outputs": [
    {
     "data": {
      "text/plain": [
       "Text(0.5,1,'При увеличившейся выборке ЦПТ выполняется')"
      ]
     },
     "execution_count": 54,
     "metadata": {},
     "output_type": "execute_result"
    },
    {
     "data": {
      "image/png": "[encoded data removed]",
      "text/plain": [
       "<Figure size 432x288 with 1 Axes>"
      ]
     },
     "metadata": {
      "needs_background": "light"
     },
     "output_type": "display_data"
    }
   ],
   "source": [
    "#а если размер выборки увеличить, то уже выполняется\n",
    "gamma_rv = stats.gamma(5,1000000)\n",
    "means = np.array([])\n",
    "for i in range(10000):\n",
    "    sample = gamma_rv.rvs(1000)\n",
    "    means = np.append(means, sample.mean())\n",
    "plt.hist(means, bins = 30,density = True)\n",
    "plt.title('При увеличившейся выборке ЦПТ выполняется')"
   ]
  },
  {
   "cell_type": "markdown",
   "metadata": {},
   "source": [
    "- Сделайте z-преобразование для данного распределения и посчитайте новое матожидание и дисперсию "
   ]
  },
  {
   "cell_type": "code",
   "execution_count": 86,
   "metadata": {},
   "outputs": [
    {
     "name": "stdout",
     "output_type": "stream",
     "text": [
      "1.1102230246251565e-16\n",
      "1.0\n"
     ]
    }
   ],
   "source": [
    "expon_rv = stats.expon(3)\n",
    "sample = expon_rv.rvs(100)\n",
    "new_rv = np.array([(sample[i] - sample.mean())/sample.std() for i in range(len(sample))])#your code here\n",
    "print(new_rv.mean())\n",
    "print(new_rv.var())\n",
    "#насколько я понимаю, абсолютного нуля здесь не достичь, т.к. происходят операции с типом float, но 15 нулей после запятой\n",
    "#показываются нам искомое: среднее значение = 0 и дисперсия = 1 "
   ]
  },
  {
   "cell_type": "markdown",
   "metadata": {},
   "source": [
    "## Доверительные интервалы и гипотезы"
   ]
  },
  {
   "cell_type": "markdown",
   "metadata": {},
   "source": [
    "В данных задачах используйте встроенную функцию, позволяющую искать квантили случайной величины **your_rv**.ppf, а также https://gallery.shinyapps.io/dist_calc/ для визуальной картины"
   ]
  },
  {
   "cell_type": "markdown",
   "metadata": {},
   "source": [
    "- Постройте 90% доверительный интервал для среднего значения $\\mathcal{\\chi^2_{10}}$."
   ]
  },
  {
   "cell_type": "code",
   "execution_count": 97,
   "metadata": {},
   "outputs": [
    {
     "data": {
      "text/plain": [
       "15.987179172105263"
      ]
     },
     "execution_count": 97,
     "metadata": {},
     "output_type": "execute_result"
    }
   ],
   "source": [
    "#your code here\n",
    "chi_rv = stats.chi2 (10)\n",
    "DI_90 = chi_rv.ppf(q=0.90)\n",
    "DI_90"
   ]
  },
  {
   "cell_type": "markdown",
   "metadata": {},
   "source": [
    "- Постройте ДИ для распределения Стьюдента с df = 15 уровня доверия 90%  и 95%. Какой интервал шире?"
   ]
  },
  {
   "cell_type": "code",
   "execution_count": 100,
   "metadata": {},
   "outputs": [
    {
     "name": "stdout",
     "output_type": "stream",
     "text": [
      "1.3406056078504547\n",
      "1.7530503556925547\n"
     ]
    }
   ],
   "source": [
    "#95% интервал шире, чем 90%\n",
    "student_rv = stats.t(15)\n",
    "DI_90 = student_rv.ppf(q=0.90)\n",
    "DI_95 = student_rv.ppf(q=0.95)\n",
    "print(DI_90)\n",
    "print(DI_95)"
   ]
  },
  {
   "cell_type": "markdown",
   "metadata": {},
   "source": [
    "- Сгенерируйте 2 выборки с одинаковыми параметрами, отличающиеся в 2 раза по размеру. Постройте 2 90% ДИ. Чем они отличаются? Распределение $\\mathcal{N}(0,2)$ "
   ]
  },
  {
   "cell_type": "code",
   "execution_count": 218,
   "metadata": {},
   "outputs": [
    {
     "name": "stdout",
     "output_type": "stream",
     "text": [
      "2.5631031310892007\n",
      "6.515888623950078\n",
      "6.581402482187936\n"
     ]
    }
   ],
   "source": [
    "#наверное не понял, в чём подвох в задании :)\n",
    "#доверительные интервалы для этих выборок примерно равны, при рандоме один ДИ может быть как больше так и меньше другого\n",
    "#даже если сделать одну выборку в 10 раз больше другой\n",
    "norm_rv = stats.norm(0, 2)\n",
    "print(norm_rv.ppf(0.90))\n",
    "#your code here\n",
    "\n",
    "N1 = 10000\n",
    "N2 = 200000\n",
    "a = np.random.normal(0, 2, N1)\n",
    "b = np.random.normal(0, 2, N2)\n",
    "mean1, sigma1 = a.mean(), a.std()\n",
    "mean2, sigma2 = b.mean(), b.std()\n",
    "conf_int_a = stats.norm.interval(0.90, loc=mean1, scale=sigma1)\n",
    "conf_int_b = stats.norm.interval(0.90, loc=mean2, scale=sigma2)\n",
    "print(conf_int_a[1] - conf_int_a[0])\n",
    "print(conf_int_b[1] - conf_int_b[0])"
   ]
  },
  {
   "cell_type": "markdown",
   "metadata": {},
   "source": [
    "- Пусть $H_0: M=100$. Мы получили $p = 0,12$ и не смогли отклонить нулевую гипотезу. Однако позже выяснилось, что среднее в генеральной совокупности равняется 114. Ошибку какого рода мы допустили?"
   ]
  },
  {
   "cell_type": "code",
   "execution_count": null,
   "metadata": {},
   "outputs": [],
   "source": [
    "#your answer here\n",
    "#это ошибка второго рода - ложно отрицательная, т.е. была принята неверная гипотеза"
   ]
  },
  {
   "cell_type": "markdown",
   "metadata": {},
   "source": [
    "#### Какие рассуждения относительно p-value верные?\n",
    "\n",
    "- Елси p уровень значимости равен 0,003, то вероятность того, что верна нулевая гипотеза также равняется  0,003.\n",
    "- Если бы в исследовании мы получили $p=0,9$, это означало бы, что верна нулевая гипотеза.\n",
    "- Чем меньше p уровень значимости, тем хуже гипотеза.\n"
   ]
  },
  {
   "cell_type": "code",
   "execution_count": null,
   "metadata": {},
   "outputs": [],
   "source": [
    "#your answer here\n",
    "1 - неверно\n",
    "2 - неверно (не отвергаем гипотезу)\n",
    "3 - неверно (тем меньше p, тем больше оснований отвергать гипотезу)"
   ]
  },
  {
   "cell_type": "markdown",
   "metadata": {},
   "source": [
    "- Какое $p$-value будете использовать, если отклонять $H_0$ рисковано: $0.05$ или $0.01$? Является ли 99% доверительный интервал хорошей оценкой в общем случае?"
   ]
  },
  {
   "cell_type": "code",
   "execution_count": null,
   "metadata": {},
   "outputs": [],
   "source": [
    "#your answer here\n",
    "если отклонять рисковано - будем использовать p value = 0.01\n",
    "\n",
    "является ли 99% ДИ - зависит от задачи, является хорошим, если требуется высокая точность, если исходные данные достаточно\n",
    "хороши и точны"
   ]
  },
  {
   "cell_type": "markdown",
   "metadata": {},
   "source": [
    "## Стьюдент и корреляция"
   ]
  },
  {
   "cell_type": "markdown",
   "metadata": {},
   "source": [
    "- Изобразите графики плотности распределения Стьюдента для нескольких значений df= (5,10, 20, 40) и $\\mathcal{N}(0,1)$. В чем отличия?"
   ]
  },
  {
   "cell_type": "code",
   "execution_count": 223,
   "metadata": {},
   "outputs": [
    {
     "data": {
      "text/plain": [
       "<matplotlib.legend.Legend at 0x1f6a2a46cc0>"
      ]
     },
     "execution_count": 223,
     "metadata": {},
     "output_type": "execute_result"
    },
    {
     "data": {
      "image/png": "[encoded data removed]",
      "text/plain": [
       "<Figure size 864x432 with 1 Axes>"
      ]
     },
     "metadata": {
      "needs_background": "light"
     },
     "output_type": "display_data"
    }
   ],
   "source": [
    "#чем больше степени свободы, тем ближе распределение Стьюдента к нормальному распределению\n",
    "%matplotlib inline\n",
    "\n",
    "t_rv_5 = stats.t(5)\n",
    "t_rv_10 = stats.t(10)\n",
    "t_rv_20 = stats.t(20)\n",
    "t_rv_40 = stats.t(40)\n",
    "norm_rv = stats.norm(0, 1)\n",
    "x = np.linspace(-4, 4, 100)\n",
    "\n",
    "plt.figure(figsize=(12,6))\n",
    "\n",
    "pdf_5 = t_rv_5.pdf(x)\n",
    "pdf_10 = t_rv_10.pdf(x)\n",
    "pdf_20 = t_rv_20.pdf(x)\n",
    "pdf_40 = t_rv_40.pdf(x)\n",
    "pdf_norm = norm_rv.pdf(x)\n",
    "plt.plot(x, pdf_5)\n",
    "plt.plot(x, pdf_10)\n",
    "plt.plot(x, pdf_20)\n",
    "plt.plot(x, pdf_40)\n",
    "plt.plot(x, pdf_norm)\n",
    "\n",
    "plt.legend(['Student df=5', 'Student df=10', 'Student df=20','Student df=40','norm a=0, sigma=1'])"
   ]
  },
  {
   "cell_type": "markdown",
   "metadata": {},
   "source": [
    "- Постройте две выборки, чтобы их корреляция была равна -1. Изобразите зависимость на графике."
   ]
  },
  {
   "cell_type": "code",
   "execution_count": 228,
   "metadata": {},
   "outputs": [
    {
     "data": {
      "text/plain": [
       "Text(0.5,1,'Отрицательная корреляция с коэффициентом -1')"
      ]
     },
     "execution_count": 228,
     "metadata": {},
     "output_type": "execute_result"
    },
    {
     "data": {
      "image/png": "[encoded data removed]",
      "text/plain": [
       "<Figure size 432x288 with 1 Axes>"
      ]
     },
     "metadata": {
      "needs_background": "light"
     },
     "output_type": "display_data"
    }
   ],
   "source": [
    "#your code here\n",
    "a = []\n",
    "b = []\n",
    "ai = 0\n",
    "bi = 100\n",
    "for i in range(100):\n",
    "    a.append(ai)\n",
    "    ai +=1\n",
    "for j in range(100):\n",
    "    b.append(bi)\n",
    "    bi -=1\n",
    "plt.plot(a, b)\n",
    "plt.title('Отрицательная корреляция с коэффициентом -1')"
   ]
  },
  {
   "cell_type": "markdown",
   "metadata": {},
   "source": [
    "- Постройте две выборки, чтобы их корреляция была равна 0. Изобразите зависимость на графике."
   ]
  },
  {
   "cell_type": "code",
   "execution_count": 233,
   "metadata": {},
   "outputs": [
    {
     "data": {
      "text/plain": [
       "Text(0.5,1,'Нулевая корреляция')"
      ]
     },
     "execution_count": 233,
     "metadata": {},
     "output_type": "execute_result"
    },
    {
     "data": {
      "image/png": "[encoded data removed]",
      "text/plain": [
       "<Figure size 432x288 with 1 Axes>"
      ]
     },
     "metadata": {
      "needs_background": "light"
     },
     "output_type": "display_data"
    }
   ],
   "source": [
    "#your code here\n",
    "a = []\n",
    "b = []\n",
    "for i in range(100):\n",
    "    a.append(np.random.randint(0,100,1))\n",
    "\n",
    "for j in range(100):\n",
    "    b.append(np.random.randint(0,100,1))\n",
    "\n",
    "plt.scatter(a, b)\n",
    "plt.title('Нулевая корреляция')\n"
   ]
  },
  {
   "cell_type": "markdown",
   "metadata": {},
   "source": [
    "- Сгенерируйте 2 выборки из $\\mathcal{N}(4,2)$, посчитайте их общий ранг и сумму рангов в каждой выборке."
   ]
  },
  {
   "cell_type": "code",
   "execution_count": 304,
   "metadata": {},
   "outputs": [
    {
     "name": "stdout",
     "output_type": "stream",
     "text": [
      "9967\n",
      "9933\n",
      "19900\n"
     ]
    }
   ],
   "source": [
    "#надеюсь я в результате правильно понял это задание\n",
    "norm_rv = stats.norm(4,2)\n",
    "sample_1 = norm_rv.rvs(100)\n",
    "sample_2 = norm_rv.rvs(100)\n",
    "sample = np.concatenate((sample_1, sample_2))\n",
    "\n",
    "#your code here\n",
    "a = list(zip(np.argsort(sample_1),sample_1))\n",
    "b = list(zip(np.argsort(sample_2),sample_2))\n",
    "ab = list(zip(np.argsort(sample),sample))\n",
    "sum_a = sum_b = sum_ab =0\n",
    "for elem in ab:\n",
    "    if elem[1] in list(sample_1):\n",
    "        sum_a += elem[0]\n",
    "    else:\n",
    "        sum_b += elem[0]\n",
    "\n",
    "print(sum_a)\n",
    "print(sum_b)\n",
    "\n",
    "print(sum(np.argsort(sample)))"
   ]
  },
  {
   "cell_type": "code",
   "execution_count": null,
   "metadata": {},
   "outputs": [],
   "source": []
  }
 ],
 "metadata": {
  "kernelspec": {
   "display_name": "Python 3",
   "language": "python",
   "name": "python3"
  },
  "language_info": {
   "codemirror_mode": {
    "name": "ipython",
    "version": 3
   },
   "file_extension": ".py",
   "mimetype": "text/x-python",
   "name": "python",
   "nbconvert_exporter": "python",
   "pygments_lexer": "ipython3",
   "version": "3.7.0"
  }
 },
 "nbformat": 4,
 "nbformat_minor": 2
}
