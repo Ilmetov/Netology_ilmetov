{
 "cells": [
  {
   "cell_type": "code",
   "execution_count": 316,
   "metadata": {},
   "outputs": [],
   "source": [
    "import pandas as pd\n",
    "import numpy as np\n",
    "import matplotlib.pyplot as plt\n",
    "%matplotlib inline\n",
    "import seaborn as sns"
   ]
  },
  {
   "cell_type": "markdown",
   "metadata": {},
   "source": [
    "## Kobe Bryant  shot selection"
   ]
  },
  {
   "cell_type": "markdown",
   "metadata": {},
   "source": [
    "Cсылка на соревнование: https://www.kaggle.com/c/kobe-bryant-shot-selection"
   ]
  },
  {
   "cell_type": "markdown",
   "metadata": {},
   "source": [
    "Goal: Fun and education"
   ]
  },
  {
   "cell_type": "markdown",
   "metadata": {},
   "source": [
    "Using 20 years of data on Kobe's swishes and misses, can you predict which shots will find the bottom of the net? This competition is well suited for practicing classification basics, feature engineering, and time series analysis. Practice got Kobe an eight-figure contract and 5 championship rings. What will it get you?"
   ]
  },
  {
   "cell_type": "markdown",
   "metadata": {},
   "source": [
    "This data contains the location and circumstances of every field goal attempted by Kobe Bryant took during his 20-year career. Your task is to predict whether the basket went in (shot_made_flag).\n",
    "\n",
    "We have removed 5000 of the shot_made_flags (represented as missing values in the csv file). These are the test set shots for which you must submit a prediction. You are provided a sample submission file with the correct shot_ids needed for a valid prediction."
   ]
  },
  {
   "cell_type": "code",
   "execution_count": 317,
   "metadata": {},
   "outputs": [],
   "source": [
    "kobe = pd.read_csv('data/Kobe.csv')"
   ]
  },
  {
   "cell_type": "code",
   "execution_count": 318,
   "metadata": {},
   "outputs": [
    {
     "data": {
      "text/html": [
       "<div>\n",
       "<style scoped>\n",
       "    .dataframe tbody tr th:only-of-type {\n",
       "        vertical-align: middle;\n",
       "    }\n",
       "\n",
       "    .dataframe tbody tr th {\n",
       "        vertical-align: top;\n",
       "    }\n",
       "\n",
       "    .dataframe thead th {\n",
       "        text-align: right;\n",
       "    }\n",
       "</style>\n",
       "<table border=\"1\" class=\"dataframe\">\n",
       "  <thead>\n",
       "    <tr style=\"text-align: right;\">\n",
       "      <th></th>\n",
       "      <th>action_type</th>\n",
       "      <th>combined_shot_type</th>\n",
       "      <th>game_event_id</th>\n",
       "      <th>game_id</th>\n",
       "      <th>lat</th>\n",
       "      <th>loc_x</th>\n",
       "      <th>loc_y</th>\n",
       "      <th>lon</th>\n",
       "      <th>minutes_remaining</th>\n",
       "      <th>period</th>\n",
       "      <th>...</th>\n",
       "      <th>shot_type</th>\n",
       "      <th>shot_zone_area</th>\n",
       "      <th>shot_zone_basic</th>\n",
       "      <th>shot_zone_range</th>\n",
       "      <th>team_id</th>\n",
       "      <th>team_name</th>\n",
       "      <th>game_date</th>\n",
       "      <th>matchup</th>\n",
       "      <th>opponent</th>\n",
       "      <th>shot_id</th>\n",
       "    </tr>\n",
       "  </thead>\n",
       "  <tbody>\n",
       "    <tr>\n",
       "      <th>0</th>\n",
       "      <td>Jump Shot</td>\n",
       "      <td>Jump Shot</td>\n",
       "      <td>10</td>\n",
       "      <td>20000012</td>\n",
       "      <td>33.9723</td>\n",
       "      <td>167</td>\n",
       "      <td>72</td>\n",
       "      <td>-118.1028</td>\n",
       "      <td>10</td>\n",
       "      <td>1</td>\n",
       "      <td>...</td>\n",
       "      <td>2PT Field Goal</td>\n",
       "      <td>Right Side(R)</td>\n",
       "      <td>Mid-Range</td>\n",
       "      <td>16-24 ft.</td>\n",
       "      <td>1610612747</td>\n",
       "      <td>Los Angeles Lakers</td>\n",
       "      <td>2000-10-31</td>\n",
       "      <td>LAL @ POR</td>\n",
       "      <td>POR</td>\n",
       "      <td>1</td>\n",
       "    </tr>\n",
       "    <tr>\n",
       "      <th>1</th>\n",
       "      <td>Jump Shot</td>\n",
       "      <td>Jump Shot</td>\n",
       "      <td>12</td>\n",
       "      <td>20000012</td>\n",
       "      <td>34.0443</td>\n",
       "      <td>-157</td>\n",
       "      <td>0</td>\n",
       "      <td>-118.4268</td>\n",
       "      <td>10</td>\n",
       "      <td>1</td>\n",
       "      <td>...</td>\n",
       "      <td>2PT Field Goal</td>\n",
       "      <td>Left Side(L)</td>\n",
       "      <td>Mid-Range</td>\n",
       "      <td>8-16 ft.</td>\n",
       "      <td>1610612747</td>\n",
       "      <td>Los Angeles Lakers</td>\n",
       "      <td>2000-10-31</td>\n",
       "      <td>LAL @ POR</td>\n",
       "      <td>POR</td>\n",
       "      <td>2</td>\n",
       "    </tr>\n",
       "    <tr>\n",
       "      <th>2</th>\n",
       "      <td>Jump Shot</td>\n",
       "      <td>Jump Shot</td>\n",
       "      <td>35</td>\n",
       "      <td>20000012</td>\n",
       "      <td>33.9093</td>\n",
       "      <td>-101</td>\n",
       "      <td>135</td>\n",
       "      <td>-118.3708</td>\n",
       "      <td>7</td>\n",
       "      <td>1</td>\n",
       "      <td>...</td>\n",
       "      <td>2PT Field Goal</td>\n",
       "      <td>Left Side Center(LC)</td>\n",
       "      <td>Mid-Range</td>\n",
       "      <td>16-24 ft.</td>\n",
       "      <td>1610612747</td>\n",
       "      <td>Los Angeles Lakers</td>\n",
       "      <td>2000-10-31</td>\n",
       "      <td>LAL @ POR</td>\n",
       "      <td>POR</td>\n",
       "      <td>3</td>\n",
       "    </tr>\n",
       "    <tr>\n",
       "      <th>3</th>\n",
       "      <td>Jump Shot</td>\n",
       "      <td>Jump Shot</td>\n",
       "      <td>43</td>\n",
       "      <td>20000012</td>\n",
       "      <td>33.8693</td>\n",
       "      <td>138</td>\n",
       "      <td>175</td>\n",
       "      <td>-118.1318</td>\n",
       "      <td>6</td>\n",
       "      <td>1</td>\n",
       "      <td>...</td>\n",
       "      <td>2PT Field Goal</td>\n",
       "      <td>Right Side Center(RC)</td>\n",
       "      <td>Mid-Range</td>\n",
       "      <td>16-24 ft.</td>\n",
       "      <td>1610612747</td>\n",
       "      <td>Los Angeles Lakers</td>\n",
       "      <td>2000-10-31</td>\n",
       "      <td>LAL @ POR</td>\n",
       "      <td>POR</td>\n",
       "      <td>4</td>\n",
       "    </tr>\n",
       "    <tr>\n",
       "      <th>4</th>\n",
       "      <td>Driving Dunk Shot</td>\n",
       "      <td>Dunk</td>\n",
       "      <td>155</td>\n",
       "      <td>20000012</td>\n",
       "      <td>34.0443</td>\n",
       "      <td>0</td>\n",
       "      <td>0</td>\n",
       "      <td>-118.2698</td>\n",
       "      <td>6</td>\n",
       "      <td>2</td>\n",
       "      <td>...</td>\n",
       "      <td>2PT Field Goal</td>\n",
       "      <td>Center(C)</td>\n",
       "      <td>Restricted Area</td>\n",
       "      <td>Less Than 8 ft.</td>\n",
       "      <td>1610612747</td>\n",
       "      <td>Los Angeles Lakers</td>\n",
       "      <td>2000-10-31</td>\n",
       "      <td>LAL @ POR</td>\n",
       "      <td>POR</td>\n",
       "      <td>5</td>\n",
       "    </tr>\n",
       "  </tbody>\n",
       "</table>\n",
       "<p>5 rows × 25 columns</p>\n",
       "</div>"
      ],
      "text/plain": [
       "         action_type combined_shot_type  game_event_id   game_id      lat  \\\n",
       "0          Jump Shot          Jump Shot             10  20000012  33.9723   \n",
       "1          Jump Shot          Jump Shot             12  20000012  34.0443   \n",
       "2          Jump Shot          Jump Shot             35  20000012  33.9093   \n",
       "3          Jump Shot          Jump Shot             43  20000012  33.8693   \n",
       "4  Driving Dunk Shot               Dunk            155  20000012  34.0443   \n",
       "\n",
       "   loc_x  loc_y       lon  minutes_remaining  period   ...          shot_type  \\\n",
       "0    167     72 -118.1028                 10       1   ...     2PT Field Goal   \n",
       "1   -157      0 -118.4268                 10       1   ...     2PT Field Goal   \n",
       "2   -101    135 -118.3708                  7       1   ...     2PT Field Goal   \n",
       "3    138    175 -118.1318                  6       1   ...     2PT Field Goal   \n",
       "4      0      0 -118.2698                  6       2   ...     2PT Field Goal   \n",
       "\n",
       "          shot_zone_area  shot_zone_basic  shot_zone_range     team_id  \\\n",
       "0          Right Side(R)        Mid-Range        16-24 ft.  1610612747   \n",
       "1           Left Side(L)        Mid-Range         8-16 ft.  1610612747   \n",
       "2   Left Side Center(LC)        Mid-Range        16-24 ft.  1610612747   \n",
       "3  Right Side Center(RC)        Mid-Range        16-24 ft.  1610612747   \n",
       "4              Center(C)  Restricted Area  Less Than 8 ft.  1610612747   \n",
       "\n",
       "            team_name   game_date    matchup opponent  shot_id  \n",
       "0  Los Angeles Lakers  2000-10-31  LAL @ POR      POR        1  \n",
       "1  Los Angeles Lakers  2000-10-31  LAL @ POR      POR        2  \n",
       "2  Los Angeles Lakers  2000-10-31  LAL @ POR      POR        3  \n",
       "3  Los Angeles Lakers  2000-10-31  LAL @ POR      POR        4  \n",
       "4  Los Angeles Lakers  2000-10-31  LAL @ POR      POR        5  \n",
       "\n",
       "[5 rows x 25 columns]"
      ]
     },
     "execution_count": 318,
     "metadata": {},
     "output_type": "execute_result"
    }
   ],
   "source": [
    "kobe.head()"
   ]
  },
  {
   "cell_type": "code",
   "execution_count": 319,
   "metadata": {},
   "outputs": [],
   "source": [
    "target = 'shot_made_flag'"
   ]
  },
  {
   "cell_type": "markdown",
   "metadata": {},
   "source": [
    "**Задания:**\n",
    "\n",
    "1. Провести анализ данных. Много хороших примеров анализа можно посмотреть здесь https://www.kaggle.com/c/kobe-bryant-shot-selection/kernels\n",
    "2. Подготовить фичи для обучения модели - нагенерить признаков, обработать пропущенные значения, проверить на возможные выбросы, обработать категориальные признаки и др.\n",
    "3. Обучить линейную модель, Lasso, Ridge на тех же признаках - построить сравнительную таблицу коэффициентов, сделать заключения о том, как меняется величина коэффициентов, какие зануляются. Посчитать RSS\n",
    "\n",
    "**Дополнительно**\n",
    "4. Сравнить результаты на тестовом наборе данных - сделать train_test_split в самом начале, подготовить переменные, сравнить результаты работы классификаторов (те же 3), метрика ROC AUC"
   ]
  },
  {
   "cell_type": "code",
   "execution_count": 320,
   "metadata": {},
   "outputs": [
    {
     "data": {
      "text/html": [
       "<div>\n",
       "<style scoped>\n",
       "    .dataframe tbody tr th:only-of-type {\n",
       "        vertical-align: middle;\n",
       "    }\n",
       "\n",
       "    .dataframe tbody tr th {\n",
       "        vertical-align: top;\n",
       "    }\n",
       "\n",
       "    .dataframe thead th {\n",
       "        text-align: right;\n",
       "    }\n",
       "</style>\n",
       "<table border=\"1\" class=\"dataframe\">\n",
       "  <thead>\n",
       "    <tr style=\"text-align: right;\">\n",
       "      <th></th>\n",
       "      <th>game_event_id</th>\n",
       "      <th>game_id</th>\n",
       "      <th>lat</th>\n",
       "      <th>loc_x</th>\n",
       "      <th>loc_y</th>\n",
       "      <th>lon</th>\n",
       "      <th>minutes_remaining</th>\n",
       "      <th>period</th>\n",
       "      <th>playoffs</th>\n",
       "      <th>seconds_remaining</th>\n",
       "      <th>shot_distance</th>\n",
       "      <th>shot_made_flag</th>\n",
       "      <th>team_id</th>\n",
       "      <th>shot_id</th>\n",
       "    </tr>\n",
       "  </thead>\n",
       "  <tbody>\n",
       "    <tr>\n",
       "      <th>count</th>\n",
       "      <td>30697.000000</td>\n",
       "      <td>3.069700e+04</td>\n",
       "      <td>30697.000000</td>\n",
       "      <td>30697.000000</td>\n",
       "      <td>30697.000000</td>\n",
       "      <td>30697.000000</td>\n",
       "      <td>30697.000000</td>\n",
       "      <td>30697.000000</td>\n",
       "      <td>30697.000000</td>\n",
       "      <td>30697.000000</td>\n",
       "      <td>30697.000000</td>\n",
       "      <td>25697.000000</td>\n",
       "      <td>3.069700e+04</td>\n",
       "      <td>30697.000000</td>\n",
       "    </tr>\n",
       "    <tr>\n",
       "      <th>mean</th>\n",
       "      <td>249.190800</td>\n",
       "      <td>2.476407e+07</td>\n",
       "      <td>33.953192</td>\n",
       "      <td>7.110499</td>\n",
       "      <td>91.107535</td>\n",
       "      <td>-118.262690</td>\n",
       "      <td>4.885624</td>\n",
       "      <td>2.519432</td>\n",
       "      <td>0.146562</td>\n",
       "      <td>28.365085</td>\n",
       "      <td>13.437437</td>\n",
       "      <td>0.446161</td>\n",
       "      <td>1.610613e+09</td>\n",
       "      <td>15349.000000</td>\n",
       "    </tr>\n",
       "    <tr>\n",
       "      <th>std</th>\n",
       "      <td>150.003712</td>\n",
       "      <td>7.755175e+06</td>\n",
       "      <td>0.087791</td>\n",
       "      <td>110.124578</td>\n",
       "      <td>87.791361</td>\n",
       "      <td>0.110125</td>\n",
       "      <td>3.449897</td>\n",
       "      <td>1.153665</td>\n",
       "      <td>0.353674</td>\n",
       "      <td>17.478949</td>\n",
       "      <td>9.374189</td>\n",
       "      <td>0.497103</td>\n",
       "      <td>0.000000e+00</td>\n",
       "      <td>8861.604943</td>\n",
       "    </tr>\n",
       "    <tr>\n",
       "      <th>min</th>\n",
       "      <td>2.000000</td>\n",
       "      <td>2.000001e+07</td>\n",
       "      <td>33.253300</td>\n",
       "      <td>-250.000000</td>\n",
       "      <td>-44.000000</td>\n",
       "      <td>-118.519800</td>\n",
       "      <td>0.000000</td>\n",
       "      <td>1.000000</td>\n",
       "      <td>0.000000</td>\n",
       "      <td>0.000000</td>\n",
       "      <td>0.000000</td>\n",
       "      <td>0.000000</td>\n",
       "      <td>1.610613e+09</td>\n",
       "      <td>1.000000</td>\n",
       "    </tr>\n",
       "    <tr>\n",
       "      <th>25%</th>\n",
       "      <td>110.000000</td>\n",
       "      <td>2.050008e+07</td>\n",
       "      <td>33.884300</td>\n",
       "      <td>-68.000000</td>\n",
       "      <td>4.000000</td>\n",
       "      <td>-118.337800</td>\n",
       "      <td>2.000000</td>\n",
       "      <td>1.000000</td>\n",
       "      <td>0.000000</td>\n",
       "      <td>13.000000</td>\n",
       "      <td>5.000000</td>\n",
       "      <td>0.000000</td>\n",
       "      <td>1.610613e+09</td>\n",
       "      <td>7675.000000</td>\n",
       "    </tr>\n",
       "    <tr>\n",
       "      <th>50%</th>\n",
       "      <td>253.000000</td>\n",
       "      <td>2.090035e+07</td>\n",
       "      <td>33.970300</td>\n",
       "      <td>0.000000</td>\n",
       "      <td>74.000000</td>\n",
       "      <td>-118.269800</td>\n",
       "      <td>5.000000</td>\n",
       "      <td>3.000000</td>\n",
       "      <td>0.000000</td>\n",
       "      <td>28.000000</td>\n",
       "      <td>15.000000</td>\n",
       "      <td>0.000000</td>\n",
       "      <td>1.610613e+09</td>\n",
       "      <td>15349.000000</td>\n",
       "    </tr>\n",
       "    <tr>\n",
       "      <th>75%</th>\n",
       "      <td>368.000000</td>\n",
       "      <td>2.960047e+07</td>\n",
       "      <td>34.040300</td>\n",
       "      <td>95.000000</td>\n",
       "      <td>160.000000</td>\n",
       "      <td>-118.174800</td>\n",
       "      <td>8.000000</td>\n",
       "      <td>3.000000</td>\n",
       "      <td>0.000000</td>\n",
       "      <td>43.000000</td>\n",
       "      <td>21.000000</td>\n",
       "      <td>1.000000</td>\n",
       "      <td>1.610613e+09</td>\n",
       "      <td>23023.000000</td>\n",
       "    </tr>\n",
       "    <tr>\n",
       "      <th>max</th>\n",
       "      <td>659.000000</td>\n",
       "      <td>4.990009e+07</td>\n",
       "      <td>34.088300</td>\n",
       "      <td>248.000000</td>\n",
       "      <td>791.000000</td>\n",
       "      <td>-118.021800</td>\n",
       "      <td>11.000000</td>\n",
       "      <td>7.000000</td>\n",
       "      <td>1.000000</td>\n",
       "      <td>59.000000</td>\n",
       "      <td>79.000000</td>\n",
       "      <td>1.000000</td>\n",
       "      <td>1.610613e+09</td>\n",
       "      <td>30697.000000</td>\n",
       "    </tr>\n",
       "  </tbody>\n",
       "</table>\n",
       "</div>"
      ],
      "text/plain": [
       "       game_event_id       game_id           lat         loc_x         loc_y  \\\n",
       "count   30697.000000  3.069700e+04  30697.000000  30697.000000  30697.000000   \n",
       "mean      249.190800  2.476407e+07     33.953192      7.110499     91.107535   \n",
       "std       150.003712  7.755175e+06      0.087791    110.124578     87.791361   \n",
       "min         2.000000  2.000001e+07     33.253300   -250.000000    -44.000000   \n",
       "25%       110.000000  2.050008e+07     33.884300    -68.000000      4.000000   \n",
       "50%       253.000000  2.090035e+07     33.970300      0.000000     74.000000   \n",
       "75%       368.000000  2.960047e+07     34.040300     95.000000    160.000000   \n",
       "max       659.000000  4.990009e+07     34.088300    248.000000    791.000000   \n",
       "\n",
       "                lon  minutes_remaining        period      playoffs  \\\n",
       "count  30697.000000       30697.000000  30697.000000  30697.000000   \n",
       "mean    -118.262690           4.885624      2.519432      0.146562   \n",
       "std        0.110125           3.449897      1.153665      0.353674   \n",
       "min     -118.519800           0.000000      1.000000      0.000000   \n",
       "25%     -118.337800           2.000000      1.000000      0.000000   \n",
       "50%     -118.269800           5.000000      3.000000      0.000000   \n",
       "75%     -118.174800           8.000000      3.000000      0.000000   \n",
       "max     -118.021800          11.000000      7.000000      1.000000   \n",
       "\n",
       "       seconds_remaining  shot_distance  shot_made_flag       team_id  \\\n",
       "count       30697.000000   30697.000000    25697.000000  3.069700e+04   \n",
       "mean           28.365085      13.437437        0.446161  1.610613e+09   \n",
       "std            17.478949       9.374189        0.497103  0.000000e+00   \n",
       "min             0.000000       0.000000        0.000000  1.610613e+09   \n",
       "25%            13.000000       5.000000        0.000000  1.610613e+09   \n",
       "50%            28.000000      15.000000        0.000000  1.610613e+09   \n",
       "75%            43.000000      21.000000        1.000000  1.610613e+09   \n",
       "max            59.000000      79.000000        1.000000  1.610613e+09   \n",
       "\n",
       "            shot_id  \n",
       "count  30697.000000  \n",
       "mean   15349.000000  \n",
       "std     8861.604943  \n",
       "min        1.000000  \n",
       "25%     7675.000000  \n",
       "50%    15349.000000  \n",
       "75%    23023.000000  \n",
       "max    30697.000000  "
      ]
     },
     "execution_count": 320,
     "metadata": {},
     "output_type": "execute_result"
    }
   ],
   "source": [
    "kobe.describe()"
   ]
  },
  {
   "cell_type": "code",
   "execution_count": 321,
   "metadata": {},
   "outputs": [],
   "source": [
    "#сделаем сразу массив not_needed - куда будем записывать параметры, которые затем удалим.\n",
    "not_needed = []"
   ]
  },
  {
   "cell_type": "code",
   "execution_count": 322,
   "metadata": {},
   "outputs": [
    {
     "name": "stdout",
     "output_type": "stream",
     "text": [
      "<class 'pandas.core.frame.DataFrame'>\n",
      "RangeIndex: 30697 entries, 0 to 30696\n",
      "Data columns (total 25 columns):\n",
      "action_type           30697 non-null object\n",
      "combined_shot_type    30697 non-null object\n",
      "game_event_id         30697 non-null int64\n",
      "game_id               30697 non-null int64\n",
      "lat                   30697 non-null float64\n",
      "loc_x                 30697 non-null int64\n",
      "loc_y                 30697 non-null int64\n",
      "lon                   30697 non-null float64\n",
      "minutes_remaining     30697 non-null int64\n",
      "period                30697 non-null int64\n",
      "playoffs              30697 non-null int64\n",
      "season                30697 non-null object\n",
      "seconds_remaining     30697 non-null int64\n",
      "shot_distance         30697 non-null int64\n",
      "shot_made_flag        25697 non-null float64\n",
      "shot_type             30697 non-null object\n",
      "shot_zone_area        30697 non-null object\n",
      "shot_zone_basic       30697 non-null object\n",
      "shot_zone_range       30697 non-null object\n",
      "team_id               30697 non-null int64\n",
      "team_name             30697 non-null object\n",
      "game_date             30697 non-null object\n",
      "matchup               30697 non-null object\n",
      "opponent              30697 non-null object\n",
      "shot_id               30697 non-null int64\n",
      "dtypes: float64(3), int64(11), object(11)\n",
      "memory usage: 5.9+ MB\n"
     ]
    }
   ],
   "source": [
    "kobe.info()"
   ]
  },
  {
   "cell_type": "code",
   "execution_count": 323,
   "metadata": {},
   "outputs": [
    {
     "data": {
      "text/plain": [
       "(30697, 25)"
      ]
     },
     "execution_count": 323,
     "metadata": {},
     "output_type": "execute_result"
    }
   ],
   "source": [
    "kobe.shape"
   ]
  },
  {
   "cell_type": "code",
   "execution_count": 324,
   "metadata": {},
   "outputs": [
    {
     "data": {
      "text/html": [
       "<div>\n",
       "<style scoped>\n",
       "    .dataframe tbody tr th:only-of-type {\n",
       "        vertical-align: middle;\n",
       "    }\n",
       "\n",
       "    .dataframe tbody tr th {\n",
       "        vertical-align: top;\n",
       "    }\n",
       "\n",
       "    .dataframe thead th {\n",
       "        text-align: right;\n",
       "    }\n",
       "</style>\n",
       "<table border=\"1\" class=\"dataframe\">\n",
       "  <thead>\n",
       "    <tr style=\"text-align: right;\">\n",
       "      <th></th>\n",
       "      <th>1208</th>\n",
       "      <th>5039</th>\n",
       "      <th>20060</th>\n",
       "    </tr>\n",
       "  </thead>\n",
       "  <tbody>\n",
       "    <tr>\n",
       "      <th>action_type</th>\n",
       "      <td>Jump Shot</td>\n",
       "      <td>Jump Shot</td>\n",
       "      <td>Reverse Slam Dunk Shot</td>\n",
       "    </tr>\n",
       "    <tr>\n",
       "      <th>combined_shot_type</th>\n",
       "      <td>Jump Shot</td>\n",
       "      <td>Jump Shot</td>\n",
       "      <td>Dunk</td>\n",
       "    </tr>\n",
       "    <tr>\n",
       "      <th>game_event_id</th>\n",
       "      <td>290</td>\n",
       "      <td>353</td>\n",
       "      <td>94</td>\n",
       "    </tr>\n",
       "    <tr>\n",
       "      <th>game_id</th>\n",
       "      <td>20000828</td>\n",
       "      <td>20300037</td>\n",
       "      <td>21200463</td>\n",
       "    </tr>\n",
       "    <tr>\n",
       "      <th>lat</th>\n",
       "      <td>33.9873</td>\n",
       "      <td>33.9553</td>\n",
       "      <td>34.0403</td>\n",
       "    </tr>\n",
       "    <tr>\n",
       "      <th>loc_x</th>\n",
       "      <td>-12</td>\n",
       "      <td>97</td>\n",
       "      <td>0</td>\n",
       "    </tr>\n",
       "    <tr>\n",
       "      <th>loc_y</th>\n",
       "      <td>57</td>\n",
       "      <td>89</td>\n",
       "      <td>4</td>\n",
       "    </tr>\n",
       "    <tr>\n",
       "      <th>lon</th>\n",
       "      <td>-118.282</td>\n",
       "      <td>-118.173</td>\n",
       "      <td>-118.27</td>\n",
       "    </tr>\n",
       "    <tr>\n",
       "      <th>minutes_remaining</th>\n",
       "      <td>2</td>\n",
       "      <td>11</td>\n",
       "      <td>2</td>\n",
       "    </tr>\n",
       "    <tr>\n",
       "      <th>period</th>\n",
       "      <td>3</td>\n",
       "      <td>4</td>\n",
       "      <td>1</td>\n",
       "    </tr>\n",
       "    <tr>\n",
       "      <th>playoffs</th>\n",
       "      <td>0</td>\n",
       "      <td>0</td>\n",
       "      <td>0</td>\n",
       "    </tr>\n",
       "    <tr>\n",
       "      <th>season</th>\n",
       "      <td>2000-01</td>\n",
       "      <td>2003-04</td>\n",
       "      <td>2012-13</td>\n",
       "    </tr>\n",
       "    <tr>\n",
       "      <th>seconds_remaining</th>\n",
       "      <td>29</td>\n",
       "      <td>40</td>\n",
       "      <td>33</td>\n",
       "    </tr>\n",
       "    <tr>\n",
       "      <th>shot_distance</th>\n",
       "      <td>5</td>\n",
       "      <td>13</td>\n",
       "      <td>0</td>\n",
       "    </tr>\n",
       "    <tr>\n",
       "      <th>shot_made_flag</th>\n",
       "      <td>0</td>\n",
       "      <td>0</td>\n",
       "      <td>1</td>\n",
       "    </tr>\n",
       "    <tr>\n",
       "      <th>shot_type</th>\n",
       "      <td>2PT Field Goal</td>\n",
       "      <td>2PT Field Goal</td>\n",
       "      <td>2PT Field Goal</td>\n",
       "    </tr>\n",
       "    <tr>\n",
       "      <th>shot_zone_area</th>\n",
       "      <td>Center(C)</td>\n",
       "      <td>Right Side(R)</td>\n",
       "      <td>Center(C)</td>\n",
       "    </tr>\n",
       "    <tr>\n",
       "      <th>shot_zone_basic</th>\n",
       "      <td>In The Paint (Non-RA)</td>\n",
       "      <td>Mid-Range</td>\n",
       "      <td>Restricted Area</td>\n",
       "    </tr>\n",
       "    <tr>\n",
       "      <th>shot_zone_range</th>\n",
       "      <td>Less Than 8 ft.</td>\n",
       "      <td>8-16 ft.</td>\n",
       "      <td>Less Than 8 ft.</td>\n",
       "    </tr>\n",
       "    <tr>\n",
       "      <th>team_id</th>\n",
       "      <td>1610612747</td>\n",
       "      <td>1610612747</td>\n",
       "      <td>1610612747</td>\n",
       "    </tr>\n",
       "    <tr>\n",
       "      <th>team_name</th>\n",
       "      <td>Los Angeles Lakers</td>\n",
       "      <td>Los Angeles Lakers</td>\n",
       "      <td>Los Angeles Lakers</td>\n",
       "    </tr>\n",
       "    <tr>\n",
       "      <th>game_date</th>\n",
       "      <td>2001-02-28</td>\n",
       "      <td>2003-11-01</td>\n",
       "      <td>2013-01-01</td>\n",
       "    </tr>\n",
       "    <tr>\n",
       "      <th>matchup</th>\n",
       "      <td>LAL @ DEN</td>\n",
       "      <td>LAL @ PHX</td>\n",
       "      <td>LAL vs. PHI</td>\n",
       "    </tr>\n",
       "    <tr>\n",
       "      <th>opponent</th>\n",
       "      <td>DEN</td>\n",
       "      <td>PHX</td>\n",
       "      <td>PHI</td>\n",
       "    </tr>\n",
       "    <tr>\n",
       "      <th>shot_id</th>\n",
       "      <td>1209</td>\n",
       "      <td>5040</td>\n",
       "      <td>20061</td>\n",
       "    </tr>\n",
       "  </tbody>\n",
       "</table>\n",
       "</div>"
      ],
      "text/plain": [
       "                                    1208                5039   \\\n",
       "action_type                     Jump Shot           Jump Shot   \n",
       "combined_shot_type              Jump Shot           Jump Shot   \n",
       "game_event_id                         290                 353   \n",
       "game_id                          20000828            20300037   \n",
       "lat                               33.9873             33.9553   \n",
       "loc_x                                 -12                  97   \n",
       "loc_y                                  57                  89   \n",
       "lon                              -118.282            -118.173   \n",
       "minutes_remaining                       2                  11   \n",
       "period                                  3                   4   \n",
       "playoffs                                0                   0   \n",
       "season                            2000-01             2003-04   \n",
       "seconds_remaining                      29                  40   \n",
       "shot_distance                           5                  13   \n",
       "shot_made_flag                          0                   0   \n",
       "shot_type                  2PT Field Goal      2PT Field Goal   \n",
       "shot_zone_area                  Center(C)       Right Side(R)   \n",
       "shot_zone_basic     In The Paint (Non-RA)           Mid-Range   \n",
       "shot_zone_range           Less Than 8 ft.            8-16 ft.   \n",
       "team_id                        1610612747          1610612747   \n",
       "team_name              Los Angeles Lakers  Los Angeles Lakers   \n",
       "game_date                      2001-02-28          2003-11-01   \n",
       "matchup                         LAL @ DEN           LAL @ PHX   \n",
       "opponent                              DEN                 PHX   \n",
       "shot_id                              1209                5040   \n",
       "\n",
       "                                     20060  \n",
       "action_type         Reverse Slam Dunk Shot  \n",
       "combined_shot_type                    Dunk  \n",
       "game_event_id                           94  \n",
       "game_id                           21200463  \n",
       "lat                                34.0403  \n",
       "loc_x                                    0  \n",
       "loc_y                                    4  \n",
       "lon                                -118.27  \n",
       "minutes_remaining                        2  \n",
       "period                                   1  \n",
       "playoffs                                 0  \n",
       "season                             2012-13  \n",
       "seconds_remaining                       33  \n",
       "shot_distance                            0  \n",
       "shot_made_flag                           1  \n",
       "shot_type                   2PT Field Goal  \n",
       "shot_zone_area                   Center(C)  \n",
       "shot_zone_basic            Restricted Area  \n",
       "shot_zone_range            Less Than 8 ft.  \n",
       "team_id                         1610612747  \n",
       "team_name               Los Angeles Lakers  \n",
       "game_date                       2013-01-01  \n",
       "matchup                        LAL vs. PHI  \n",
       "opponent                               PHI  \n",
       "shot_id                              20061  "
      ]
     },
     "execution_count": 324,
     "metadata": {},
     "output_type": "execute_result"
    }
   ],
   "source": [
    "random_sample = kobe.take(np.random.permutation(len(kobe))[:3])\n",
    "random_sample.T"
   ]
  },
  {
   "cell_type": "code",
   "execution_count": 325,
   "metadata": {},
   "outputs": [
    {
     "data": {
      "text/html": [
       "<div>\n",
       "<style scoped>\n",
       "    .dataframe tbody tr th:only-of-type {\n",
       "        vertical-align: middle;\n",
       "    }\n",
       "\n",
       "    .dataframe tbody tr th {\n",
       "        vertical-align: top;\n",
       "    }\n",
       "\n",
       "    .dataframe thead th {\n",
       "        text-align: right;\n",
       "    }\n",
       "</style>\n",
       "<table border=\"1\" class=\"dataframe\">\n",
       "  <thead>\n",
       "    <tr style=\"text-align: right;\">\n",
       "      <th></th>\n",
       "      <th>shot_made_flag</th>\n",
       "    </tr>\n",
       "    <tr>\n",
       "      <th>action_type</th>\n",
       "      <th></th>\n",
       "    </tr>\n",
       "  </thead>\n",
       "  <tbody>\n",
       "    <tr>\n",
       "      <th>Jump Shot</th>\n",
       "      <td>15836</td>\n",
       "    </tr>\n",
       "    <tr>\n",
       "      <th>Layup Shot</th>\n",
       "      <td>2154</td>\n",
       "    </tr>\n",
       "    <tr>\n",
       "      <th>Driving Layup Shot</th>\n",
       "      <td>1628</td>\n",
       "    </tr>\n",
       "    <tr>\n",
       "      <th>Turnaround Jump Shot</th>\n",
       "      <td>891</td>\n",
       "    </tr>\n",
       "    <tr>\n",
       "      <th>Fadeaway Jump Shot</th>\n",
       "      <td>872</td>\n",
       "    </tr>\n",
       "    <tr>\n",
       "      <th>Running Jump Shot</th>\n",
       "      <td>779</td>\n",
       "    </tr>\n",
       "    <tr>\n",
       "      <th>Pullup Jump shot</th>\n",
       "      <td>402</td>\n",
       "    </tr>\n",
       "    <tr>\n",
       "      <th>Turnaround Fadeaway shot</th>\n",
       "      <td>366</td>\n",
       "    </tr>\n",
       "    <tr>\n",
       "      <th>Slam Dunk Shot</th>\n",
       "      <td>334</td>\n",
       "    </tr>\n",
       "    <tr>\n",
       "      <th>Reverse Layup Shot</th>\n",
       "      <td>333</td>\n",
       "    </tr>\n",
       "    <tr>\n",
       "      <th>Jump Bank Shot</th>\n",
       "      <td>289</td>\n",
       "    </tr>\n",
       "    <tr>\n",
       "      <th>Driving Dunk Shot</th>\n",
       "      <td>257</td>\n",
       "    </tr>\n",
       "    <tr>\n",
       "      <th>Dunk Shot</th>\n",
       "      <td>217</td>\n",
       "    </tr>\n",
       "    <tr>\n",
       "      <th>Tip Shot</th>\n",
       "      <td>151</td>\n",
       "    </tr>\n",
       "    <tr>\n",
       "      <th>Step Back Jump shot</th>\n",
       "      <td>106</td>\n",
       "    </tr>\n",
       "    <tr>\n",
       "      <th>Alley Oop Dunk Shot</th>\n",
       "      <td>95</td>\n",
       "    </tr>\n",
       "    <tr>\n",
       "      <th>Floating Jump shot</th>\n",
       "      <td>93</td>\n",
       "    </tr>\n",
       "    <tr>\n",
       "      <th>Driving Reverse Layup Shot</th>\n",
       "      <td>83</td>\n",
       "    </tr>\n",
       "    <tr>\n",
       "      <th>Hook Shot</th>\n",
       "      <td>73</td>\n",
       "    </tr>\n",
       "    <tr>\n",
       "      <th>Driving Finger Roll Shot</th>\n",
       "      <td>68</td>\n",
       "    </tr>\n",
       "    <tr>\n",
       "      <th>Alley Oop Layup shot</th>\n",
       "      <td>67</td>\n",
       "    </tr>\n",
       "    <tr>\n",
       "      <th>Reverse Dunk Shot</th>\n",
       "      <td>61</td>\n",
       "    </tr>\n",
       "    <tr>\n",
       "      <th>Driving Finger Roll Layup Shot</th>\n",
       "      <td>59</td>\n",
       "    </tr>\n",
       "    <tr>\n",
       "      <th>Turnaround Bank shot</th>\n",
       "      <td>58</td>\n",
       "    </tr>\n",
       "    <tr>\n",
       "      <th>Running Layup Shot</th>\n",
       "      <td>51</td>\n",
       "    </tr>\n",
       "    <tr>\n",
       "      <th>Running Bank shot</th>\n",
       "      <td>43</td>\n",
       "    </tr>\n",
       "    <tr>\n",
       "      <th>Driving Slam Dunk Shot</th>\n",
       "      <td>43</td>\n",
       "    </tr>\n",
       "    <tr>\n",
       "      <th>Running Hook Shot</th>\n",
       "      <td>33</td>\n",
       "    </tr>\n",
       "    <tr>\n",
       "      <th>Finger Roll Layup Shot</th>\n",
       "      <td>28</td>\n",
       "    </tr>\n",
       "    <tr>\n",
       "      <th>Fadeaway Bank shot</th>\n",
       "      <td>27</td>\n",
       "    </tr>\n",
       "    <tr>\n",
       "      <th>Finger Roll Shot</th>\n",
       "      <td>26</td>\n",
       "    </tr>\n",
       "    <tr>\n",
       "      <th>Driving Jump shot</th>\n",
       "      <td>23</td>\n",
       "    </tr>\n",
       "    <tr>\n",
       "      <th>Jump Hook Shot</th>\n",
       "      <td>19</td>\n",
       "    </tr>\n",
       "    <tr>\n",
       "      <th>Running Dunk Shot</th>\n",
       "      <td>18</td>\n",
       "    </tr>\n",
       "    <tr>\n",
       "      <th>Reverse Slam Dunk Shot</th>\n",
       "      <td>15</td>\n",
       "    </tr>\n",
       "    <tr>\n",
       "      <th>Driving Hook Shot</th>\n",
       "      <td>13</td>\n",
       "    </tr>\n",
       "    <tr>\n",
       "      <th>Pullup Bank shot</th>\n",
       "      <td>11</td>\n",
       "    </tr>\n",
       "    <tr>\n",
       "      <th>Follow Up Dunk Shot</th>\n",
       "      <td>10</td>\n",
       "    </tr>\n",
       "    <tr>\n",
       "      <th>Putback Layup Shot</th>\n",
       "      <td>9</td>\n",
       "    </tr>\n",
       "    <tr>\n",
       "      <th>Turnaround Hook Shot</th>\n",
       "      <td>8</td>\n",
       "    </tr>\n",
       "    <tr>\n",
       "      <th>Running Reverse Layup Shot</th>\n",
       "      <td>7</td>\n",
       "    </tr>\n",
       "    <tr>\n",
       "      <th>Cutting Layup Shot</th>\n",
       "      <td>6</td>\n",
       "    </tr>\n",
       "    <tr>\n",
       "      <th>Running Finger Roll Layup Shot</th>\n",
       "      <td>5</td>\n",
       "    </tr>\n",
       "    <tr>\n",
       "      <th>Hook Bank Shot</th>\n",
       "      <td>5</td>\n",
       "    </tr>\n",
       "    <tr>\n",
       "      <th>Running Finger Roll Shot</th>\n",
       "      <td>4</td>\n",
       "    </tr>\n",
       "    <tr>\n",
       "      <th>Driving Bank shot</th>\n",
       "      <td>3</td>\n",
       "    </tr>\n",
       "    <tr>\n",
       "      <th>Putback Dunk Shot</th>\n",
       "      <td>3</td>\n",
       "    </tr>\n",
       "    <tr>\n",
       "      <th>Driving Floating Jump Shot</th>\n",
       "      <td>3</td>\n",
       "    </tr>\n",
       "    <tr>\n",
       "      <th>Running Pull-Up Jump Shot</th>\n",
       "      <td>3</td>\n",
       "    </tr>\n",
       "    <tr>\n",
       "      <th>Tip Layup Shot</th>\n",
       "      <td>2</td>\n",
       "    </tr>\n",
       "    <tr>\n",
       "      <th>Turnaround Finger Roll Shot</th>\n",
       "      <td>2</td>\n",
       "    </tr>\n",
       "    <tr>\n",
       "      <th>Putback Slam Dunk Shot</th>\n",
       "      <td>2</td>\n",
       "    </tr>\n",
       "    <tr>\n",
       "      <th>Running Tip Shot</th>\n",
       "      <td>1</td>\n",
       "    </tr>\n",
       "    <tr>\n",
       "      <th>Running Slam Dunk Shot</th>\n",
       "      <td>1</td>\n",
       "    </tr>\n",
       "    <tr>\n",
       "      <th>Driving Floating Bank Jump Shot</th>\n",
       "      <td>1</td>\n",
       "    </tr>\n",
       "    <tr>\n",
       "      <th>Turnaround Fadeaway Bank Jump Shot</th>\n",
       "      <td>0</td>\n",
       "    </tr>\n",
       "    <tr>\n",
       "      <th>Cutting Finger Roll Layup Shot</th>\n",
       "      <td>0</td>\n",
       "    </tr>\n",
       "  </tbody>\n",
       "</table>\n",
       "</div>"
      ],
      "text/plain": [
       "                                    shot_made_flag\n",
       "action_type                                       \n",
       "Jump Shot                                    15836\n",
       "Layup Shot                                    2154\n",
       "Driving Layup Shot                            1628\n",
       "Turnaround Jump Shot                           891\n",
       "Fadeaway Jump Shot                             872\n",
       "Running Jump Shot                              779\n",
       "Pullup Jump shot                               402\n",
       "Turnaround Fadeaway shot                       366\n",
       "Slam Dunk Shot                                 334\n",
       "Reverse Layup Shot                             333\n",
       "Jump Bank Shot                                 289\n",
       "Driving Dunk Shot                              257\n",
       "Dunk Shot                                      217\n",
       "Tip Shot                                       151\n",
       "Step Back Jump shot                            106\n",
       "Alley Oop Dunk Shot                             95\n",
       "Floating Jump shot                              93\n",
       "Driving Reverse Layup Shot                      83\n",
       "Hook Shot                                       73\n",
       "Driving Finger Roll Shot                        68\n",
       "Alley Oop Layup shot                            67\n",
       "Reverse Dunk Shot                               61\n",
       "Driving Finger Roll Layup Shot                  59\n",
       "Turnaround Bank shot                            58\n",
       "Running Layup Shot                              51\n",
       "Running Bank shot                               43\n",
       "Driving Slam Dunk Shot                          43\n",
       "Running Hook Shot                               33\n",
       "Finger Roll Layup Shot                          28\n",
       "Fadeaway Bank shot                              27\n",
       "Finger Roll Shot                                26\n",
       "Driving Jump shot                               23\n",
       "Jump Hook Shot                                  19\n",
       "Running Dunk Shot                               18\n",
       "Reverse Slam Dunk Shot                          15\n",
       "Driving Hook Shot                               13\n",
       "Pullup Bank shot                                11\n",
       "Follow Up Dunk Shot                             10\n",
       "Putback Layup Shot                               9\n",
       "Turnaround Hook Shot                             8\n",
       "Running Reverse Layup Shot                       7\n",
       "Cutting Layup Shot                               6\n",
       "Running Finger Roll Layup Shot                   5\n",
       "Hook Bank Shot                                   5\n",
       "Running Finger Roll Shot                         4\n",
       "Driving Bank shot                                3\n",
       "Putback Dunk Shot                                3\n",
       "Driving Floating Jump Shot                       3\n",
       "Running Pull-Up Jump Shot                        3\n",
       "Tip Layup Shot                                   2\n",
       "Turnaround Finger Roll Shot                      2\n",
       "Putback Slam Dunk Shot                           2\n",
       "Running Tip Shot                                 1\n",
       "Running Slam Dunk Shot                           1\n",
       "Driving Floating Bank Jump Shot                  1\n",
       "Turnaround Fadeaway Bank Jump Shot               0\n",
       "Cutting Finger Roll Layup Shot                   0"
      ]
     },
     "execution_count": 325,
     "metadata": {},
     "output_type": "execute_result"
    }
   ],
   "source": [
    "kobe[['action_type','shot_made_flag' ]].groupby(['action_type']).agg('count').sort_values('shot_made_flag', ascending = False)\n",
    "\n"
   ]
  },
  {
   "cell_type": "code",
   "execution_count": 326,
   "metadata": {},
   "outputs": [
    {
     "data": {
      "text/html": [
       "<div>\n",
       "<style scoped>\n",
       "    .dataframe tbody tr th:only-of-type {\n",
       "        vertical-align: middle;\n",
       "    }\n",
       "\n",
       "    .dataframe tbody tr th {\n",
       "        vertical-align: top;\n",
       "    }\n",
       "\n",
       "    .dataframe thead th {\n",
       "        text-align: right;\n",
       "    }\n",
       "</style>\n",
       "<table border=\"1\" class=\"dataframe\">\n",
       "  <thead>\n",
       "    <tr style=\"text-align: right;\">\n",
       "      <th></th>\n",
       "      <th>shot_made_flag</th>\n",
       "    </tr>\n",
       "    <tr>\n",
       "      <th>combined_shot_type</th>\n",
       "      <th></th>\n",
       "    </tr>\n",
       "  </thead>\n",
       "  <tbody>\n",
       "    <tr>\n",
       "      <th>Jump Shot</th>\n",
       "      <td>19710</td>\n",
       "    </tr>\n",
       "    <tr>\n",
       "      <th>Layup</th>\n",
       "      <td>4532</td>\n",
       "    </tr>\n",
       "    <tr>\n",
       "      <th>Dunk</th>\n",
       "      <td>1056</td>\n",
       "    </tr>\n",
       "    <tr>\n",
       "      <th>Tip Shot</th>\n",
       "      <td>152</td>\n",
       "    </tr>\n",
       "    <tr>\n",
       "      <th>Hook Shot</th>\n",
       "      <td>127</td>\n",
       "    </tr>\n",
       "    <tr>\n",
       "      <th>Bank Shot</th>\n",
       "      <td>120</td>\n",
       "    </tr>\n",
       "  </tbody>\n",
       "</table>\n",
       "</div>"
      ],
      "text/plain": [
       "                    shot_made_flag\n",
       "combined_shot_type                \n",
       "Jump Shot                    19710\n",
       "Layup                         4532\n",
       "Dunk                          1056\n",
       "Tip Shot                       152\n",
       "Hook Shot                      127\n",
       "Bank Shot                      120"
      ]
     },
     "execution_count": 326,
     "metadata": {},
     "output_type": "execute_result"
    }
   ],
   "source": [
    "kobe[['combined_shot_type','shot_made_flag' ]].groupby(['combined_shot_type']).agg('count').sort_values('shot_made_flag', ascending = False)"
   ]
  },
  {
   "cell_type": "markdown",
   "metadata": {},
   "source": [
    "выглядит, что сезон нам не очень то нужен, т.к. по сути он содержит в себе информацию о годе, удалим данный столбец, при этом из даты игры вытащим информацию о годе, порядковом дне в году и порядковом дне в неделю."
   ]
  },
  {
   "cell_type": "code",
   "execution_count": 327,
   "metadata": {},
   "outputs": [
    {
     "data": {
      "text/html": [
       "<div>\n",
       "<style scoped>\n",
       "    .dataframe tbody tr th:only-of-type {\n",
       "        vertical-align: middle;\n",
       "    }\n",
       "\n",
       "    .dataframe tbody tr th {\n",
       "        vertical-align: top;\n",
       "    }\n",
       "\n",
       "    .dataframe thead th {\n",
       "        text-align: right;\n",
       "    }\n",
       "</style>\n",
       "<table border=\"1\" class=\"dataframe\">\n",
       "  <thead>\n",
       "    <tr style=\"text-align: right;\">\n",
       "      <th></th>\n",
       "      <th>shot_made_flag</th>\n",
       "    </tr>\n",
       "    <tr>\n",
       "      <th>season</th>\n",
       "      <th></th>\n",
       "    </tr>\n",
       "  </thead>\n",
       "  <tbody>\n",
       "    <tr>\n",
       "      <th>1996-97</th>\n",
       "      <td>383</td>\n",
       "    </tr>\n",
       "    <tr>\n",
       "      <th>1997-98</th>\n",
       "      <td>810</td>\n",
       "    </tr>\n",
       "    <tr>\n",
       "      <th>1998-99</th>\n",
       "      <td>765</td>\n",
       "    </tr>\n",
       "    <tr>\n",
       "      <th>1999-00</th>\n",
       "      <td>1312</td>\n",
       "    </tr>\n",
       "    <tr>\n",
       "      <th>2000-01</th>\n",
       "      <td>1575</td>\n",
       "    </tr>\n",
       "    <tr>\n",
       "      <th>2001-02</th>\n",
       "      <td>1708</td>\n",
       "    </tr>\n",
       "    <tr>\n",
       "      <th>2002-03</th>\n",
       "      <td>1852</td>\n",
       "    </tr>\n",
       "    <tr>\n",
       "      <th>2003-04</th>\n",
       "      <td>1371</td>\n",
       "    </tr>\n",
       "    <tr>\n",
       "      <th>2004-05</th>\n",
       "      <td>1127</td>\n",
       "    </tr>\n",
       "    <tr>\n",
       "      <th>2005-06</th>\n",
       "      <td>1924</td>\n",
       "    </tr>\n",
       "    <tr>\n",
       "      <th>2006-07</th>\n",
       "      <td>1579</td>\n",
       "    </tr>\n",
       "    <tr>\n",
       "      <th>2007-08</th>\n",
       "      <td>1819</td>\n",
       "    </tr>\n",
       "    <tr>\n",
       "      <th>2008-09</th>\n",
       "      <td>1851</td>\n",
       "    </tr>\n",
       "    <tr>\n",
       "      <th>2009-10</th>\n",
       "      <td>1772</td>\n",
       "    </tr>\n",
       "    <tr>\n",
       "      <th>2010-11</th>\n",
       "      <td>1521</td>\n",
       "    </tr>\n",
       "    <tr>\n",
       "      <th>2011-12</th>\n",
       "      <td>1416</td>\n",
       "    </tr>\n",
       "    <tr>\n",
       "      <th>2012-13</th>\n",
       "      <td>1328</td>\n",
       "    </tr>\n",
       "    <tr>\n",
       "      <th>2013-14</th>\n",
       "      <td>59</td>\n",
       "    </tr>\n",
       "    <tr>\n",
       "      <th>2014-15</th>\n",
       "      <td>593</td>\n",
       "    </tr>\n",
       "    <tr>\n",
       "      <th>2015-16</th>\n",
       "      <td>932</td>\n",
       "    </tr>\n",
       "  </tbody>\n",
       "</table>\n",
       "</div>"
      ],
      "text/plain": [
       "         shot_made_flag\n",
       "season                 \n",
       "1996-97             383\n",
       "1997-98             810\n",
       "1998-99             765\n",
       "1999-00            1312\n",
       "2000-01            1575\n",
       "2001-02            1708\n",
       "2002-03            1852\n",
       "2003-04            1371\n",
       "2004-05            1127\n",
       "2005-06            1924\n",
       "2006-07            1579\n",
       "2007-08            1819\n",
       "2008-09            1851\n",
       "2009-10            1772\n",
       "2010-11            1521\n",
       "2011-12            1416\n",
       "2012-13            1328\n",
       "2013-14              59\n",
       "2014-15             593\n",
       "2015-16             932"
      ]
     },
     "execution_count": 327,
     "metadata": {},
     "output_type": "execute_result"
    }
   ],
   "source": [
    "kobe[['season','shot_made_flag' ]].groupby(['season']).agg('count')#.sort_values('shot_made_flag', ascending = False)"
   ]
  },
  {
   "cell_type": "code",
   "execution_count": 328,
   "metadata": {},
   "outputs": [],
   "source": [
    "not_needed.append('season')"
   ]
  },
  {
   "cell_type": "code",
   "execution_count": 329,
   "metadata": {},
   "outputs": [],
   "source": [
    "kobe['game_date'] = pd.to_datetime(kobe['game_date'])\n",
    "kobe['game_year'] = kobe['game_date'].dt.year\n",
    "kobe['game_month'] = kobe['game_date'].dt.month\n",
    "kobe['game_day_week'] = kobe['game_date'].dt.dayofweek\n",
    "\n",
    "not_needed.append('game_date')"
   ]
  },
  {
   "cell_type": "code",
   "execution_count": 330,
   "metadata": {},
   "outputs": [
    {
     "data": {
      "text/html": [
       "<div>\n",
       "<style scoped>\n",
       "    .dataframe tbody tr th:only-of-type {\n",
       "        vertical-align: middle;\n",
       "    }\n",
       "\n",
       "    .dataframe tbody tr th {\n",
       "        vertical-align: top;\n",
       "    }\n",
       "\n",
       "    .dataframe thead th {\n",
       "        text-align: right;\n",
       "    }\n",
       "</style>\n",
       "<table border=\"1\" class=\"dataframe\">\n",
       "  <thead>\n",
       "    <tr style=\"text-align: right;\">\n",
       "      <th></th>\n",
       "      <th>shot_made_flag</th>\n",
       "    </tr>\n",
       "    <tr>\n",
       "      <th>shot_type</th>\n",
       "      <th></th>\n",
       "    </tr>\n",
       "  </thead>\n",
       "  <tbody>\n",
       "    <tr>\n",
       "      <th>2PT Field Goal</th>\n",
       "      <td>20285</td>\n",
       "    </tr>\n",
       "    <tr>\n",
       "      <th>3PT Field Goal</th>\n",
       "      <td>5412</td>\n",
       "    </tr>\n",
       "  </tbody>\n",
       "</table>\n",
       "</div>"
      ],
      "text/plain": [
       "                shot_made_flag\n",
       "shot_type                     \n",
       "2PT Field Goal           20285\n",
       "3PT Field Goal            5412"
      ]
     },
     "execution_count": 330,
     "metadata": {},
     "output_type": "execute_result"
    }
   ],
   "source": [
    "kobe[['shot_type','shot_made_flag' ]].groupby(['shot_type']).agg('count').sort_values('shot_made_flag', ascending = False)"
   ]
  },
  {
   "cell_type": "code",
   "execution_count": 331,
   "metadata": {},
   "outputs": [],
   "source": [
    "#сделаем сразу из этих полей одно - признак 3-х очкового броска, shot_type удалим\n",
    "kobe['3pt_flag'] = np.where(kobe['shot_type'].str.contains('3PT'), 1, 0)\n",
    "#kobe[kobe['3pt_flag']==1].head(5)\n",
    "not_needed.append('shot_type')"
   ]
  },
  {
   "cell_type": "code",
   "execution_count": 332,
   "metadata": {},
   "outputs": [
    {
     "data": {
      "text/html": [
       "<div>\n",
       "<style scoped>\n",
       "    .dataframe tbody tr th:only-of-type {\n",
       "        vertical-align: middle;\n",
       "    }\n",
       "\n",
       "    .dataframe tbody tr th {\n",
       "        vertical-align: top;\n",
       "    }\n",
       "\n",
       "    .dataframe thead th {\n",
       "        text-align: right;\n",
       "    }\n",
       "</style>\n",
       "<table border=\"1\" class=\"dataframe\">\n",
       "  <thead>\n",
       "    <tr style=\"text-align: right;\">\n",
       "      <th></th>\n",
       "      <th>shot_made_flag</th>\n",
       "    </tr>\n",
       "    <tr>\n",
       "      <th>shot_zone_area</th>\n",
       "      <th></th>\n",
       "    </tr>\n",
       "  </thead>\n",
       "  <tbody>\n",
       "    <tr>\n",
       "      <th>Center(C)</th>\n",
       "      <td>11289</td>\n",
       "    </tr>\n",
       "    <tr>\n",
       "      <th>Right Side Center(RC)</th>\n",
       "      <td>3981</td>\n",
       "    </tr>\n",
       "    <tr>\n",
       "      <th>Right Side(R)</th>\n",
       "      <td>3859</td>\n",
       "    </tr>\n",
       "    <tr>\n",
       "      <th>Left Side Center(LC)</th>\n",
       "      <td>3364</td>\n",
       "    </tr>\n",
       "    <tr>\n",
       "      <th>Left Side(L)</th>\n",
       "      <td>3132</td>\n",
       "    </tr>\n",
       "    <tr>\n",
       "      <th>Back Court(BC)</th>\n",
       "      <td>72</td>\n",
       "    </tr>\n",
       "  </tbody>\n",
       "</table>\n",
       "</div>"
      ],
      "text/plain": [
       "                       shot_made_flag\n",
       "shot_zone_area                       \n",
       "Center(C)                       11289\n",
       "Right Side Center(RC)            3981\n",
       "Right Side(R)                    3859\n",
       "Left Side Center(LC)             3364\n",
       "Left Side(L)                     3132\n",
       "Back Court(BC)                     72"
      ]
     },
     "execution_count": 332,
     "metadata": {},
     "output_type": "execute_result"
    }
   ],
   "source": [
    "kobe[['shot_zone_area','shot_made_flag' ]].groupby(['shot_zone_area']).agg('count').sort_values('shot_made_flag', ascending = False)"
   ]
  },
  {
   "cell_type": "code",
   "execution_count": 333,
   "metadata": {},
   "outputs": [
    {
     "data": {
      "text/html": [
       "<div>\n",
       "<style scoped>\n",
       "    .dataframe tbody tr th:only-of-type {\n",
       "        vertical-align: middle;\n",
       "    }\n",
       "\n",
       "    .dataframe tbody tr th {\n",
       "        vertical-align: top;\n",
       "    }\n",
       "\n",
       "    .dataframe thead th {\n",
       "        text-align: right;\n",
       "    }\n",
       "</style>\n",
       "<table border=\"1\" class=\"dataframe\">\n",
       "  <thead>\n",
       "    <tr style=\"text-align: right;\">\n",
       "      <th></th>\n",
       "      <th>shot_made_flag</th>\n",
       "    </tr>\n",
       "    <tr>\n",
       "      <th>shot_zone_basic</th>\n",
       "      <th></th>\n",
       "    </tr>\n",
       "  </thead>\n",
       "  <tbody>\n",
       "    <tr>\n",
       "      <th>Mid-Range</th>\n",
       "      <td>10532</td>\n",
       "    </tr>\n",
       "    <tr>\n",
       "      <th>Restricted Area</th>\n",
       "      <td>5932</td>\n",
       "    </tr>\n",
       "    <tr>\n",
       "      <th>Above the Break 3</th>\n",
       "      <td>4720</td>\n",
       "    </tr>\n",
       "    <tr>\n",
       "      <th>In The Paint (Non-RA)</th>\n",
       "      <td>3880</td>\n",
       "    </tr>\n",
       "    <tr>\n",
       "      <th>Right Corner 3</th>\n",
       "      <td>333</td>\n",
       "    </tr>\n",
       "    <tr>\n",
       "      <th>Left Corner 3</th>\n",
       "      <td>240</td>\n",
       "    </tr>\n",
       "    <tr>\n",
       "      <th>Backcourt</th>\n",
       "      <td>60</td>\n",
       "    </tr>\n",
       "  </tbody>\n",
       "</table>\n",
       "</div>"
      ],
      "text/plain": [
       "                       shot_made_flag\n",
       "shot_zone_basic                      \n",
       "Mid-Range                       10532\n",
       "Restricted Area                  5932\n",
       "Above the Break 3                4720\n",
       "In The Paint (Non-RA)            3880\n",
       "Right Corner 3                    333\n",
       "Left Corner 3                     240\n",
       "Backcourt                          60"
      ]
     },
     "execution_count": 333,
     "metadata": {},
     "output_type": "execute_result"
    }
   ],
   "source": [
    "kobe[['shot_zone_basic','shot_made_flag' ]].groupby(['shot_zone_basic']).agg('count').sort_values('shot_made_flag', ascending = False)"
   ]
  },
  {
   "cell_type": "code",
   "execution_count": 334,
   "metadata": {},
   "outputs": [
    {
     "data": {
      "text/html": [
       "<div>\n",
       "<style scoped>\n",
       "    .dataframe tbody tr th:only-of-type {\n",
       "        vertical-align: middle;\n",
       "    }\n",
       "\n",
       "    .dataframe tbody tr th {\n",
       "        vertical-align: top;\n",
       "    }\n",
       "\n",
       "    .dataframe thead th {\n",
       "        text-align: right;\n",
       "    }\n",
       "</style>\n",
       "<table border=\"1\" class=\"dataframe\">\n",
       "  <thead>\n",
       "    <tr style=\"text-align: right;\">\n",
       "      <th></th>\n",
       "      <th>shot_made_flag</th>\n",
       "    </tr>\n",
       "    <tr>\n",
       "      <th>shot_zone_area</th>\n",
       "      <th></th>\n",
       "    </tr>\n",
       "  </thead>\n",
       "  <tbody>\n",
       "    <tr>\n",
       "      <th>Center(C)</th>\n",
       "      <td>11289</td>\n",
       "    </tr>\n",
       "    <tr>\n",
       "      <th>Right Side Center(RC)</th>\n",
       "      <td>3981</td>\n",
       "    </tr>\n",
       "    <tr>\n",
       "      <th>Right Side(R)</th>\n",
       "      <td>3859</td>\n",
       "    </tr>\n",
       "    <tr>\n",
       "      <th>Left Side Center(LC)</th>\n",
       "      <td>3364</td>\n",
       "    </tr>\n",
       "    <tr>\n",
       "      <th>Left Side(L)</th>\n",
       "      <td>3132</td>\n",
       "    </tr>\n",
       "    <tr>\n",
       "      <th>Back Court(BC)</th>\n",
       "      <td>72</td>\n",
       "    </tr>\n",
       "  </tbody>\n",
       "</table>\n",
       "</div>"
      ],
      "text/plain": [
       "                       shot_made_flag\n",
       "shot_zone_area                       \n",
       "Center(C)                       11289\n",
       "Right Side Center(RC)            3981\n",
       "Right Side(R)                    3859\n",
       "Left Side Center(LC)             3364\n",
       "Left Side(L)                     3132\n",
       "Back Court(BC)                     72"
      ]
     },
     "execution_count": 334,
     "metadata": {},
     "output_type": "execute_result"
    }
   ],
   "source": [
    "kobe[['shot_zone_area','shot_made_flag' ]].groupby(['shot_zone_area']).agg('count').sort_values('shot_made_flag', ascending = False)"
   ]
  },
  {
   "cell_type": "code",
   "execution_count": 335,
   "metadata": {},
   "outputs": [
    {
     "data": {
      "text/html": [
       "<div>\n",
       "<style scoped>\n",
       "    .dataframe tbody tr th:only-of-type {\n",
       "        vertical-align: middle;\n",
       "    }\n",
       "\n",
       "    .dataframe tbody tr th {\n",
       "        vertical-align: top;\n",
       "    }\n",
       "\n",
       "    .dataframe thead th {\n",
       "        text-align: right;\n",
       "    }\n",
       "</style>\n",
       "<table border=\"1\" class=\"dataframe\">\n",
       "  <thead>\n",
       "    <tr style=\"text-align: right;\">\n",
       "      <th></th>\n",
       "      <th>shot_made_flag</th>\n",
       "    </tr>\n",
       "    <tr>\n",
       "      <th>shot_zone_range</th>\n",
       "      <th></th>\n",
       "    </tr>\n",
       "  </thead>\n",
       "  <tbody>\n",
       "    <tr>\n",
       "      <th>Less Than 8 ft.</th>\n",
       "      <td>7857</td>\n",
       "    </tr>\n",
       "    <tr>\n",
       "      <th>16-24 ft.</th>\n",
       "      <td>6907</td>\n",
       "    </tr>\n",
       "    <tr>\n",
       "      <th>8-16 ft.</th>\n",
       "      <td>5580</td>\n",
       "    </tr>\n",
       "    <tr>\n",
       "      <th>24+ ft.</th>\n",
       "      <td>5281</td>\n",
       "    </tr>\n",
       "    <tr>\n",
       "      <th>Back Court Shot</th>\n",
       "      <td>72</td>\n",
       "    </tr>\n",
       "  </tbody>\n",
       "</table>\n",
       "</div>"
      ],
      "text/plain": [
       "                 shot_made_flag\n",
       "shot_zone_range                \n",
       "Less Than 8 ft.            7857\n",
       "16-24 ft.                  6907\n",
       "8-16 ft.                   5580\n",
       "24+ ft.                    5281\n",
       "Back Court Shot              72"
      ]
     },
     "execution_count": 335,
     "metadata": {},
     "output_type": "execute_result"
    }
   ],
   "source": [
    "kobe[['shot_zone_range','shot_made_flag' ]].groupby(['shot_zone_range']).agg('count').sort_values('shot_made_flag', ascending = False)"
   ]
  },
  {
   "cell_type": "markdown",
   "metadata": {},
   "source": [
    "В одном из ноутбуков был применён подход по расчёту точного расстояния и угла броска, в этом случае можно было бы избавить от трёх фичей выше, т.к. они по сути делают категории на основании этого параметра. Также под сомнением необходимость округлённого значения shot_distance\n",
    "\n",
    "Попробуем сделать этот расчёт, и посмотрим далее, какие фичи дадут больший эффект. ToDo - погуглить, какой подход считается более правильным (есть ощущение, что с т.з. риска переобучения лучше оставлять категории)"
   ]
  },
  {
   "cell_type": "code",
   "execution_count": 336,
   "metadata": {},
   "outputs": [
    {
     "name": "stderr",
     "output_type": "stream",
     "text": [
      "C:\\ProgramData\\Anaconda3\\lib\\site-packages\\ipykernel_launcher.py:5: SettingWithCopyWarning: \n",
      "A value is trying to be set on a copy of a slice from a DataFrame\n",
      "\n",
      "See the caveats in the documentation: http://pandas.pydata.org/pandas-docs/stable/indexing.html#indexing-view-versus-copy\n",
      "  \"\"\"\n",
      "C:\\ProgramData\\Anaconda3\\lib\\site-packages\\ipykernel_launcher.py:6: SettingWithCopyWarning: \n",
      "A value is trying to be set on a copy of a slice from a DataFrame\n",
      "\n",
      "See the caveats in the documentation: http://pandas.pydata.org/pandas-docs/stable/indexing.html#indexing-view-versus-copy\n",
      "  \n"
     ]
    }
   ],
   "source": [
    "kobe['dist'] = np.sqrt(kobe['loc_x']**2 + kobe['loc_y']**2)\n",
    "\n",
    "loc_x_zero = kobe['loc_x'] == 0\n",
    "kobe['angle'] = np.array([0]*len(kobe))\n",
    "kobe['angle'][~loc_x_zero] = np.arctan(kobe['loc_y'][~loc_x_zero] / kobe['loc_x'][~loc_x_zero])\n",
    "kobe['angle'][loc_x_zero] = np.pi / 2 "
   ]
  },
  {
   "cell_type": "code",
   "execution_count": 337,
   "metadata": {},
   "outputs": [
    {
     "data": {
      "text/html": [
       "<div>\n",
       "<style scoped>\n",
       "    .dataframe tbody tr th:only-of-type {\n",
       "        vertical-align: middle;\n",
       "    }\n",
       "\n",
       "    .dataframe tbody tr th {\n",
       "        vertical-align: top;\n",
       "    }\n",
       "\n",
       "    .dataframe thead th {\n",
       "        text-align: right;\n",
       "    }\n",
       "</style>\n",
       "<table border=\"1\" class=\"dataframe\">\n",
       "  <thead>\n",
       "    <tr style=\"text-align: right;\">\n",
       "      <th></th>\n",
       "      <th>action_type</th>\n",
       "      <th>combined_shot_type</th>\n",
       "      <th>game_event_id</th>\n",
       "      <th>game_id</th>\n",
       "      <th>lat</th>\n",
       "      <th>loc_x</th>\n",
       "      <th>loc_y</th>\n",
       "      <th>lon</th>\n",
       "      <th>minutes_remaining</th>\n",
       "      <th>period</th>\n",
       "      <th>...</th>\n",
       "      <th>game_date</th>\n",
       "      <th>matchup</th>\n",
       "      <th>opponent</th>\n",
       "      <th>shot_id</th>\n",
       "      <th>game_year</th>\n",
       "      <th>game_month</th>\n",
       "      <th>game_day_week</th>\n",
       "      <th>3pt_flag</th>\n",
       "      <th>dist</th>\n",
       "      <th>angle</th>\n",
       "    </tr>\n",
       "  </thead>\n",
       "  <tbody>\n",
       "    <tr>\n",
       "      <th>0</th>\n",
       "      <td>Jump Shot</td>\n",
       "      <td>Jump Shot</td>\n",
       "      <td>10</td>\n",
       "      <td>20000012</td>\n",
       "      <td>33.9723</td>\n",
       "      <td>167</td>\n",
       "      <td>72</td>\n",
       "      <td>-118.1028</td>\n",
       "      <td>10</td>\n",
       "      <td>1</td>\n",
       "      <td>...</td>\n",
       "      <td>2000-10-31</td>\n",
       "      <td>LAL @ POR</td>\n",
       "      <td>POR</td>\n",
       "      <td>1</td>\n",
       "      <td>2000</td>\n",
       "      <td>10</td>\n",
       "      <td>1</td>\n",
       "      <td>0</td>\n",
       "      <td>181.859836</td>\n",
       "      <td>0.407058</td>\n",
       "    </tr>\n",
       "    <tr>\n",
       "      <th>1</th>\n",
       "      <td>Jump Shot</td>\n",
       "      <td>Jump Shot</td>\n",
       "      <td>12</td>\n",
       "      <td>20000012</td>\n",
       "      <td>34.0443</td>\n",
       "      <td>-157</td>\n",
       "      <td>0</td>\n",
       "      <td>-118.4268</td>\n",
       "      <td>10</td>\n",
       "      <td>1</td>\n",
       "      <td>...</td>\n",
       "      <td>2000-10-31</td>\n",
       "      <td>LAL @ POR</td>\n",
       "      <td>POR</td>\n",
       "      <td>2</td>\n",
       "      <td>2000</td>\n",
       "      <td>10</td>\n",
       "      <td>1</td>\n",
       "      <td>0</td>\n",
       "      <td>157.000000</td>\n",
       "      <td>-0.000000</td>\n",
       "    </tr>\n",
       "    <tr>\n",
       "      <th>2</th>\n",
       "      <td>Jump Shot</td>\n",
       "      <td>Jump Shot</td>\n",
       "      <td>35</td>\n",
       "      <td>20000012</td>\n",
       "      <td>33.9093</td>\n",
       "      <td>-101</td>\n",
       "      <td>135</td>\n",
       "      <td>-118.3708</td>\n",
       "      <td>7</td>\n",
       "      <td>1</td>\n",
       "      <td>...</td>\n",
       "      <td>2000-10-31</td>\n",
       "      <td>LAL @ POR</td>\n",
       "      <td>POR</td>\n",
       "      <td>3</td>\n",
       "      <td>2000</td>\n",
       "      <td>10</td>\n",
       "      <td>1</td>\n",
       "      <td>0</td>\n",
       "      <td>168.600119</td>\n",
       "      <td>-0.928481</td>\n",
       "    </tr>\n",
       "    <tr>\n",
       "      <th>3</th>\n",
       "      <td>Jump Shot</td>\n",
       "      <td>Jump Shot</td>\n",
       "      <td>43</td>\n",
       "      <td>20000012</td>\n",
       "      <td>33.8693</td>\n",
       "      <td>138</td>\n",
       "      <td>175</td>\n",
       "      <td>-118.1318</td>\n",
       "      <td>6</td>\n",
       "      <td>1</td>\n",
       "      <td>...</td>\n",
       "      <td>2000-10-31</td>\n",
       "      <td>LAL @ POR</td>\n",
       "      <td>POR</td>\n",
       "      <td>4</td>\n",
       "      <td>2000</td>\n",
       "      <td>10</td>\n",
       "      <td>1</td>\n",
       "      <td>0</td>\n",
       "      <td>222.865430</td>\n",
       "      <td>0.903063</td>\n",
       "    </tr>\n",
       "    <tr>\n",
       "      <th>4</th>\n",
       "      <td>Driving Dunk Shot</td>\n",
       "      <td>Dunk</td>\n",
       "      <td>155</td>\n",
       "      <td>20000012</td>\n",
       "      <td>34.0443</td>\n",
       "      <td>0</td>\n",
       "      <td>0</td>\n",
       "      <td>-118.2698</td>\n",
       "      <td>6</td>\n",
       "      <td>2</td>\n",
       "      <td>...</td>\n",
       "      <td>2000-10-31</td>\n",
       "      <td>LAL @ POR</td>\n",
       "      <td>POR</td>\n",
       "      <td>5</td>\n",
       "      <td>2000</td>\n",
       "      <td>10</td>\n",
       "      <td>1</td>\n",
       "      <td>0</td>\n",
       "      <td>0.000000</td>\n",
       "      <td>1.570796</td>\n",
       "    </tr>\n",
       "  </tbody>\n",
       "</table>\n",
       "<p>5 rows × 31 columns</p>\n",
       "</div>"
      ],
      "text/plain": [
       "         action_type combined_shot_type  game_event_id   game_id      lat  \\\n",
       "0          Jump Shot          Jump Shot             10  20000012  33.9723   \n",
       "1          Jump Shot          Jump Shot             12  20000012  34.0443   \n",
       "2          Jump Shot          Jump Shot             35  20000012  33.9093   \n",
       "3          Jump Shot          Jump Shot             43  20000012  33.8693   \n",
       "4  Driving Dunk Shot               Dunk            155  20000012  34.0443   \n",
       "\n",
       "   loc_x  loc_y       lon  minutes_remaining  period    ...     game_date  \\\n",
       "0    167     72 -118.1028                 10       1    ...    2000-10-31   \n",
       "1   -157      0 -118.4268                 10       1    ...    2000-10-31   \n",
       "2   -101    135 -118.3708                  7       1    ...    2000-10-31   \n",
       "3    138    175 -118.1318                  6       1    ...    2000-10-31   \n",
       "4      0      0 -118.2698                  6       2    ...    2000-10-31   \n",
       "\n",
       "     matchup  opponent  shot_id  game_year game_month game_day_week 3pt_flag  \\\n",
       "0  LAL @ POR       POR        1       2000         10             1        0   \n",
       "1  LAL @ POR       POR        2       2000         10             1        0   \n",
       "2  LAL @ POR       POR        3       2000         10             1        0   \n",
       "3  LAL @ POR       POR        4       2000         10             1        0   \n",
       "4  LAL @ POR       POR        5       2000         10             1        0   \n",
       "\n",
       "         dist     angle  \n",
       "0  181.859836  0.407058  \n",
       "1  157.000000 -0.000000  \n",
       "2  168.600119 -0.928481  \n",
       "3  222.865430  0.903063  \n",
       "4    0.000000  1.570796  \n",
       "\n",
       "[5 rows x 31 columns]"
      ]
     },
     "execution_count": 337,
     "metadata": {},
     "output_type": "execute_result"
    }
   ],
   "source": [
    "kobe.head()"
   ]
  },
  {
   "cell_type": "code",
   "execution_count": 338,
   "metadata": {},
   "outputs": [
    {
     "data": {
      "text/html": [
       "<div>\n",
       "<style scoped>\n",
       "    .dataframe tbody tr th:only-of-type {\n",
       "        vertical-align: middle;\n",
       "    }\n",
       "\n",
       "    .dataframe tbody tr th {\n",
       "        vertical-align: top;\n",
       "    }\n",
       "\n",
       "    .dataframe thead th {\n",
       "        text-align: right;\n",
       "    }\n",
       "</style>\n",
       "<table border=\"1\" class=\"dataframe\">\n",
       "  <thead>\n",
       "    <tr style=\"text-align: right;\">\n",
       "      <th></th>\n",
       "      <th>shot_made_flag</th>\n",
       "    </tr>\n",
       "    <tr>\n",
       "      <th>team_name</th>\n",
       "      <th></th>\n",
       "    </tr>\n",
       "  </thead>\n",
       "  <tbody>\n",
       "    <tr>\n",
       "      <th>Los Angeles Lakers</th>\n",
       "      <td>25697</td>\n",
       "    </tr>\n",
       "  </tbody>\n",
       "</table>\n",
       "</div>"
      ],
      "text/plain": [
       "                    shot_made_flag\n",
       "team_name                         \n",
       "Los Angeles Lakers           25697"
      ]
     },
     "execution_count": 338,
     "metadata": {},
     "output_type": "execute_result"
    }
   ],
   "source": [
    "kobe[['team_name','shot_made_flag' ]].groupby(['team_name']).agg('count').sort_values('shot_made_flag', ascending = False)"
   ]
  },
  {
   "cell_type": "code",
   "execution_count": 339,
   "metadata": {},
   "outputs": [],
   "source": [
    "not_needed.extend(['team_name', 'team_id'])"
   ]
  },
  {
   "cell_type": "code",
   "execution_count": 340,
   "metadata": {},
   "outputs": [],
   "source": [
    "not_needed.extend(['season'])"
   ]
  },
  {
   "cell_type": "code",
   "execution_count": 341,
   "metadata": {},
   "outputs": [
    {
     "data": {
      "text/plain": [
       "['season', 'game_date', 'shot_type', 'team_name', 'team_id', 'season']"
      ]
     },
     "execution_count": 341,
     "metadata": {},
     "output_type": "execute_result"
    }
   ],
   "source": [
    "not_needed"
   ]
  },
  {
   "cell_type": "code",
   "execution_count": 342,
   "metadata": {},
   "outputs": [
    {
     "data": {
      "text/html": [
       "<div>\n",
       "<style scoped>\n",
       "    .dataframe tbody tr th:only-of-type {\n",
       "        vertical-align: middle;\n",
       "    }\n",
       "\n",
       "    .dataframe tbody tr th {\n",
       "        vertical-align: top;\n",
       "    }\n",
       "\n",
       "    .dataframe thead th {\n",
       "        text-align: right;\n",
       "    }\n",
       "</style>\n",
       "<table border=\"1\" class=\"dataframe\">\n",
       "  <thead>\n",
       "    <tr style=\"text-align: right;\">\n",
       "      <th></th>\n",
       "      <th>shot_made_flag</th>\n",
       "    </tr>\n",
       "    <tr>\n",
       "      <th>matchup</th>\n",
       "      <th></th>\n",
       "    </tr>\n",
       "  </thead>\n",
       "  <tbody>\n",
       "    <tr>\n",
       "      <th>LAL @ SAS</th>\n",
       "      <td>853</td>\n",
       "    </tr>\n",
       "    <tr>\n",
       "      <th>LAL vs. SAS</th>\n",
       "      <td>765</td>\n",
       "    </tr>\n",
       "    <tr>\n",
       "      <th>LAL @ PHX</th>\n",
       "      <td>751</td>\n",
       "    </tr>\n",
       "    <tr>\n",
       "      <th>LAL @ SAC</th>\n",
       "      <td>751</td>\n",
       "    </tr>\n",
       "    <tr>\n",
       "      <th>LAL vs. HOU</th>\n",
       "      <td>722</td>\n",
       "    </tr>\n",
       "    <tr>\n",
       "      <th>LAL vs. PHX</th>\n",
       "      <td>721</td>\n",
       "    </tr>\n",
       "    <tr>\n",
       "      <th>LAL @ DEN</th>\n",
       "      <td>712</td>\n",
       "    </tr>\n",
       "    <tr>\n",
       "      <th>LAL @ HOU</th>\n",
       "      <td>677</td>\n",
       "    </tr>\n",
       "    <tr>\n",
       "      <th>LAL @ POR</th>\n",
       "      <td>676</td>\n",
       "    </tr>\n",
       "    <tr>\n",
       "      <th>LAL vs. SAC</th>\n",
       "      <td>646</td>\n",
       "    </tr>\n",
       "    <tr>\n",
       "      <th>LAL vs. DEN</th>\n",
       "      <td>640</td>\n",
       "    </tr>\n",
       "    <tr>\n",
       "      <th>LAL @ UTA</th>\n",
       "      <td>617</td>\n",
       "    </tr>\n",
       "    <tr>\n",
       "      <th>LAL vs. POR</th>\n",
       "      <td>616</td>\n",
       "    </tr>\n",
       "    <tr>\n",
       "      <th>LAL @ MIN</th>\n",
       "      <td>615</td>\n",
       "    </tr>\n",
       "    <tr>\n",
       "      <th>LAL vs. UTA</th>\n",
       "      <td>606</td>\n",
       "    </tr>\n",
       "    <tr>\n",
       "      <th>LAL vs. MIN</th>\n",
       "      <td>604</td>\n",
       "    </tr>\n",
       "    <tr>\n",
       "      <th>LAL @ GSW</th>\n",
       "      <td>585</td>\n",
       "    </tr>\n",
       "    <tr>\n",
       "      <th>LAL vs. GSW</th>\n",
       "      <td>558</td>\n",
       "    </tr>\n",
       "    <tr>\n",
       "      <th>LAL vs. LAC</th>\n",
       "      <td>548</td>\n",
       "    </tr>\n",
       "    <tr>\n",
       "      <th>LAL @ DAL</th>\n",
       "      <td>534</td>\n",
       "    </tr>\n",
       "    <tr>\n",
       "      <th>LAL @ LAC</th>\n",
       "      <td>526</td>\n",
       "    </tr>\n",
       "    <tr>\n",
       "      <th>LAL vs. DAL</th>\n",
       "      <td>499</td>\n",
       "    </tr>\n",
       "    <tr>\n",
       "      <th>LAL vs. MEM</th>\n",
       "      <td>444</td>\n",
       "    </tr>\n",
       "    <tr>\n",
       "      <th>LAL @ BOS</th>\n",
       "      <td>432</td>\n",
       "    </tr>\n",
       "    <tr>\n",
       "      <th>LAL @ MEM</th>\n",
       "      <td>427</td>\n",
       "    </tr>\n",
       "    <tr>\n",
       "      <th>LAL @ SEA</th>\n",
       "      <td>366</td>\n",
       "    </tr>\n",
       "    <tr>\n",
       "      <th>LAL vs. BOS</th>\n",
       "      <td>351</td>\n",
       "    </tr>\n",
       "    <tr>\n",
       "      <th>LAL vs. IND</th>\n",
       "      <td>348</td>\n",
       "    </tr>\n",
       "    <tr>\n",
       "      <th>LAL @ ORL</th>\n",
       "      <td>347</td>\n",
       "    </tr>\n",
       "    <tr>\n",
       "      <th>LAL vs. SEA</th>\n",
       "      <td>328</td>\n",
       "    </tr>\n",
       "    <tr>\n",
       "      <th>...</th>\n",
       "      <td>...</td>\n",
       "    </tr>\n",
       "    <tr>\n",
       "      <th>LAL @ CHI</th>\n",
       "      <td>261</td>\n",
       "    </tr>\n",
       "    <tr>\n",
       "      <th>LAL vs. MIL</th>\n",
       "      <td>260</td>\n",
       "    </tr>\n",
       "    <tr>\n",
       "      <th>LAL vs. ORL</th>\n",
       "      <td>257</td>\n",
       "    </tr>\n",
       "    <tr>\n",
       "      <th>LAL vs. CHI</th>\n",
       "      <td>255</td>\n",
       "    </tr>\n",
       "    <tr>\n",
       "      <th>LAL @ ATL</th>\n",
       "      <td>249</td>\n",
       "    </tr>\n",
       "    <tr>\n",
       "      <th>LAL @ MIL</th>\n",
       "      <td>247</td>\n",
       "    </tr>\n",
       "    <tr>\n",
       "      <th>LAL @ MIA</th>\n",
       "      <td>239</td>\n",
       "    </tr>\n",
       "    <tr>\n",
       "      <th>LAL vs. CLE</th>\n",
       "      <td>238</td>\n",
       "    </tr>\n",
       "    <tr>\n",
       "      <th>LAL vs. NOH</th>\n",
       "      <td>238</td>\n",
       "    </tr>\n",
       "    <tr>\n",
       "      <th>LAL @ NOH</th>\n",
       "      <td>237</td>\n",
       "    </tr>\n",
       "    <tr>\n",
       "      <th>LAL @ NJN</th>\n",
       "      <td>225</td>\n",
       "    </tr>\n",
       "    <tr>\n",
       "      <th>LAL vs. WAS</th>\n",
       "      <td>224</td>\n",
       "    </tr>\n",
       "    <tr>\n",
       "      <th>LAL vs. NJN</th>\n",
       "      <td>197</td>\n",
       "    </tr>\n",
       "    <tr>\n",
       "      <th>LAL vs. ATL</th>\n",
       "      <td>189</td>\n",
       "    </tr>\n",
       "    <tr>\n",
       "      <th>LAL vs. CHA</th>\n",
       "      <td>188</td>\n",
       "    </tr>\n",
       "    <tr>\n",
       "      <th>LAL @ CHA</th>\n",
       "      <td>177</td>\n",
       "    </tr>\n",
       "    <tr>\n",
       "      <th>LAL @ NOK</th>\n",
       "      <td>108</td>\n",
       "    </tr>\n",
       "    <tr>\n",
       "      <th>LAL @ VAN</th>\n",
       "      <td>107</td>\n",
       "    </tr>\n",
       "    <tr>\n",
       "      <th>LAL vs. VAN</th>\n",
       "      <td>97</td>\n",
       "    </tr>\n",
       "    <tr>\n",
       "      <th>LAL vs. NOK</th>\n",
       "      <td>88</td>\n",
       "    </tr>\n",
       "    <tr>\n",
       "      <th>LAL vs. CHH</th>\n",
       "      <td>81</td>\n",
       "    </tr>\n",
       "    <tr>\n",
       "      <th>LAL @ NOP</th>\n",
       "      <td>70</td>\n",
       "    </tr>\n",
       "    <tr>\n",
       "      <th>LAL @ CHH</th>\n",
       "      <td>54</td>\n",
       "    </tr>\n",
       "    <tr>\n",
       "      <th>LAL vs. PHO</th>\n",
       "      <td>34</td>\n",
       "    </tr>\n",
       "    <tr>\n",
       "      <th>LAL @ BKN</th>\n",
       "      <td>32</td>\n",
       "    </tr>\n",
       "    <tr>\n",
       "      <th>LAL @ PHO</th>\n",
       "      <td>29</td>\n",
       "    </tr>\n",
       "    <tr>\n",
       "      <th>LAL vs. NOP</th>\n",
       "      <td>21</td>\n",
       "    </tr>\n",
       "    <tr>\n",
       "      <th>LAL vs. SAN</th>\n",
       "      <td>20</td>\n",
       "    </tr>\n",
       "    <tr>\n",
       "      <th>LAL @ UTH</th>\n",
       "      <td>15</td>\n",
       "    </tr>\n",
       "    <tr>\n",
       "      <th>LAL vs. BKN</th>\n",
       "      <td>13</td>\n",
       "    </tr>\n",
       "  </tbody>\n",
       "</table>\n",
       "<p>74 rows × 1 columns</p>\n",
       "</div>"
      ],
      "text/plain": [
       "             shot_made_flag\n",
       "matchup                    \n",
       "LAL @ SAS               853\n",
       "LAL vs. SAS             765\n",
       "LAL @ PHX               751\n",
       "LAL @ SAC               751\n",
       "LAL vs. HOU             722\n",
       "LAL vs. PHX             721\n",
       "LAL @ DEN               712\n",
       "LAL @ HOU               677\n",
       "LAL @ POR               676\n",
       "LAL vs. SAC             646\n",
       "LAL vs. DEN             640\n",
       "LAL @ UTA               617\n",
       "LAL vs. POR             616\n",
       "LAL @ MIN               615\n",
       "LAL vs. UTA             606\n",
       "LAL vs. MIN             604\n",
       "LAL @ GSW               585\n",
       "LAL vs. GSW             558\n",
       "LAL vs. LAC             548\n",
       "LAL @ DAL               534\n",
       "LAL @ LAC               526\n",
       "LAL vs. DAL             499\n",
       "LAL vs. MEM             444\n",
       "LAL @ BOS               432\n",
       "LAL @ MEM               427\n",
       "LAL @ SEA               366\n",
       "LAL vs. BOS             351\n",
       "LAL vs. IND             348\n",
       "LAL @ ORL               347\n",
       "LAL vs. SEA             328\n",
       "...                     ...\n",
       "LAL @ CHI               261\n",
       "LAL vs. MIL             260\n",
       "LAL vs. ORL             257\n",
       "LAL vs. CHI             255\n",
       "LAL @ ATL               249\n",
       "LAL @ MIL               247\n",
       "LAL @ MIA               239\n",
       "LAL vs. CLE             238\n",
       "LAL vs. NOH             238\n",
       "LAL @ NOH               237\n",
       "LAL @ NJN               225\n",
       "LAL vs. WAS             224\n",
       "LAL vs. NJN             197\n",
       "LAL vs. ATL             189\n",
       "LAL vs. CHA             188\n",
       "LAL @ CHA               177\n",
       "LAL @ NOK               108\n",
       "LAL @ VAN               107\n",
       "LAL vs. VAN              97\n",
       "LAL vs. NOK              88\n",
       "LAL vs. CHH              81\n",
       "LAL @ NOP                70\n",
       "LAL @ CHH                54\n",
       "LAL vs. PHO              34\n",
       "LAL @ BKN                32\n",
       "LAL @ PHO                29\n",
       "LAL vs. NOP              21\n",
       "LAL vs. SAN              20\n",
       "LAL @ UTH                15\n",
       "LAL vs. BKN              13\n",
       "\n",
       "[74 rows x 1 columns]"
      ]
     },
     "execution_count": 342,
     "metadata": {},
     "output_type": "execute_result"
    }
   ],
   "source": [
    "kobe[['matchup','shot_made_flag' ]].groupby(['matchup']).agg('count').sort_values('shot_made_flag', ascending = False)"
   ]
  },
  {
   "cell_type": "code",
   "execution_count": 343,
   "metadata": {},
   "outputs": [
    {
     "data": {
      "text/html": [
       "<div>\n",
       "<style scoped>\n",
       "    .dataframe tbody tr th:only-of-type {\n",
       "        vertical-align: middle;\n",
       "    }\n",
       "\n",
       "    .dataframe tbody tr th {\n",
       "        vertical-align: top;\n",
       "    }\n",
       "\n",
       "    .dataframe thead th {\n",
       "        text-align: right;\n",
       "    }\n",
       "</style>\n",
       "<table border=\"1\" class=\"dataframe\">\n",
       "  <thead>\n",
       "    <tr style=\"text-align: right;\">\n",
       "      <th></th>\n",
       "      <th>shot_made_flag</th>\n",
       "    </tr>\n",
       "    <tr>\n",
       "      <th>opponent</th>\n",
       "      <th></th>\n",
       "    </tr>\n",
       "  </thead>\n",
       "  <tbody>\n",
       "    <tr>\n",
       "      <th>SAS</th>\n",
       "      <td>1638</td>\n",
       "    </tr>\n",
       "    <tr>\n",
       "      <th>PHX</th>\n",
       "      <td>1535</td>\n",
       "    </tr>\n",
       "    <tr>\n",
       "      <th>HOU</th>\n",
       "      <td>1399</td>\n",
       "    </tr>\n",
       "    <tr>\n",
       "      <th>SAC</th>\n",
       "      <td>1397</td>\n",
       "    </tr>\n",
       "    <tr>\n",
       "      <th>DEN</th>\n",
       "      <td>1352</td>\n",
       "    </tr>\n",
       "    <tr>\n",
       "      <th>POR</th>\n",
       "      <td>1292</td>\n",
       "    </tr>\n",
       "    <tr>\n",
       "      <th>UTA</th>\n",
       "      <td>1238</td>\n",
       "    </tr>\n",
       "    <tr>\n",
       "      <th>MIN</th>\n",
       "      <td>1219</td>\n",
       "    </tr>\n",
       "    <tr>\n",
       "      <th>GSW</th>\n",
       "      <td>1143</td>\n",
       "    </tr>\n",
       "    <tr>\n",
       "      <th>LAC</th>\n",
       "      <td>1074</td>\n",
       "    </tr>\n",
       "    <tr>\n",
       "      <th>DAL</th>\n",
       "      <td>1033</td>\n",
       "    </tr>\n",
       "    <tr>\n",
       "      <th>MEM</th>\n",
       "      <td>871</td>\n",
       "    </tr>\n",
       "    <tr>\n",
       "      <th>BOS</th>\n",
       "      <td>783</td>\n",
       "    </tr>\n",
       "    <tr>\n",
       "      <th>SEA</th>\n",
       "      <td>694</td>\n",
       "    </tr>\n",
       "    <tr>\n",
       "      <th>IND</th>\n",
       "      <td>626</td>\n",
       "    </tr>\n",
       "    <tr>\n",
       "      <th>ORL</th>\n",
       "      <td>604</td>\n",
       "    </tr>\n",
       "    <tr>\n",
       "      <th>PHI</th>\n",
       "      <td>603</td>\n",
       "    </tr>\n",
       "    <tr>\n",
       "      <th>DET</th>\n",
       "      <td>587</td>\n",
       "    </tr>\n",
       "    <tr>\n",
       "      <th>NYK</th>\n",
       "      <td>566</td>\n",
       "    </tr>\n",
       "    <tr>\n",
       "      <th>OKC</th>\n",
       "      <td>561</td>\n",
       "    </tr>\n",
       "    <tr>\n",
       "      <th>TOR</th>\n",
       "      <td>556</td>\n",
       "    </tr>\n",
       "    <tr>\n",
       "      <th>MIA</th>\n",
       "      <td>517</td>\n",
       "    </tr>\n",
       "    <tr>\n",
       "      <th>CHI</th>\n",
       "      <td>516</td>\n",
       "    </tr>\n",
       "    <tr>\n",
       "      <th>CLE</th>\n",
       "      <td>514</td>\n",
       "    </tr>\n",
       "    <tr>\n",
       "      <th>MIL</th>\n",
       "      <td>507</td>\n",
       "    </tr>\n",
       "    <tr>\n",
       "      <th>WAS</th>\n",
       "      <td>501</td>\n",
       "    </tr>\n",
       "    <tr>\n",
       "      <th>CHA</th>\n",
       "      <td>500</td>\n",
       "    </tr>\n",
       "    <tr>\n",
       "      <th>NOH</th>\n",
       "      <td>475</td>\n",
       "    </tr>\n",
       "    <tr>\n",
       "      <th>ATL</th>\n",
       "      <td>438</td>\n",
       "    </tr>\n",
       "    <tr>\n",
       "      <th>NJN</th>\n",
       "      <td>422</td>\n",
       "    </tr>\n",
       "    <tr>\n",
       "      <th>NOP</th>\n",
       "      <td>287</td>\n",
       "    </tr>\n",
       "    <tr>\n",
       "      <th>VAN</th>\n",
       "      <td>204</td>\n",
       "    </tr>\n",
       "    <tr>\n",
       "      <th>BKN</th>\n",
       "      <td>45</td>\n",
       "    </tr>\n",
       "  </tbody>\n",
       "</table>\n",
       "</div>"
      ],
      "text/plain": [
       "          shot_made_flag\n",
       "opponent                \n",
       "SAS                 1638\n",
       "PHX                 1535\n",
       "HOU                 1399\n",
       "SAC                 1397\n",
       "DEN                 1352\n",
       "POR                 1292\n",
       "UTA                 1238\n",
       "MIN                 1219\n",
       "GSW                 1143\n",
       "LAC                 1074\n",
       "DAL                 1033\n",
       "MEM                  871\n",
       "BOS                  783\n",
       "SEA                  694\n",
       "IND                  626\n",
       "ORL                  604\n",
       "PHI                  603\n",
       "DET                  587\n",
       "NYK                  566\n",
       "OKC                  561\n",
       "TOR                  556\n",
       "MIA                  517\n",
       "CHI                  516\n",
       "CLE                  514\n",
       "MIL                  507\n",
       "WAS                  501\n",
       "CHA                  500\n",
       "NOH                  475\n",
       "ATL                  438\n",
       "NJN                  422\n",
       "NOP                  287\n",
       "VAN                  204\n",
       "BKN                   45"
      ]
     },
     "execution_count": 343,
     "metadata": {},
     "output_type": "execute_result"
    }
   ],
   "source": [
    "kobe[['opponent','shot_made_flag' ]].groupby(['opponent']).agg('count').sort_values('shot_made_flag', ascending = False)"
   ]
  },
  {
   "cell_type": "markdown",
   "metadata": {},
   "source": [
    "opponent и matchup предоставляют нам схожую информацию, оставим opponent, а из matchup вытащим признак \"домашнего\" матча (если содержит @ - гостевой)"
   ]
  },
  {
   "cell_type": "code",
   "execution_count": 344,
   "metadata": {},
   "outputs": [],
   "source": [
    "kobe['home_match_flag'] = np.where(kobe['matchup'].str.contains('@'), 0, 1)"
   ]
  },
  {
   "cell_type": "code",
   "execution_count": 345,
   "metadata": {},
   "outputs": [],
   "source": [
    "not_needed.append('matchup')"
   ]
  },
  {
   "cell_type": "markdown",
   "metadata": {},
   "source": [
    "Параметры lat, lon, loc_x_loc_y, судя по названию, должны быть примерно об одном и том же, и действительно, видим полную корреляцию между loc_x и lon, loc_y и lat. Оставим только одну пару из них"
   ]
  },
  {
   "cell_type": "code",
   "execution_count": 346,
   "metadata": {},
   "outputs": [
    {
     "data": {
      "text/html": [
       "<div>\n",
       "<style scoped>\n",
       "    .dataframe tbody tr th:only-of-type {\n",
       "        vertical-align: middle;\n",
       "    }\n",
       "\n",
       "    .dataframe tbody tr th {\n",
       "        vertical-align: top;\n",
       "    }\n",
       "\n",
       "    .dataframe thead th {\n",
       "        text-align: right;\n",
       "    }\n",
       "</style>\n",
       "<table border=\"1\" class=\"dataframe\">\n",
       "  <thead>\n",
       "    <tr style=\"text-align: right;\">\n",
       "      <th></th>\n",
       "      <th>lat</th>\n",
       "      <th>lon</th>\n",
       "      <th>loc_x</th>\n",
       "      <th>loc_y</th>\n",
       "    </tr>\n",
       "  </thead>\n",
       "  <tbody>\n",
       "    <tr>\n",
       "      <th>lat</th>\n",
       "      <td>1.000000</td>\n",
       "      <td>0.016217</td>\n",
       "      <td>0.016217</td>\n",
       "      <td>-1.000000</td>\n",
       "    </tr>\n",
       "    <tr>\n",
       "      <th>lon</th>\n",
       "      <td>0.016217</td>\n",
       "      <td>1.000000</td>\n",
       "      <td>1.000000</td>\n",
       "      <td>-0.016217</td>\n",
       "    </tr>\n",
       "    <tr>\n",
       "      <th>loc_x</th>\n",
       "      <td>0.016217</td>\n",
       "      <td>1.000000</td>\n",
       "      <td>1.000000</td>\n",
       "      <td>-0.016217</td>\n",
       "    </tr>\n",
       "    <tr>\n",
       "      <th>loc_y</th>\n",
       "      <td>-1.000000</td>\n",
       "      <td>-0.016217</td>\n",
       "      <td>-0.016217</td>\n",
       "      <td>1.000000</td>\n",
       "    </tr>\n",
       "  </tbody>\n",
       "</table>\n",
       "</div>"
      ],
      "text/plain": [
       "            lat       lon     loc_x     loc_y\n",
       "lat    1.000000  0.016217  0.016217 -1.000000\n",
       "lon    0.016217  1.000000  1.000000 -0.016217\n",
       "loc_x  0.016217  1.000000  1.000000 -0.016217\n",
       "loc_y -1.000000 -0.016217 -0.016217  1.000000"
      ]
     },
     "execution_count": 346,
     "metadata": {},
     "output_type": "execute_result"
    }
   ],
   "source": [
    "kobe[['lat','lon','loc_x','loc_y']].corr()"
   ]
  },
  {
   "cell_type": "code",
   "execution_count": 347,
   "metadata": {},
   "outputs": [],
   "source": [
    "not_needed.extend(['lon','lat'])"
   ]
  },
  {
   "cell_type": "code",
   "execution_count": 348,
   "metadata": {},
   "outputs": [
    {
     "data": {
      "text/plain": [
       "['season',\n",
       " 'game_date',\n",
       " 'shot_type',\n",
       " 'team_name',\n",
       " 'team_id',\n",
       " 'season',\n",
       " 'matchup',\n",
       " 'lon',\n",
       " 'lat']"
      ]
     },
     "execution_count": 348,
     "metadata": {},
     "output_type": "execute_result"
    }
   ],
   "source": [
    "not_needed"
   ]
  },
  {
   "cell_type": "markdown",
   "metadata": {},
   "source": [
    "Посмотрим теперь на числовые параметры\n",
    "Начнём с времени до окончания матча, трансформируем фичи \"минуты до окончания\" и \"секунды до окончания\" в \"секунды до окончания\""
   ]
  },
  {
   "cell_type": "code",
   "execution_count": 349,
   "metadata": {},
   "outputs": [],
   "source": [
    "kobe['remaining_time_sec'] = kobe['minutes_remaining'] * 60 + kobe['seconds_remaining']"
   ]
  },
  {
   "cell_type": "code",
   "execution_count": 350,
   "metadata": {},
   "outputs": [],
   "source": [
    "not_needed.extend(['minutes_remaining','seconds_remaining'])"
   ]
  },
  {
   "cell_type": "code",
   "execution_count": 351,
   "metadata": {},
   "outputs": [
    {
     "data": {
      "text/plain": [
       "['season',\n",
       " 'game_date',\n",
       " 'shot_type',\n",
       " 'team_name',\n",
       " 'team_id',\n",
       " 'season',\n",
       " 'matchup',\n",
       " 'lon',\n",
       " 'lat',\n",
       " 'minutes_remaining',\n",
       " 'seconds_remaining',\n",
       " 'lon',\n",
       " 'lat']"
      ]
     },
     "execution_count": 351,
     "metadata": {},
     "output_type": "execute_result"
    }
   ],
   "source": [
    "not_needed.extend(['lon','lat'])\n",
    "not_needed"
   ]
  },
  {
   "cell_type": "code",
   "execution_count": 352,
   "metadata": {},
   "outputs": [],
   "source": [
    "#вряд ли извлечём что-то полезное из game_event_id или game_id - удалим и их\n",
    "not_needed.extend(['game_event_id','game_id'])"
   ]
  },
  {
   "cell_type": "markdown",
   "metadata": {},
   "source": [
    "Удалим \"лишнее\" и посмотрим что получится"
   ]
  },
  {
   "cell_type": "code",
   "execution_count": 353,
   "metadata": {},
   "outputs": [],
   "source": [
    "kobe_cut = kobe.drop(not_needed, axis=1)"
   ]
  },
  {
   "cell_type": "code",
   "execution_count": 354,
   "metadata": {},
   "outputs": [
    {
     "data": {
      "text/html": [
       "<div>\n",
       "<style scoped>\n",
       "    .dataframe tbody tr th:only-of-type {\n",
       "        vertical-align: middle;\n",
       "    }\n",
       "\n",
       "    .dataframe tbody tr th {\n",
       "        vertical-align: top;\n",
       "    }\n",
       "\n",
       "    .dataframe thead th {\n",
       "        text-align: right;\n",
       "    }\n",
       "</style>\n",
       "<table border=\"1\" class=\"dataframe\">\n",
       "  <thead>\n",
       "    <tr style=\"text-align: right;\">\n",
       "      <th></th>\n",
       "      <th>action_type</th>\n",
       "      <th>combined_shot_type</th>\n",
       "      <th>loc_x</th>\n",
       "      <th>loc_y</th>\n",
       "      <th>period</th>\n",
       "      <th>playoffs</th>\n",
       "      <th>shot_distance</th>\n",
       "      <th>shot_made_flag</th>\n",
       "      <th>shot_zone_area</th>\n",
       "      <th>shot_zone_basic</th>\n",
       "      <th>...</th>\n",
       "      <th>opponent</th>\n",
       "      <th>shot_id</th>\n",
       "      <th>game_year</th>\n",
       "      <th>game_month</th>\n",
       "      <th>game_day_week</th>\n",
       "      <th>3pt_flag</th>\n",
       "      <th>dist</th>\n",
       "      <th>angle</th>\n",
       "      <th>home_match_flag</th>\n",
       "      <th>remaining_time_sec</th>\n",
       "    </tr>\n",
       "  </thead>\n",
       "  <tbody>\n",
       "    <tr>\n",
       "      <th>0</th>\n",
       "      <td>Jump Shot</td>\n",
       "      <td>Jump Shot</td>\n",
       "      <td>167</td>\n",
       "      <td>72</td>\n",
       "      <td>1</td>\n",
       "      <td>0</td>\n",
       "      <td>18</td>\n",
       "      <td>NaN</td>\n",
       "      <td>Right Side(R)</td>\n",
       "      <td>Mid-Range</td>\n",
       "      <td>...</td>\n",
       "      <td>POR</td>\n",
       "      <td>1</td>\n",
       "      <td>2000</td>\n",
       "      <td>10</td>\n",
       "      <td>1</td>\n",
       "      <td>0</td>\n",
       "      <td>181.859836</td>\n",
       "      <td>0.407058</td>\n",
       "      <td>0</td>\n",
       "      <td>627</td>\n",
       "    </tr>\n",
       "    <tr>\n",
       "      <th>1</th>\n",
       "      <td>Jump Shot</td>\n",
       "      <td>Jump Shot</td>\n",
       "      <td>-157</td>\n",
       "      <td>0</td>\n",
       "      <td>1</td>\n",
       "      <td>0</td>\n",
       "      <td>15</td>\n",
       "      <td>0.0</td>\n",
       "      <td>Left Side(L)</td>\n",
       "      <td>Mid-Range</td>\n",
       "      <td>...</td>\n",
       "      <td>POR</td>\n",
       "      <td>2</td>\n",
       "      <td>2000</td>\n",
       "      <td>10</td>\n",
       "      <td>1</td>\n",
       "      <td>0</td>\n",
       "      <td>157.000000</td>\n",
       "      <td>-0.000000</td>\n",
       "      <td>0</td>\n",
       "      <td>622</td>\n",
       "    </tr>\n",
       "    <tr>\n",
       "      <th>2</th>\n",
       "      <td>Jump Shot</td>\n",
       "      <td>Jump Shot</td>\n",
       "      <td>-101</td>\n",
       "      <td>135</td>\n",
       "      <td>1</td>\n",
       "      <td>0</td>\n",
       "      <td>16</td>\n",
       "      <td>1.0</td>\n",
       "      <td>Left Side Center(LC)</td>\n",
       "      <td>Mid-Range</td>\n",
       "      <td>...</td>\n",
       "      <td>POR</td>\n",
       "      <td>3</td>\n",
       "      <td>2000</td>\n",
       "      <td>10</td>\n",
       "      <td>1</td>\n",
       "      <td>0</td>\n",
       "      <td>168.600119</td>\n",
       "      <td>-0.928481</td>\n",
       "      <td>0</td>\n",
       "      <td>465</td>\n",
       "    </tr>\n",
       "    <tr>\n",
       "      <th>3</th>\n",
       "      <td>Jump Shot</td>\n",
       "      <td>Jump Shot</td>\n",
       "      <td>138</td>\n",
       "      <td>175</td>\n",
       "      <td>1</td>\n",
       "      <td>0</td>\n",
       "      <td>22</td>\n",
       "      <td>0.0</td>\n",
       "      <td>Right Side Center(RC)</td>\n",
       "      <td>Mid-Range</td>\n",
       "      <td>...</td>\n",
       "      <td>POR</td>\n",
       "      <td>4</td>\n",
       "      <td>2000</td>\n",
       "      <td>10</td>\n",
       "      <td>1</td>\n",
       "      <td>0</td>\n",
       "      <td>222.865430</td>\n",
       "      <td>0.903063</td>\n",
       "      <td>0</td>\n",
       "      <td>412</td>\n",
       "    </tr>\n",
       "    <tr>\n",
       "      <th>4</th>\n",
       "      <td>Driving Dunk Shot</td>\n",
       "      <td>Dunk</td>\n",
       "      <td>0</td>\n",
       "      <td>0</td>\n",
       "      <td>2</td>\n",
       "      <td>0</td>\n",
       "      <td>0</td>\n",
       "      <td>1.0</td>\n",
       "      <td>Center(C)</td>\n",
       "      <td>Restricted Area</td>\n",
       "      <td>...</td>\n",
       "      <td>POR</td>\n",
       "      <td>5</td>\n",
       "      <td>2000</td>\n",
       "      <td>10</td>\n",
       "      <td>1</td>\n",
       "      <td>0</td>\n",
       "      <td>0.000000</td>\n",
       "      <td>1.570796</td>\n",
       "      <td>0</td>\n",
       "      <td>379</td>\n",
       "    </tr>\n",
       "  </tbody>\n",
       "</table>\n",
       "<p>5 rows × 21 columns</p>\n",
       "</div>"
      ],
      "text/plain": [
       "         action_type combined_shot_type  loc_x  loc_y  period  playoffs  \\\n",
       "0          Jump Shot          Jump Shot    167     72       1         0   \n",
       "1          Jump Shot          Jump Shot   -157      0       1         0   \n",
       "2          Jump Shot          Jump Shot   -101    135       1         0   \n",
       "3          Jump Shot          Jump Shot    138    175       1         0   \n",
       "4  Driving Dunk Shot               Dunk      0      0       2         0   \n",
       "\n",
       "   shot_distance  shot_made_flag         shot_zone_area  shot_zone_basic  \\\n",
       "0             18             NaN          Right Side(R)        Mid-Range   \n",
       "1             15             0.0           Left Side(L)        Mid-Range   \n",
       "2             16             1.0   Left Side Center(LC)        Mid-Range   \n",
       "3             22             0.0  Right Side Center(RC)        Mid-Range   \n",
       "4              0             1.0              Center(C)  Restricted Area   \n",
       "\n",
       "          ...         opponent shot_id  game_year  game_month  game_day_week  \\\n",
       "0         ...              POR       1       2000          10              1   \n",
       "1         ...              POR       2       2000          10              1   \n",
       "2         ...              POR       3       2000          10              1   \n",
       "3         ...              POR       4       2000          10              1   \n",
       "4         ...              POR       5       2000          10              1   \n",
       "\n",
       "   3pt_flag        dist     angle  home_match_flag  remaining_time_sec  \n",
       "0         0  181.859836  0.407058                0                 627  \n",
       "1         0  157.000000 -0.000000                0                 622  \n",
       "2         0  168.600119 -0.928481                0                 465  \n",
       "3         0  222.865430  0.903063                0                 412  \n",
       "4         0    0.000000  1.570796                0                 379  \n",
       "\n",
       "[5 rows x 21 columns]"
      ]
     },
     "execution_count": 354,
     "metadata": {},
     "output_type": "execute_result"
    }
   ],
   "source": [
    "kobe_cut.head()"
   ]
  },
  {
   "cell_type": "code",
   "execution_count": 355,
   "metadata": {},
   "outputs": [],
   "source": [
    "#сделаем shot_id индексом\n",
    "kobe_cut = kobe_cut.set_index('shot_id')"
   ]
  },
  {
   "cell_type": "code",
   "execution_count": 356,
   "metadata": {},
   "outputs": [],
   "source": [
    "kobe_cut = kobe_cut[kobe_cut['shot_made_flag'].notnull()]"
   ]
  },
  {
   "cell_type": "code",
   "execution_count": 357,
   "metadata": {},
   "outputs": [
    {
     "data": {
      "text/plain": [
       "<matplotlib.axes._subplots.AxesSubplot at 0x2032c74bdd8>"
      ]
     },
     "execution_count": 357,
     "metadata": {},
     "output_type": "execute_result"
    },
    {
     "data": {
      "image/png": "[encoded data removed]",
      "text/plain": [
       "<Figure size 432x288 with 1 Axes>"
      ]
     },
     "metadata": {
      "needs_background": "light"
     },
     "output_type": "display_data"
    }
   ],
   "source": [
    "sns.countplot(x='shot_made_flag', data=kobe_cut)"
   ]
  },
  {
   "cell_type": "markdown",
   "metadata": {},
   "source": [
    "#### Попробуем разобраться с точностью в зависимости от расстояния, заданного различными способами\n",
    "\n",
    "Сначала разобьём на бины по 3 фута округлённое расстояние броска (shot_distance), а затем точное (dist)"
   ]
  },
  {
   "cell_type": "code",
   "execution_count": 358,
   "metadata": {},
   "outputs": [
    {
     "data": {
      "text/plain": [
       "[0, 3)       5613\n",
       "[3, 6)       1080\n",
       "[6, 9)       1728\n",
       "[9, 12)      1718\n",
       "[12, 15)     2324\n",
       "[15, 18)     3362\n",
       "[18, 21)     3319\n",
       "[21, 24)     1735\n",
       "[24, 27)     3954\n",
       "[27, 30)      683\n",
       "[30, 300)     181\n",
       "Name: shot_distance, dtype: int64"
      ]
     },
     "execution_count": 358,
     "metadata": {},
     "output_type": "execute_result"
    }
   ],
   "source": [
    "distance_bins = np.append(np.arange(0, 31, 3), 300) \n",
    "distance_cat = pd.cut(kobe_cut['shot_distance'], distance_bins, right=False)\n",
    "\n",
    "dist_data = kobe_cut.loc[:, ['shot_distance', 'shot_made_flag']]\n",
    "dist_data['distance_cat'] = distance_cat\n",
    "\n",
    "distance_cat.value_counts(sort=False)"
   ]
  },
  {
   "cell_type": "code",
   "execution_count": 359,
   "metadata": {},
   "outputs": [
    {
     "data": {
      "text/plain": [
       "<matplotlib.axes._subplots.AxesSubplot at 0x203278ff898>"
      ]
     },
     "execution_count": 359,
     "metadata": {},
     "output_type": "execute_result"
    },
    {
     "data": {
      "image/png": "[encoded data removed]",
      "text/plain": [
       "<Figure size 864x432 with 1 Axes>"
      ]
     },
     "metadata": {
      "needs_background": "light"
     },
     "output_type": "display_data"
    }
   ],
   "source": [
    "plt.figure(figsize=(12,6))\n",
    "sns.countplot(x=\"distance_cat\", hue=\"shot_made_flag\", data=dist_data)"
   ]
  },
  {
   "cell_type": "code",
   "execution_count": 360,
   "metadata": {},
   "outputs": [
    {
     "data": {
      "text/plain": [
       "<matplotlib.axes._subplots.AxesSubplot at 0x2032796a240>"
      ]
     },
     "execution_count": 360,
     "metadata": {},
     "output_type": "execute_result"
    },
    {
     "data": {
      "image/png": "[encoded data removed]",
      "text/plain": [
       "<Figure size 864x432 with 1 Axes>"
      ]
     },
     "metadata": {
      "needs_background": "light"
     },
     "output_type": "display_data"
    }
   ],
   "source": [
    "dist_prec = dist_data['shot_made_flag'].groupby(dist_data['distance_cat']).mean()\n",
    "dist_prec.plot(kind='bar', figsize=(12, 6))"
   ]
  },
  {
   "cell_type": "code",
   "execution_count": 361,
   "metadata": {},
   "outputs": [
    {
     "data": {
      "text/plain": [
       "[0, 3)        4379\n",
       "[3, 6)          69\n",
       "[6, 9)         111\n",
       "[9, 12)        141\n",
       "[12, 15)       137\n",
       "[15, 18)       197\n",
       "[18, 21)       143\n",
       "[21, 24)       167\n",
       "[24, 27)       143\n",
       "[27, 30)       126\n",
       "[30, 33)        99\n",
       "[33, 36)        92\n",
       "[36, 39)        96\n",
       "[39, 42)        93\n",
       "[42, 45)       105\n",
       "[45, 48)        90\n",
       "[48, 51)       105\n",
       "[51, 54)       133\n",
       "[54, 57)       131\n",
       "[57, 60)       136\n",
       "[60, 63)       156\n",
       "[63, 66)       168\n",
       "[66, 69)       180\n",
       "[69, 72)       176\n",
       "[72, 75)       174\n",
       "[75, 78)       186\n",
       "[78, 300)    17783\n",
       "Name: dist, dtype: int64"
      ]
     },
     "execution_count": 361,
     "metadata": {},
     "output_type": "execute_result"
    }
   ],
   "source": [
    "distance_bins = np.append(np.arange(0, 80, 3), 300) \n",
    "distance_cat = pd.cut(kobe_cut['dist'], distance_bins, right=False)\n",
    "\n",
    "dist_data = kobe_cut.loc[:, ['dist', 'shot_made_flag']]\n",
    "dist_data['distance_cat'] = distance_cat\n",
    "\n",
    "distance_cat.value_counts(sort=False)"
   ]
  },
  {
   "cell_type": "code",
   "execution_count": 362,
   "metadata": {},
   "outputs": [
    {
     "data": {
      "text/plain": [
       "<matplotlib.axes._subplots.AxesSubplot at 0x2032794a748>"
      ]
     },
     "execution_count": 362,
     "metadata": {},
     "output_type": "execute_result"
    },
    {
     "data": {
      "image/png": "[encoded data removed]",
      "text/plain": [
       "<Figure size 864x432 with 1 Axes>"
      ]
     },
     "metadata": {
      "needs_background": "light"
     },
     "output_type": "display_data"
    }
   ],
   "source": [
    "plt.figure(figsize=(12,6))\n",
    "sns.countplot(x=\"distance_cat\", hue=\"shot_made_flag\", data=dist_data)"
   ]
  },
  {
   "cell_type": "markdown",
   "metadata": {},
   "source": [
    "Видимо в расчёте расстояния где-то есть ошибка, но вообще округлённое значение расстояния определённо даёт очень неплохое представление о данных (например, виден всплеск количества бросков на отметке 24 фута - линия трёхочкового броска), сразу удалим столбец dist, да и angle тоже, будем продолжать с категориями по секторам поля (есть подозрение, что с т.з. знатоков баскетбола это более правильное деление и точное значение угла броска + точное расстояние вызовет переобучение)"
   ]
  },
  {
   "cell_type": "code",
   "execution_count": 363,
   "metadata": {},
   "outputs": [],
   "source": [
    "kobe_cut = kobe_cut.drop('dist', axis=1)\n",
    "kobe_cut = kobe_cut.drop('angle', axis=1)"
   ]
  },
  {
   "cell_type": "code",
   "execution_count": 364,
   "metadata": {},
   "outputs": [
    {
     "data": {
      "text/plain": [
       "<matplotlib.axes._subplots.AxesSubplot at 0x2032c7b29b0>"
      ]
     },
     "execution_count": 364,
     "metadata": {},
     "output_type": "execute_result"
    },
    {
     "data": {
      "image/png": "[encoded data removed]",
      "text/plain": [
       "<Figure size 864x432 with 1 Axes>"
      ]
     },
     "metadata": {
      "needs_background": "light"
     },
     "output_type": "display_data"
    }
   ],
   "source": [
    "plt.figure(figsize=(12,6))\n",
    "less300feet_kobe_cut = kobe_cut[kobe_cut['shot_distance']<=30]\n",
    "sns.countplot(x=\"shot_distance\", hue=\"shot_made_flag\", data=less300feet_kobe_cut)"
   ]
  },
  {
   "cell_type": "code",
   "execution_count": 365,
   "metadata": {},
   "outputs": [
    {
     "data": {
      "text/plain": [
       "<matplotlib.axes._subplots.AxesSubplot at 0x2032c74ad68>"
      ]
     },
     "execution_count": 365,
     "metadata": {},
     "output_type": "execute_result"
    },
    {
     "data": {
      "image/png": "[encoded data removed]",
      "text/plain": [
       "<Figure size 864x432 with 1 Axes>"
      ]
     },
     "metadata": {
      "needs_background": "light"
     },
     "output_type": "display_data"
    }
   ],
   "source": [
    "dist_prec = less300feet_kobe_cut['shot_made_flag'].groupby(less300feet_kobe_cut['shot_distance']).mean()\n",
    "dist_prec.plot(kind='bar', figsize=(12, 6))"
   ]
  },
  {
   "cell_type": "code",
   "execution_count": 366,
   "metadata": {},
   "outputs": [
    {
     "data": {
      "text/plain": [
       "<matplotlib.axes._subplots.AxesSubplot at 0x2032c780b00>"
      ]
     },
     "execution_count": 366,
     "metadata": {},
     "output_type": "execute_result"
    },
    {
     "data": {
      "image/png": "[encoded data removed]",
      "text/plain": [
       "<Figure size 864x432 with 1 Axes>"
      ]
     },
     "metadata": {
      "needs_background": "light"
     },
     "output_type": "display_data"
    }
   ],
   "source": [
    "plt.figure(figsize=(12,6))\n",
    "sns.countplot(x=\"shot_zone_range\", hue=\"shot_made_flag\", data=kobe_cut)"
   ]
  },
  {
   "cell_type": "code",
   "execution_count": 367,
   "metadata": {},
   "outputs": [
    {
     "data": {
      "text/plain": [
       "<matplotlib.axes._subplots.AxesSubplot at 0x20327e49358>"
      ]
     },
     "execution_count": 367,
     "metadata": {},
     "output_type": "execute_result"
    },
    {
     "data": {
      "image/png": "[encoded data removed]",
      "text/plain": [
       "<Figure size 864x432 with 1 Axes>"
      ]
     },
     "metadata": {
      "needs_background": "light"
     },
     "output_type": "display_data"
    }
   ],
   "source": [
    "dist_prec = kobe_cut['shot_made_flag'].groupby(kobe_cut['shot_zone_range']).mean()\n",
    "dist_prec.plot(kind='bar', figsize=(12, 6))"
   ]
  },
  {
   "cell_type": "markdown",
   "metadata": {},
   "source": [
    "Есть мнение, что данные категории расстояния броска всё-таки излишне обобщают, удалим эти категории и сделаем свои, как мы делали выше - бины по 3 фута каждый (занятно, что если посмотреть на эту разбивку хорошо видны всплески по количеству на расстояниях около различных линий, интересно, что это, психология, или расчёт, может тактически за этими линиями располагается защита противника...) \n",
    "\n",
    "и удалим shot_distance и shot_zone_range"
   ]
  },
  {
   "cell_type": "code",
   "execution_count": 368,
   "metadata": {},
   "outputs": [],
   "source": [
    "distance_bins = np.append(np.arange(0, 31, 3), 300) \n",
    "kobe_cut['shot_dist_3ft'] = pd.cut(kobe_cut['shot_distance'], distance_bins, right=False)"
   ]
  },
  {
   "cell_type": "code",
   "execution_count": 369,
   "metadata": {},
   "outputs": [],
   "source": [
    "kobe_cut = kobe_cut.drop(['shot_distance','shot_zone_range'], axis=1)"
   ]
  },
  {
   "cell_type": "markdown",
   "metadata": {},
   "source": [
    "#### Проведём визуальный анализ остальных признаков"
   ]
  },
  {
   "cell_type": "markdown",
   "metadata": {},
   "source": [
    "### Обобщённый тип броска\n"
   ]
  },
  {
   "cell_type": "code",
   "execution_count": 370,
   "metadata": {},
   "outputs": [
    {
     "data": {
      "text/plain": [
       "<matplotlib.axes._subplots.AxesSubplot at 0x2032c76be80>"
      ]
     },
     "execution_count": 370,
     "metadata": {},
     "output_type": "execute_result"
    },
    {
     "data": {
      "image/png": "[encoded data removed]",
      "text/plain": [
       "<Figure size 864x432 with 1 Axes>"
      ]
     },
     "metadata": {
      "needs_background": "light"
     },
     "output_type": "display_data"
    }
   ],
   "source": [
    "plt.figure(figsize=(12,6))\n",
    "sns.countplot(x=\"combined_shot_type\", hue=\"shot_made_flag\", data=kobe_cut)"
   ]
  },
  {
   "cell_type": "code",
   "execution_count": 371,
   "metadata": {},
   "outputs": [
    {
     "data": {
      "text/plain": [
       "<matplotlib.axes._subplots.AxesSubplot at 0x2032e3c36d8>"
      ]
     },
     "execution_count": 371,
     "metadata": {},
     "output_type": "execute_result"
    },
    {
     "data": {
      "image/png": "[encoded data removed]",
      "text/plain": [
       "<Figure size 864x432 with 1 Axes>"
      ]
     },
     "metadata": {
      "needs_background": "light"
     },
     "output_type": "display_data"
    }
   ],
   "source": [
    "dist_prec = kobe_cut['shot_made_flag'].groupby(kobe_cut['combined_shot_type']).mean()\n",
    "dist_prec.plot(kind='bar', figsize=(12, 6))"
   ]
  },
  {
   "cell_type": "markdown",
   "metadata": {},
   "source": [
    "### Детальный тип броска\n",
    "\n",
    "##### Заменим огромное количество значений action_type с небольшим количеством на категорию other, за критерий возьмём например \"менее 1% от общего количества\"\n",
    "\n",
    "Затем преобразуем категориальные переменные"
   ]
  },
  {
   "cell_type": "code",
   "execution_count": 372,
   "metadata": {},
   "outputs": [],
   "source": [
    "series = pd.value_counts(kobe_cut['action_type'])\n",
    "mask = (series/series.sum() * 100).lt(1)\n",
    "kobe_cut['action_type'] = np.where(kobe_cut['action_type'].isin(series[mask].index),'Other',kobe_cut['action_type'])"
   ]
  },
  {
   "cell_type": "code",
   "execution_count": 373,
   "metadata": {},
   "outputs": [
    {
     "data": {
      "text/html": [
       "<div>\n",
       "<style scoped>\n",
       "    .dataframe tbody tr th:only-of-type {\n",
       "        vertical-align: middle;\n",
       "    }\n",
       "\n",
       "    .dataframe tbody tr th {\n",
       "        vertical-align: top;\n",
       "    }\n",
       "\n",
       "    .dataframe thead th {\n",
       "        text-align: right;\n",
       "    }\n",
       "</style>\n",
       "<table border=\"1\" class=\"dataframe\">\n",
       "  <thead>\n",
       "    <tr style=\"text-align: right;\">\n",
       "      <th></th>\n",
       "      <th>shot_made_flag</th>\n",
       "    </tr>\n",
       "    <tr>\n",
       "      <th>action_type</th>\n",
       "      <th></th>\n",
       "    </tr>\n",
       "  </thead>\n",
       "  <tbody>\n",
       "    <tr>\n",
       "      <th>Jump Shot</th>\n",
       "      <td>15836</td>\n",
       "    </tr>\n",
       "    <tr>\n",
       "      <th>Layup Shot</th>\n",
       "      <td>2154</td>\n",
       "    </tr>\n",
       "    <tr>\n",
       "      <th>Driving Layup Shot</th>\n",
       "      <td>1628</td>\n",
       "    </tr>\n",
       "    <tr>\n",
       "      <th>Other</th>\n",
       "      <td>1556</td>\n",
       "    </tr>\n",
       "    <tr>\n",
       "      <th>Turnaround Jump Shot</th>\n",
       "      <td>891</td>\n",
       "    </tr>\n",
       "    <tr>\n",
       "      <th>Fadeaway Jump Shot</th>\n",
       "      <td>872</td>\n",
       "    </tr>\n",
       "    <tr>\n",
       "      <th>Running Jump Shot</th>\n",
       "      <td>779</td>\n",
       "    </tr>\n",
       "    <tr>\n",
       "      <th>Pullup Jump shot</th>\n",
       "      <td>402</td>\n",
       "    </tr>\n",
       "    <tr>\n",
       "      <th>Turnaround Fadeaway shot</th>\n",
       "      <td>366</td>\n",
       "    </tr>\n",
       "    <tr>\n",
       "      <th>Slam Dunk Shot</th>\n",
       "      <td>334</td>\n",
       "    </tr>\n",
       "    <tr>\n",
       "      <th>Reverse Layup Shot</th>\n",
       "      <td>333</td>\n",
       "    </tr>\n",
       "    <tr>\n",
       "      <th>Jump Bank Shot</th>\n",
       "      <td>289</td>\n",
       "    </tr>\n",
       "    <tr>\n",
       "      <th>Driving Dunk Shot</th>\n",
       "      <td>257</td>\n",
       "    </tr>\n",
       "  </tbody>\n",
       "</table>\n",
       "</div>"
      ],
      "text/plain": [
       "                          shot_made_flag\n",
       "action_type                             \n",
       "Jump Shot                          15836\n",
       "Layup Shot                          2154\n",
       "Driving Layup Shot                  1628\n",
       "Other                               1556\n",
       "Turnaround Jump Shot                 891\n",
       "Fadeaway Jump Shot                   872\n",
       "Running Jump Shot                    779\n",
       "Pullup Jump shot                     402\n",
       "Turnaround Fadeaway shot             366\n",
       "Slam Dunk Shot                       334\n",
       "Reverse Layup Shot                   333\n",
       "Jump Bank Shot                       289\n",
       "Driving Dunk Shot                    257"
      ]
     },
     "execution_count": 373,
     "metadata": {},
     "output_type": "execute_result"
    }
   ],
   "source": [
    "#посмотрим что получилось\n",
    "kobe_cut[['action_type','shot_made_flag' ]].groupby(['action_type']).agg('count').sort_values('shot_made_flag', ascending = False)"
   ]
  },
  {
   "cell_type": "code",
   "execution_count": 374,
   "metadata": {},
   "outputs": [
    {
     "data": {
      "text/plain": [
       "<matplotlib.axes._subplots.AxesSubplot at 0x20327ede6a0>"
      ]
     },
     "execution_count": 374,
     "metadata": {},
     "output_type": "execute_result"
    },
    {
     "data": {
      "image/png": "[encoded data removed]",
      "text/plain": [
       "<Figure size 1440x432 with 1 Axes>"
      ]
     },
     "metadata": {
      "needs_background": "light"
     },
     "output_type": "display_data"
    }
   ],
   "source": [
    "plt.figure(figsize=(20,6))\n",
    "sns.countplot(x=\"action_type\", hue=\"shot_made_flag\", data=kobe_cut)"
   ]
  },
  {
   "cell_type": "code",
   "execution_count": 375,
   "metadata": {},
   "outputs": [
    {
     "data": {
      "text/plain": [
       "<matplotlib.axes._subplots.AxesSubplot at 0x2032e6e2a58>"
      ]
     },
     "execution_count": 375,
     "metadata": {},
     "output_type": "execute_result"
    },
    {
     "data": {
      "image/png": "[encoded data removed]",
      "text/plain": [
       "<Figure size 864x432 with 1 Axes>"
      ]
     },
     "metadata": {
      "needs_background": "light"
     },
     "output_type": "display_data"
    }
   ],
   "source": [
    "dist_prec = kobe_cut['shot_made_flag'].groupby(kobe_cut['action_type']).mean()\n",
    "dist_prec.plot(kind='bar', figsize=(12, 6))"
   ]
  },
  {
   "cell_type": "markdown",
   "metadata": {},
   "source": [
    "## Пожалуй оставим только одну переменную - action type после преобразования (с добавленным other)"
   ]
  },
  {
   "cell_type": "code",
   "execution_count": 376,
   "metadata": {},
   "outputs": [],
   "source": [
    "kobe_cut = kobe_cut.drop('combined_shot_type', axis = 1)"
   ]
  },
  {
   "cell_type": "markdown",
   "metadata": {},
   "source": [
    "### Период игры"
   ]
  },
  {
   "cell_type": "code",
   "execution_count": 377,
   "metadata": {},
   "outputs": [
    {
     "data": {
      "text/plain": [
       "<matplotlib.axes._subplots.AxesSubplot at 0x20327e12d30>"
      ]
     },
     "execution_count": 377,
     "metadata": {},
     "output_type": "execute_result"
    },
    {
     "data": {
      "image/png": "[encoded data removed]",
      "text/plain": [
       "<Figure size 1440x432 with 1 Axes>"
      ]
     },
     "metadata": {
      "needs_background": "light"
     },
     "output_type": "display_data"
    }
   ],
   "source": [
    "plt.figure(figsize=(20,6))\n",
    "sns.countplot(x=\"period\", hue=\"shot_made_flag\", data=kobe_cut)"
   ]
  },
  {
   "cell_type": "code",
   "execution_count": 378,
   "metadata": {},
   "outputs": [
    {
     "data": {
      "text/plain": [
       "<matplotlib.axes._subplots.AxesSubplot at 0x2032eb734a8>"
      ]
     },
     "execution_count": 378,
     "metadata": {},
     "output_type": "execute_result"
    },
    {
     "data": {
      "image/png": "[encoded data removed]",
      "text/plain": [
       "<Figure size 864x432 with 1 Axes>"
      ]
     },
     "metadata": {
      "needs_background": "light"
     },
     "output_type": "display_data"
    }
   ],
   "source": [
    "dist_prec = kobe_cut['shot_made_flag'].groupby(kobe_cut['period']).mean()\n",
    "dist_prec.plot(kind='bar', figsize=(12, 6))"
   ]
  },
  {
   "cell_type": "markdown",
   "metadata": {},
   "source": [
    "#### Поразительная стабильность на протяжении любого из периодов игры. Но получается на шанс попадания период не особо влияет, удалим данную фичу"
   ]
  },
  {
   "cell_type": "code",
   "execution_count": 379,
   "metadata": {},
   "outputs": [],
   "source": [
    "kobe_cut = kobe_cut.drop('period', axis=1)"
   ]
  },
  {
   "cell_type": "markdown",
   "metadata": {},
   "source": [
    "### Признак игры в плейофф"
   ]
  },
  {
   "cell_type": "code",
   "execution_count": 380,
   "metadata": {},
   "outputs": [
    {
     "data": {
      "text/plain": [
       "<matplotlib.axes._subplots.AxesSubplot at 0x2032e74cba8>"
      ]
     },
     "execution_count": 380,
     "metadata": {},
     "output_type": "execute_result"
    },
    {
     "data": {
      "image/png": "[encoded data removed]",
      "text/plain": [
       "<Figure size 1440x432 with 1 Axes>"
      ]
     },
     "metadata": {
      "needs_background": "light"
     },
     "output_type": "display_data"
    }
   ],
   "source": [
    "plt.figure(figsize=(20,6))\n",
    "sns.countplot(x=\"playoffs\", hue=\"shot_made_flag\", data=kobe_cut)"
   ]
  },
  {
   "cell_type": "code",
   "execution_count": 381,
   "metadata": {},
   "outputs": [
    {
     "data": {
      "text/plain": [
       "<matplotlib.axes._subplots.AxesSubplot at 0x2032ee9e898>"
      ]
     },
     "execution_count": 381,
     "metadata": {},
     "output_type": "execute_result"
    },
    {
     "data": {
      "image/png": "[encoded data removed]",
      "text/plain": [
       "<Figure size 864x432 with 1 Axes>"
      ]
     },
     "metadata": {
      "needs_background": "light"
     },
     "output_type": "display_data"
    }
   ],
   "source": [
    "dist_prec = kobe_cut['shot_made_flag'].groupby(kobe_cut['playoffs']).mean()\n",
    "dist_prec.plot(kind='bar', figsize=(12, 6))"
   ]
  },
  {
   "cell_type": "markdown",
   "metadata": {},
   "source": [
    "#### Опять же стабильность вне зависимости от того, плейофф это или групповой этап. Удалим и эту фичу"
   ]
  },
  {
   "cell_type": "code",
   "execution_count": 382,
   "metadata": {},
   "outputs": [],
   "source": [
    "kobe_cut = kobe_cut.drop('playoffs', axis=1)"
   ]
  },
  {
   "cell_type": "markdown",
   "metadata": {},
   "source": [
    "### shot_zone_area"
   ]
  },
  {
   "cell_type": "code",
   "execution_count": 383,
   "metadata": {},
   "outputs": [
    {
     "data": {
      "text/plain": [
       "<matplotlib.axes._subplots.AxesSubplot at 0x2032e672d68>"
      ]
     },
     "execution_count": 383,
     "metadata": {},
     "output_type": "execute_result"
    },
    {
     "data": {
      "image/png": "[encoded data removed]",
      "text/plain": [
       "<Figure size 1440x432 with 1 Axes>"
      ]
     },
     "metadata": {
      "needs_background": "light"
     },
     "output_type": "display_data"
    }
   ],
   "source": [
    "plt.figure(figsize=(20,6))\n",
    "sns.countplot(x=\"shot_zone_area\", hue=\"shot_made_flag\", data=kobe_cut)"
   ]
  },
  {
   "cell_type": "code",
   "execution_count": 384,
   "metadata": {},
   "outputs": [
    {
     "data": {
      "text/plain": [
       "<matplotlib.axes._subplots.AxesSubplot at 0x2032edd9e80>"
      ]
     },
     "execution_count": 384,
     "metadata": {},
     "output_type": "execute_result"
    },
    {
     "data": {
      "image/png": "[encoded data removed]",
      "text/plain": [
       "<Figure size 864x432 with 1 Axes>"
      ]
     },
     "metadata": {
      "needs_background": "light"
     },
     "output_type": "display_data"
    }
   ],
   "source": [
    "dist_prec = kobe_cut['shot_made_flag'].groupby(kobe_cut['shot_zone_area']).mean()\n",
    "dist_prec.plot(kind='bar', figsize=(12, 6))"
   ]
  },
  {
   "cell_type": "markdown",
   "metadata": {},
   "source": [
    "#### с учетом того, что броски с боковой части поля примерно равновероятны (более того, и по количеству они довольно схожи), объединим их все под одну категорию Side (S)"
   ]
  },
  {
   "cell_type": "code",
   "execution_count": 385,
   "metadata": {},
   "outputs": [],
   "source": [
    "side = ['Left Side(L)', 'Left Side Center(LC)', 'Right Side Center(RC)','Right Side(R)']\n",
    "\n",
    "kobe_cut['shot_zone_area'] = np.where(kobe_cut['shot_zone_area'].isin(side),'Side (S)',kobe_cut['shot_zone_area'])"
   ]
  },
  {
   "cell_type": "markdown",
   "metadata": {},
   "source": [
    "### shot_zone_basic"
   ]
  },
  {
   "cell_type": "code",
   "execution_count": 386,
   "metadata": {},
   "outputs": [
    {
     "data": {
      "text/plain": [
       "<matplotlib.axes._subplots.AxesSubplot at 0x2032ec147f0>"
      ]
     },
     "execution_count": 386,
     "metadata": {},
     "output_type": "execute_result"
    },
    {
     "data": {
      "image/png": "[encoded data removed]",
      "text/plain": [
       "<Figure size 1440x432 with 1 Axes>"
      ]
     },
     "metadata": {
      "needs_background": "light"
     },
     "output_type": "display_data"
    }
   ],
   "source": [
    "plt.figure(figsize=(20,6))\n",
    "sns.countplot(x=\"shot_zone_basic\", hue=\"shot_made_flag\", data=kobe_cut)"
   ]
  },
  {
   "cell_type": "code",
   "execution_count": 387,
   "metadata": {},
   "outputs": [
    {
     "data": {
      "text/plain": [
       "<matplotlib.axes._subplots.AxesSubplot at 0x2032ef01da0>"
      ]
     },
     "execution_count": 387,
     "metadata": {},
     "output_type": "execute_result"
    },
    {
     "data": {
      "image/png": "[encoded data removed]",
      "text/plain": [
       "<Figure size 864x432 with 1 Axes>"
      ]
     },
     "metadata": {
      "needs_background": "light"
     },
     "output_type": "display_data"
    }
   ],
   "source": [
    "dist_prec = kobe_cut['shot_made_flag'].groupby(kobe_cut['shot_zone_basic']).mean()\n",
    "dist_prec.plot(kind='bar', figsize=(12, 6))"
   ]
  },
  {
   "cell_type": "markdown",
   "metadata": {},
   "source": [
    "наверное данную переменную оставим без изменений"
   ]
  },
  {
   "cell_type": "markdown",
   "metadata": {},
   "source": [
    "### Противник"
   ]
  },
  {
   "cell_type": "code",
   "execution_count": 388,
   "metadata": {},
   "outputs": [
    {
     "data": {
      "text/plain": [
       "<matplotlib.axes._subplots.AxesSubplot at 0x2032edbc198>"
      ]
     },
     "execution_count": 388,
     "metadata": {},
     "output_type": "execute_result"
    },
    {
     "data": {
      "image/png": "[encoded data removed]",
      "text/plain": [
       "<Figure size 1440x432 with 1 Axes>"
      ]
     },
     "metadata": {
      "needs_background": "light"
     },
     "output_type": "display_data"
    }
   ],
   "source": [
    "plt.figure(figsize=(20,6))\n",
    "sns.countplot(x=\"opponent\", hue=\"shot_made_flag\", data=kobe_cut)"
   ]
  },
  {
   "cell_type": "code",
   "execution_count": 389,
   "metadata": {},
   "outputs": [
    {
     "data": {
      "text/plain": [
       "<matplotlib.axes._subplots.AxesSubplot at 0x2032f38fc50>"
      ]
     },
     "execution_count": 389,
     "metadata": {},
     "output_type": "execute_result"
    },
    {
     "data": {
      "image/png": "[encoded data removed]",
      "text/plain": [
       "<Figure size 864x432 with 1 Axes>"
      ]
     },
     "metadata": {
      "needs_background": "light"
     },
     "output_type": "display_data"
    }
   ],
   "source": [
    "dist_prec = kobe_cut['shot_made_flag'].groupby(kobe_cut['opponent']).mean()\n",
    "dist_prec.plot(kind='bar', figsize=(12, 6))"
   ]
  },
  {
   "cell_type": "markdown",
   "metadata": {},
   "source": [
    "#### Разные противники не дают существенной разницы в успешности броска, удалим данную фичу."
   ]
  },
  {
   "cell_type": "code",
   "execution_count": 390,
   "metadata": {},
   "outputs": [],
   "source": [
    "kobe_cut = kobe_cut.drop('opponent',axis=1)"
   ]
  },
  {
   "cell_type": "markdown",
   "metadata": {},
   "source": [
    "## Проверим влияние временных параметров\n",
    "### номер года"
   ]
  },
  {
   "cell_type": "code",
   "execution_count": 392,
   "metadata": {},
   "outputs": [
    {
     "data": {
      "text/plain": [
       "<matplotlib.axes._subplots.AxesSubplot at 0x2032f3fda90>"
      ]
     },
     "execution_count": 392,
     "metadata": {},
     "output_type": "execute_result"
    },
    {
     "data": {
      "image/png": "[encoded data removed]",
      "text/plain": [
       "<Figure size 1440x432 with 1 Axes>"
      ]
     },
     "metadata": {
      "needs_background": "light"
     },
     "output_type": "display_data"
    }
   ],
   "source": [
    "plt.figure(figsize=(20,6))\n",
    "sns.countplot(x=\"game_year\", hue=\"shot_made_flag\", data=kobe_cut)"
   ]
  },
  {
   "cell_type": "code",
   "execution_count": 393,
   "metadata": {},
   "outputs": [
    {
     "data": {
      "text/plain": [
       "<matplotlib.axes._subplots.AxesSubplot at 0x2032eceafd0>"
      ]
     },
     "execution_count": 393,
     "metadata": {},
     "output_type": "execute_result"
    },
    {
     "data": {
      "image/png": "[encoded data removed]",
      "text/plain": [
       "<Figure size 864x432 with 1 Axes>"
      ]
     },
     "metadata": {
      "needs_background": "light"
     },
     "output_type": "display_data"
    }
   ],
   "source": [
    "dist_prec = kobe_cut['shot_made_flag'].groupby(kobe_cut['game_year']).mean()\n",
    "dist_prec.plot(kind='bar', figsize=(12, 6))"
   ]
  },
  {
   "cell_type": "markdown",
   "metadata": {},
   "source": [
    "### месяц"
   ]
  },
  {
   "cell_type": "code",
   "execution_count": 394,
   "metadata": {},
   "outputs": [
    {
     "data": {
      "text/plain": [
       "<matplotlib.axes._subplots.AxesSubplot at 0x2032f2d4ba8>"
      ]
     },
     "execution_count": 394,
     "metadata": {},
     "output_type": "execute_result"
    },
    {
     "data": {
      "image/png": "[encoded data removed]",
      "text/plain": [
       "<Figure size 1440x432 with 1 Axes>"
      ]
     },
     "metadata": {
      "needs_background": "light"
     },
     "output_type": "display_data"
    }
   ],
   "source": [
    "plt.figure(figsize=(20,6))\n",
    "sns.countplot(x=\"game_month\", hue=\"shot_made_flag\", data=kobe_cut)"
   ]
  },
  {
   "cell_type": "code",
   "execution_count": 395,
   "metadata": {},
   "outputs": [
    {
     "data": {
      "text/plain": [
       "<matplotlib.axes._subplots.AxesSubplot at 0x20330bb46a0>"
      ]
     },
     "execution_count": 395,
     "metadata": {},
     "output_type": "execute_result"
    },
    {
     "data": {
      "image/png": "[encoded data removed]",
      "text/plain": [
       "<Figure size 864x432 with 1 Axes>"
      ]
     },
     "metadata": {
      "needs_background": "light"
     },
     "output_type": "display_data"
    }
   ],
   "source": [
    "dist_prec = kobe_cut['shot_made_flag'].groupby(kobe_cut['game_month']).mean()\n",
    "dist_prec.plot(kind='bar', figsize=(12, 6))"
   ]
  },
  {
   "cell_type": "markdown",
   "metadata": {},
   "source": [
    "##### Влияния месяца на успешность броска определённо минимальна - удаляем"
   ]
  },
  {
   "cell_type": "code",
   "execution_count": 398,
   "metadata": {},
   "outputs": [],
   "source": [
    "kobe_cut = kobe_cut.drop('game_month',axis=1)"
   ]
  },
  {
   "cell_type": "markdown",
   "metadata": {},
   "source": [
    "#### день недели"
   ]
  },
  {
   "cell_type": "code",
   "execution_count": 400,
   "metadata": {},
   "outputs": [
    {
     "data": {
      "text/plain": [
       "<matplotlib.axes._subplots.AxesSubplot at 0x2033067eba8>"
      ]
     },
     "execution_count": 400,
     "metadata": {},
     "output_type": "execute_result"
    },
    {
     "data": {
      "image/png": "[encoded data removed]",
      "text/plain": [
       "<Figure size 1440x432 with 1 Axes>"
      ]
     },
     "metadata": {
      "needs_background": "light"
     },
     "output_type": "display_data"
    }
   ],
   "source": [
    "plt.figure(figsize=(20,6))\n",
    "sns.countplot(x=\"game_day_week\", hue=\"shot_made_flag\", data=kobe_cut)"
   ]
  },
  {
   "cell_type": "code",
   "execution_count": 401,
   "metadata": {},
   "outputs": [
    {
     "data": {
      "text/plain": [
       "<matplotlib.axes._subplots.AxesSubplot at 0x20330363320>"
      ]
     },
     "execution_count": 401,
     "metadata": {},
     "output_type": "execute_result"
    },
    {
     "data": {
      "image/png": "[encoded data removed]",
      "text/plain": [
       "<Figure size 864x432 with 1 Axes>"
      ]
     },
     "metadata": {
      "needs_background": "light"
     },
     "output_type": "display_data"
    }
   ],
   "source": [
    "dist_prec = kobe_cut['shot_made_flag'].groupby(kobe_cut['game_day_week']).mean()\n",
    "dist_prec.plot(kind='bar', figsize=(12, 6))"
   ]
  },
  {
   "cell_type": "markdown",
   "metadata": {},
   "source": [
    "#### даже профессиональным спортсменам по понедельникам не по себе (но совсем незначительно) - однако разница предельно минимальна. удаляем"
   ]
  },
  {
   "cell_type": "code",
   "execution_count": 402,
   "metadata": {},
   "outputs": [],
   "source": [
    "kobe_cut = kobe_cut.drop('game_day_week',axis=1)"
   ]
  },
  {
   "cell_type": "markdown",
   "metadata": {},
   "source": [
    "### Признак трёхочкового броска"
   ]
  },
  {
   "cell_type": "code",
   "execution_count": 404,
   "metadata": {},
   "outputs": [
    {
     "data": {
      "text/plain": [
       "<matplotlib.axes._subplots.AxesSubplot at 0x203306cdc18>"
      ]
     },
     "execution_count": 404,
     "metadata": {},
     "output_type": "execute_result"
    },
    {
     "data": {
      "image/png": "[encoded data removed]",
      "text/plain": [
       "<Figure size 1440x432 with 1 Axes>"
      ]
     },
     "metadata": {
      "needs_background": "light"
     },
     "output_type": "display_data"
    }
   ],
   "source": [
    "plt.figure(figsize=(20,6))\n",
    "sns.countplot(x=\"3pt_flag\", hue=\"shot_made_flag\", data=kobe_cut)"
   ]
  },
  {
   "cell_type": "code",
   "execution_count": 405,
   "metadata": {},
   "outputs": [
    {
     "data": {
      "text/plain": [
       "<matplotlib.axes._subplots.AxesSubplot at 0x203307a6b00>"
      ]
     },
     "execution_count": 405,
     "metadata": {},
     "output_type": "execute_result"
    },
    {
     "data": {
      "image/png": "[encoded data removed]",
      "text/plain": [
       "<Figure size 864x432 with 1 Axes>"
      ]
     },
     "metadata": {
      "needs_background": "light"
     },
     "output_type": "display_data"
    }
   ],
   "source": [
    "dist_prec = kobe_cut['shot_made_flag'].groupby(kobe_cut['3pt_flag']).mean()\n",
    "dist_prec.plot(kind='bar', figsize=(12, 6))"
   ]
  },
  {
   "cell_type": "markdown",
   "metadata": {},
   "source": [
    "##### здесь разница есть - оставляем"
   ]
  },
  {
   "cell_type": "markdown",
   "metadata": {},
   "source": [
    "### Признак домашнего матча"
   ]
  },
  {
   "cell_type": "code",
   "execution_count": 406,
   "metadata": {},
   "outputs": [
    {
     "data": {
      "text/plain": [
       "<matplotlib.axes._subplots.AxesSubplot at 0x203307fc7f0>"
      ]
     },
     "execution_count": 406,
     "metadata": {},
     "output_type": "execute_result"
    },
    {
     "data": {
      "image/png": "[encoded data removed]",
      "text/plain": [
       "<Figure size 1440x432 with 1 Axes>"
      ]
     },
     "metadata": {
      "needs_background": "light"
     },
     "output_type": "display_data"
    }
   ],
   "source": [
    "plt.figure(figsize=(20,6))\n",
    "sns.countplot(x=\"home_match_flag\", hue=\"shot_made_flag\", data=kobe_cut)"
   ]
  },
  {
   "cell_type": "code",
   "execution_count": 407,
   "metadata": {},
   "outputs": [
    {
     "data": {
      "text/plain": [
       "<matplotlib.axes._subplots.AxesSubplot at 0x203326ad048>"
      ]
     },
     "execution_count": 407,
     "metadata": {},
     "output_type": "execute_result"
    },
    {
     "data": {
      "image/png": "[encoded data removed]",
      "text/plain": [
       "<Figure size 864x432 with 1 Axes>"
      ]
     },
     "metadata": {
      "needs_background": "light"
     },
     "output_type": "display_data"
    }
   ],
   "source": [
    "dist_prec = kobe_cut['shot_made_flag'].groupby(kobe_cut['home_match_flag']).mean()\n",
    "dist_prec.plot(kind='bar', figsize=(12, 6))"
   ]
  },
  {
   "cell_type": "markdown",
   "metadata": {},
   "source": [
    "##### чуть чуть более успешные броски перед родными трибунами, но не столь принципиально - удаляем."
   ]
  },
  {
   "cell_type": "code",
   "execution_count": 408,
   "metadata": {},
   "outputs": [],
   "source": [
    "kobe_cut = kobe_cut.drop('home_match_flag',axis=1)"
   ]
  },
  {
   "cell_type": "code",
   "execution_count": 409,
   "metadata": {},
   "outputs": [
    {
     "data": {
      "text/html": [
       "<div>\n",
       "<style scoped>\n",
       "    .dataframe tbody tr th:only-of-type {\n",
       "        vertical-align: middle;\n",
       "    }\n",
       "\n",
       "    .dataframe tbody tr th {\n",
       "        vertical-align: top;\n",
       "    }\n",
       "\n",
       "    .dataframe thead th {\n",
       "        text-align: right;\n",
       "    }\n",
       "</style>\n",
       "<table border=\"1\" class=\"dataframe\">\n",
       "  <thead>\n",
       "    <tr style=\"text-align: right;\">\n",
       "      <th></th>\n",
       "      <th>action_type</th>\n",
       "      <th>loc_x</th>\n",
       "      <th>loc_y</th>\n",
       "      <th>shot_made_flag</th>\n",
       "      <th>shot_zone_area</th>\n",
       "      <th>shot_zone_basic</th>\n",
       "      <th>game_year</th>\n",
       "      <th>3pt_flag</th>\n",
       "      <th>remaining_time_sec</th>\n",
       "      <th>shot_dist_3ft</th>\n",
       "    </tr>\n",
       "    <tr>\n",
       "      <th>shot_id</th>\n",
       "      <th></th>\n",
       "      <th></th>\n",
       "      <th></th>\n",
       "      <th></th>\n",
       "      <th></th>\n",
       "      <th></th>\n",
       "      <th></th>\n",
       "      <th></th>\n",
       "      <th></th>\n",
       "      <th></th>\n",
       "    </tr>\n",
       "  </thead>\n",
       "  <tbody>\n",
       "    <tr>\n",
       "      <th>2</th>\n",
       "      <td>Jump Shot</td>\n",
       "      <td>-157</td>\n",
       "      <td>0</td>\n",
       "      <td>0.0</td>\n",
       "      <td>Side (S)</td>\n",
       "      <td>Mid-Range</td>\n",
       "      <td>2000</td>\n",
       "      <td>0</td>\n",
       "      <td>622</td>\n",
       "      <td>[15, 18)</td>\n",
       "    </tr>\n",
       "    <tr>\n",
       "      <th>3</th>\n",
       "      <td>Jump Shot</td>\n",
       "      <td>-101</td>\n",
       "      <td>135</td>\n",
       "      <td>1.0</td>\n",
       "      <td>Side (S)</td>\n",
       "      <td>Mid-Range</td>\n",
       "      <td>2000</td>\n",
       "      <td>0</td>\n",
       "      <td>465</td>\n",
       "      <td>[15, 18)</td>\n",
       "    </tr>\n",
       "    <tr>\n",
       "      <th>4</th>\n",
       "      <td>Jump Shot</td>\n",
       "      <td>138</td>\n",
       "      <td>175</td>\n",
       "      <td>0.0</td>\n",
       "      <td>Side (S)</td>\n",
       "      <td>Mid-Range</td>\n",
       "      <td>2000</td>\n",
       "      <td>0</td>\n",
       "      <td>412</td>\n",
       "      <td>[21, 24)</td>\n",
       "    </tr>\n",
       "    <tr>\n",
       "      <th>5</th>\n",
       "      <td>Driving Dunk Shot</td>\n",
       "      <td>0</td>\n",
       "      <td>0</td>\n",
       "      <td>1.0</td>\n",
       "      <td>Center(C)</td>\n",
       "      <td>Restricted Area</td>\n",
       "      <td>2000</td>\n",
       "      <td>0</td>\n",
       "      <td>379</td>\n",
       "      <td>[0, 3)</td>\n",
       "    </tr>\n",
       "    <tr>\n",
       "      <th>6</th>\n",
       "      <td>Jump Shot</td>\n",
       "      <td>-145</td>\n",
       "      <td>-11</td>\n",
       "      <td>0.0</td>\n",
       "      <td>Side (S)</td>\n",
       "      <td>Mid-Range</td>\n",
       "      <td>2000</td>\n",
       "      <td>0</td>\n",
       "      <td>572</td>\n",
       "      <td>[12, 15)</td>\n",
       "    </tr>\n",
       "  </tbody>\n",
       "</table>\n",
       "</div>"
      ],
      "text/plain": [
       "               action_type  loc_x  loc_y  shot_made_flag shot_zone_area  \\\n",
       "shot_id                                                                   \n",
       "2                Jump Shot   -157      0             0.0       Side (S)   \n",
       "3                Jump Shot   -101    135             1.0       Side (S)   \n",
       "4                Jump Shot    138    175             0.0       Side (S)   \n",
       "5        Driving Dunk Shot      0      0             1.0      Center(C)   \n",
       "6                Jump Shot   -145    -11             0.0       Side (S)   \n",
       "\n",
       "         shot_zone_basic  game_year  3pt_flag  remaining_time_sec  \\\n",
       "shot_id                                                             \n",
       "2              Mid-Range       2000         0                 622   \n",
       "3              Mid-Range       2000         0                 465   \n",
       "4              Mid-Range       2000         0                 412   \n",
       "5        Restricted Area       2000         0                 379   \n",
       "6              Mid-Range       2000         0                 572   \n",
       "\n",
       "        shot_dist_3ft  \n",
       "shot_id                \n",
       "2            [15, 18)  \n",
       "3            [15, 18)  \n",
       "4            [21, 24)  \n",
       "5              [0, 3)  \n",
       "6            [12, 15)  "
      ]
     },
     "execution_count": 409,
     "metadata": {},
     "output_type": "execute_result"
    }
   ],
   "source": [
    "kobe_cut.head()"
   ]
  },
  {
   "cell_type": "markdown",
   "metadata": {},
   "source": [
    "### Время до конца матча\n",
    "##### Посмотрим что можно сделать, разбив его на бины"
   ]
  },
  {
   "cell_type": "code",
   "execution_count": 422,
   "metadata": {},
   "outputs": [
    {
     "data": {
      "text/plain": [
       "[0, 60)       3248\n",
       "[60, 120)     2274\n",
       "[120, 180)    2379\n",
       "[180, 240)    2377\n",
       "[240, 300)    2408\n",
       "[300, 360)    2189\n",
       "[360, 420)    1981\n",
       "[420, 480)    1876\n",
       "[480, 540)    1749\n",
       "[540, 600)    1876\n",
       "[600, 660)    1798\n",
       "[660, 720)    1542\n",
       "Name: remaining_time_sec, dtype: int64"
      ]
     },
     "execution_count": 422,
     "metadata": {},
     "output_type": "execute_result"
    }
   ],
   "source": [
    "time_bins = np.append(np.arange(0, 720, 60), 720) \n",
    "time_cat = pd.cut(kobe_cut['remaining_time_sec'], time_bins, right=False)\n",
    "\n",
    "time_data = kobe_cut.loc[:, ['remaining_time_sec', 'shot_made_flag']]\n",
    "time_data['time_cat'] = time_cat\n",
    "\n",
    "time_cat.value_counts(sort=False)"
   ]
  },
  {
   "cell_type": "code",
   "execution_count": 423,
   "metadata": {},
   "outputs": [
    {
     "data": {
      "text/plain": [
       "<matplotlib.axes._subplots.AxesSubplot at 0x203326d5d30>"
      ]
     },
     "execution_count": 423,
     "metadata": {},
     "output_type": "execute_result"
    },
    {
     "data": {
      "image/png": "[encoded data removed]",
      "text/plain": [
       "<Figure size 864x432 with 1 Axes>"
      ]
     },
     "metadata": {
      "needs_background": "light"
     },
     "output_type": "display_data"
    }
   ],
   "source": [
    "plt.figure(figsize=(12,6))\n",
    "sns.countplot(x=\"time_cat\", hue=\"shot_made_flag\", data=time_data)"
   ]
  },
  {
   "cell_type": "code",
   "execution_count": 424,
   "metadata": {},
   "outputs": [
    {
     "data": {
      "text/plain": [
       "<matplotlib.axes._subplots.AxesSubplot at 0x20331ea8940>"
      ]
     },
     "execution_count": 424,
     "metadata": {},
     "output_type": "execute_result"
    },
    {
     "data": {
      "image/png": "[encoded data removed]",
      "text/plain": [
       "<Figure size 864x432 with 1 Axes>"
      ]
     },
     "metadata": {
      "needs_background": "light"
     },
     "output_type": "display_data"
    }
   ],
   "source": [
    "time_prec = time_data['shot_made_flag'].groupby(time_data['time_cat']).mean()\n",
    "time_prec.plot(kind='bar', figsize=(12, 6))"
   ]
  },
  {
   "cell_type": "markdown",
   "metadata": {},
   "source": [
    "#### интервал \"последняя минута\" сильно выделяется по общему количеству бросков, да и по точности попробуем разбить более гранулярно - по 30 секунд"
   ]
  },
  {
   "cell_type": "code",
   "execution_count": 441,
   "metadata": {},
   "outputs": [
    {
     "data": {
      "text/plain": [
       "[0, 30)       1843\n",
       "[30, 60)      1405\n",
       "[60, 90)      1164\n",
       "[90, 120)     1110\n",
       "[120, 150)    1235\n",
       "[150, 180)    1144\n",
       "[180, 210)    1161\n",
       "[210, 240)    1216\n",
       "[240, 270)    1206\n",
       "[270, 300)    1202\n",
       "[300, 330)    1154\n",
       "[330, 360)    1035\n",
       "[360, 390)     986\n",
       "[390, 420)     995\n",
       "[420, 450)     961\n",
       "[450, 480)     915\n",
       "[480, 510)     891\n",
       "[510, 540)     858\n",
       "[540, 570)     948\n",
       "[570, 600)     928\n",
       "[600, 630)     911\n",
       "[630, 660)     887\n",
       "[660, 690)     937\n",
       "[690, 720)     605\n",
       "Name: remaining_time_sec, dtype: int64"
      ]
     },
     "execution_count": 441,
     "metadata": {},
     "output_type": "execute_result"
    }
   ],
   "source": [
    "time_bins = np.append(np.arange(0, 720, 30), 720) \n",
    "time_cat = pd.cut(kobe_cut['remaining_time_sec'], time_bins, right=False)\n",
    "\n",
    "time_data = kobe_cut.loc[:, ['remaining_time_sec', 'shot_made_flag']]\n",
    "time_data['time_cat'] = time_cat\n",
    "\n",
    "time_cat.value_counts(sort=False)"
   ]
  },
  {
   "cell_type": "code",
   "execution_count": 442,
   "metadata": {},
   "outputs": [
    {
     "data": {
      "text/plain": [
       "<matplotlib.axes._subplots.AxesSubplot at 0x20333cfc5f8>"
      ]
     },
     "execution_count": 442,
     "metadata": {},
     "output_type": "execute_result"
    },
    {
     "data": {
      "image/png": "[encoded data removed]",
      "text/plain": [
       "<Figure size 864x432 with 1 Axes>"
      ]
     },
     "metadata": {
      "needs_background": "light"
     },
     "output_type": "display_data"
    }
   ],
   "source": [
    "plt.figure(figsize=(12,6))\n",
    "sns.countplot(x=\"time_cat\", hue=\"shot_made_flag\", data=time_data)"
   ]
  },
  {
   "cell_type": "code",
   "execution_count": 443,
   "metadata": {},
   "outputs": [
    {
     "data": {
      "text/plain": [
       "<matplotlib.axes._subplots.AxesSubplot at 0x203340b9cf8>"
      ]
     },
     "execution_count": 443,
     "metadata": {},
     "output_type": "execute_result"
    },
    {
     "data": {
      "image/png": "[encoded data removed]",
      "text/plain": [
       "<Figure size 864x432 with 1 Axes>"
      ]
     },
     "metadata": {
      "needs_background": "light"
     },
     "output_type": "display_data"
    }
   ],
   "source": [
    "time_prec = time_data['shot_made_flag'].groupby(time_data['time_cat']).mean()\n",
    "time_prec.plot(kind='bar', figsize=(12, 6))"
   ]
  },
  {
   "cell_type": "markdown",
   "metadata": {},
   "source": [
    "Определённо наблюдаем, что в последнюю минуту Кобе наращивает темп атак, в последние 30 секунд доводя их до максимума относительно остальной игры. Точность при этом падает (если точнее абсолютное количество попаданий в единицу времени не увеличивается)\n",
    "\n",
    "Мне кажется из всего наблюдаемого стоит оставить признак последних 30 секунд, интервала 480 - 510 (когда точность также падает, интересно, почему...) и 570-600 когда точность едва ли не максимальна.\n",
    "\n",
    "Сначала попробуем оставить все эти бины в качестве фич и удалим абсолютное значение времени до конца периода. Затем проэкспериментируем с ограниченным набором"
   ]
  },
  {
   "cell_type": "code",
   "execution_count": 445,
   "metadata": {},
   "outputs": [],
   "source": [
    "time_bins = np.append(np.arange(0, 720, 30), 720) \n",
    "kobe_cut['time_left_30'] = pd.cut(kobe_cut['remaining_time_sec'], time_bins, right=False)"
   ]
  },
  {
   "cell_type": "code",
   "execution_count": 447,
   "metadata": {},
   "outputs": [],
   "source": [
    "kobe_cut = kobe_cut.drop('remaining_time_sec', axis=1)"
   ]
  },
  {
   "cell_type": "code",
   "execution_count": 448,
   "metadata": {},
   "outputs": [
    {
     "data": {
      "text/html": [
       "<div>\n",
       "<style scoped>\n",
       "    .dataframe tbody tr th:only-of-type {\n",
       "        vertical-align: middle;\n",
       "    }\n",
       "\n",
       "    .dataframe tbody tr th {\n",
       "        vertical-align: top;\n",
       "    }\n",
       "\n",
       "    .dataframe thead th {\n",
       "        text-align: right;\n",
       "    }\n",
       "</style>\n",
       "<table border=\"1\" class=\"dataframe\">\n",
       "  <thead>\n",
       "    <tr style=\"text-align: right;\">\n",
       "      <th></th>\n",
       "      <th>action_type</th>\n",
       "      <th>loc_x</th>\n",
       "      <th>loc_y</th>\n",
       "      <th>shot_made_flag</th>\n",
       "      <th>shot_zone_area</th>\n",
       "      <th>shot_zone_basic</th>\n",
       "      <th>game_year</th>\n",
       "      <th>3pt_flag</th>\n",
       "      <th>shot_dist_3ft</th>\n",
       "      <th>time_left_30</th>\n",
       "    </tr>\n",
       "    <tr>\n",
       "      <th>shot_id</th>\n",
       "      <th></th>\n",
       "      <th></th>\n",
       "      <th></th>\n",
       "      <th></th>\n",
       "      <th></th>\n",
       "      <th></th>\n",
       "      <th></th>\n",
       "      <th></th>\n",
       "      <th></th>\n",
       "      <th></th>\n",
       "    </tr>\n",
       "  </thead>\n",
       "  <tbody>\n",
       "    <tr>\n",
       "      <th>2</th>\n",
       "      <td>Jump Shot</td>\n",
       "      <td>-157</td>\n",
       "      <td>0</td>\n",
       "      <td>0.0</td>\n",
       "      <td>Side (S)</td>\n",
       "      <td>Mid-Range</td>\n",
       "      <td>2000</td>\n",
       "      <td>0</td>\n",
       "      <td>[15, 18)</td>\n",
       "      <td>[600, 630)</td>\n",
       "    </tr>\n",
       "    <tr>\n",
       "      <th>3</th>\n",
       "      <td>Jump Shot</td>\n",
       "      <td>-101</td>\n",
       "      <td>135</td>\n",
       "      <td>1.0</td>\n",
       "      <td>Side (S)</td>\n",
       "      <td>Mid-Range</td>\n",
       "      <td>2000</td>\n",
       "      <td>0</td>\n",
       "      <td>[15, 18)</td>\n",
       "      <td>[450, 480)</td>\n",
       "    </tr>\n",
       "    <tr>\n",
       "      <th>4</th>\n",
       "      <td>Jump Shot</td>\n",
       "      <td>138</td>\n",
       "      <td>175</td>\n",
       "      <td>0.0</td>\n",
       "      <td>Side (S)</td>\n",
       "      <td>Mid-Range</td>\n",
       "      <td>2000</td>\n",
       "      <td>0</td>\n",
       "      <td>[21, 24)</td>\n",
       "      <td>[390, 420)</td>\n",
       "    </tr>\n",
       "    <tr>\n",
       "      <th>5</th>\n",
       "      <td>Driving Dunk Shot</td>\n",
       "      <td>0</td>\n",
       "      <td>0</td>\n",
       "      <td>1.0</td>\n",
       "      <td>Center(C)</td>\n",
       "      <td>Restricted Area</td>\n",
       "      <td>2000</td>\n",
       "      <td>0</td>\n",
       "      <td>[0, 3)</td>\n",
       "      <td>[360, 390)</td>\n",
       "    </tr>\n",
       "    <tr>\n",
       "      <th>6</th>\n",
       "      <td>Jump Shot</td>\n",
       "      <td>-145</td>\n",
       "      <td>-11</td>\n",
       "      <td>0.0</td>\n",
       "      <td>Side (S)</td>\n",
       "      <td>Mid-Range</td>\n",
       "      <td>2000</td>\n",
       "      <td>0</td>\n",
       "      <td>[12, 15)</td>\n",
       "      <td>[570, 600)</td>\n",
       "    </tr>\n",
       "  </tbody>\n",
       "</table>\n",
       "</div>"
      ],
      "text/plain": [
       "               action_type  loc_x  loc_y  shot_made_flag shot_zone_area  \\\n",
       "shot_id                                                                   \n",
       "2                Jump Shot   -157      0             0.0       Side (S)   \n",
       "3                Jump Shot   -101    135             1.0       Side (S)   \n",
       "4                Jump Shot    138    175             0.0       Side (S)   \n",
       "5        Driving Dunk Shot      0      0             1.0      Center(C)   \n",
       "6                Jump Shot   -145    -11             0.0       Side (S)   \n",
       "\n",
       "         shot_zone_basic  game_year  3pt_flag shot_dist_3ft time_left_30  \n",
       "shot_id                                                                   \n",
       "2              Mid-Range       2000         0      [15, 18)   [600, 630)  \n",
       "3              Mid-Range       2000         0      [15, 18)   [450, 480)  \n",
       "4              Mid-Range       2000         0      [21, 24)   [390, 420)  \n",
       "5        Restricted Area       2000         0        [0, 3)   [360, 390)  \n",
       "6              Mid-Range       2000         0      [12, 15)   [570, 600)  "
      ]
     },
     "execution_count": 448,
     "metadata": {},
     "output_type": "execute_result"
    }
   ],
   "source": [
    "kobe_cut.head()"
   ]
  },
  {
   "cell_type": "markdown",
   "metadata": {},
   "source": [
    "### Осталось разобраться как поступить с loc_x и loc_y, попробуем разбить их на бины (и возможно, если между ними будет разница, избавиться от shot_zone_area и shot_zone_basic"
   ]
  },
  {
   "cell_type": "code",
   "execution_count": 466,
   "metadata": {},
   "outputs": [],
   "source": [
    "loc_x_bins = np.append(np.arange(-250, 250, 50), 250) \n",
    "loc_y_bins = np.append(np.arange(-50, 800, 50), 800) "
   ]
  },
  {
   "cell_type": "code",
   "execution_count": 467,
   "metadata": {},
   "outputs": [],
   "source": [
    "# Loc_x, and loc_y binning\n",
    "kobe_cut['loc_x_bin'] = pd.cut(kobe_cut['loc_x'], loc_x_bins, right=False)\n",
    "kobe_cut['loc_y_bin'] = pd.cut(kobe_cut['loc_y'], loc_y_bins, right=False)"
   ]
  },
  {
   "cell_type": "code",
   "execution_count": 481,
   "metadata": {},
   "outputs": [],
   "source": [
    "kobe_cut['sector_xy'] = kobe_cut['loc_x_bin'].astype(str)+ kobe_cut['loc_y_bin'].astype(str)"
   ]
  },
  {
   "cell_type": "code",
   "execution_count": 495,
   "metadata": {},
   "outputs": [],
   "source": [
    "kobe_cut = kobe_cut.drop(['loc_x_bin','loc_y_bin','loc_x', 'loc_y'], axis=1)"
   ]
  },
  {
   "cell_type": "code",
   "execution_count": 486,
   "metadata": {},
   "outputs": [],
   "source": [
    "series = pd.value_counts(kobe_cut['sector_xy'])\n",
    "mask = (series/series.sum() * 100).lt(1)\n",
    "kobe_cut['sector_xy'] = np.where(kobe_cut['sector_xy'].isin(series[mask].index),'Other',kobe_cut['sector_xy'])"
   ]
  },
  {
   "cell_type": "code",
   "execution_count": 488,
   "metadata": {},
   "outputs": [
    {
     "data": {
      "text/html": [
       "<div>\n",
       "<style scoped>\n",
       "    .dataframe tbody tr th:only-of-type {\n",
       "        vertical-align: middle;\n",
       "    }\n",
       "\n",
       "    .dataframe tbody tr th {\n",
       "        vertical-align: top;\n",
       "    }\n",
       "\n",
       "    .dataframe thead th {\n",
       "        text-align: right;\n",
       "    }\n",
       "</style>\n",
       "<table border=\"1\" class=\"dataframe\">\n",
       "  <thead>\n",
       "    <tr style=\"text-align: right;\">\n",
       "      <th></th>\n",
       "      <th>shot_made_flag</th>\n",
       "    </tr>\n",
       "    <tr>\n",
       "      <th>sector_xy</th>\n",
       "      <th></th>\n",
       "    </tr>\n",
       "  </thead>\n",
       "  <tbody>\n",
       "    <tr>\n",
       "      <th>[0, 50)[0, 50)</th>\n",
       "      <td>5438</td>\n",
       "    </tr>\n",
       "    <tr>\n",
       "      <th>Other</th>\n",
       "      <td>4002</td>\n",
       "    </tr>\n",
       "    <tr>\n",
       "      <th>[-50, 0)[0, 50)</th>\n",
       "      <td>886</td>\n",
       "    </tr>\n",
       "    <tr>\n",
       "      <th>[100, 150)[100, 150)</th>\n",
       "      <td>717</td>\n",
       "    </tr>\n",
       "    <tr>\n",
       "      <th>[0, 50)[50, 100)</th>\n",
       "      <td>686</td>\n",
       "    </tr>\n",
       "    <tr>\n",
       "      <th>[100, 150)[200, 250)</th>\n",
       "      <td>641</td>\n",
       "    </tr>\n",
       "    <tr>\n",
       "      <th>[-150, -100)[100, 150)</th>\n",
       "      <td>614</td>\n",
       "    </tr>\n",
       "    <tr>\n",
       "      <th>[100, 150)[0, 50)</th>\n",
       "      <td>595</td>\n",
       "    </tr>\n",
       "    <tr>\n",
       "      <th>[-50, 0)[50, 100)</th>\n",
       "      <td>585</td>\n",
       "    </tr>\n",
       "    <tr>\n",
       "      <th>[-200, -150)[150, 200)</th>\n",
       "      <td>582</td>\n",
       "    </tr>\n",
       "    <tr>\n",
       "      <th>[150, 200)[0, 50)</th>\n",
       "      <td>563</td>\n",
       "    </tr>\n",
       "    <tr>\n",
       "      <th>[150, 200)[150, 200)</th>\n",
       "      <td>542</td>\n",
       "    </tr>\n",
       "    <tr>\n",
       "      <th>[50, 100)[0, 50)</th>\n",
       "      <td>541</td>\n",
       "    </tr>\n",
       "    <tr>\n",
       "      <th>[100, 150)[150, 200)</th>\n",
       "      <td>540</td>\n",
       "    </tr>\n",
       "    <tr>\n",
       "      <th>[50, 100)[150, 200)</th>\n",
       "      <td>513</td>\n",
       "    </tr>\n",
       "    <tr>\n",
       "      <th>[-150, -100)[200, 250)</th>\n",
       "      <td>511</td>\n",
       "    </tr>\n",
       "    <tr>\n",
       "      <th>[-150, -100)[0, 50)</th>\n",
       "      <td>488</td>\n",
       "    </tr>\n",
       "    <tr>\n",
       "      <th>[50, 100)[100, 150)</th>\n",
       "      <td>471</td>\n",
       "    </tr>\n",
       "    <tr>\n",
       "      <th>[-100, -50)[0, 50)</th>\n",
       "      <td>416</td>\n",
       "    </tr>\n",
       "    <tr>\n",
       "      <th>[100, 150)[50, 100)</th>\n",
       "      <td>411</td>\n",
       "    </tr>\n",
       "    <tr>\n",
       "      <th>[-200, -150)[0, 50)</th>\n",
       "      <td>403</td>\n",
       "    </tr>\n",
       "    <tr>\n",
       "      <th>[-150, -100)[150, 200)</th>\n",
       "      <td>400</td>\n",
       "    </tr>\n",
       "    <tr>\n",
       "      <th>[-150, -100)[50, 100)</th>\n",
       "      <td>399</td>\n",
       "    </tr>\n",
       "    <tr>\n",
       "      <th>[50, 100)[50, 100)</th>\n",
       "      <td>398</td>\n",
       "    </tr>\n",
       "    <tr>\n",
       "      <th>[0, 50)[150, 200)</th>\n",
       "      <td>389</td>\n",
       "    </tr>\n",
       "    <tr>\n",
       "      <th>[-100, -50)[150, 200)</th>\n",
       "      <td>382</td>\n",
       "    </tr>\n",
       "    <tr>\n",
       "      <th>[-100, -50)[100, 150)</th>\n",
       "      <td>363</td>\n",
       "    </tr>\n",
       "    <tr>\n",
       "      <th>[0, 50)[100, 150)</th>\n",
       "      <td>354</td>\n",
       "    </tr>\n",
       "    <tr>\n",
       "      <th>[-100, -50)[50, 100)</th>\n",
       "      <td>329</td>\n",
       "    </tr>\n",
       "    <tr>\n",
       "      <th>[50, 100)[200, 250)</th>\n",
       "      <td>311</td>\n",
       "    </tr>\n",
       "    <tr>\n",
       "      <th>[150, 200)[100, 150)</th>\n",
       "      <td>300</td>\n",
       "    </tr>\n",
       "    <tr>\n",
       "      <th>[-50, 0)[100, 150)</th>\n",
       "      <td>298</td>\n",
       "    </tr>\n",
       "    <tr>\n",
       "      <th>[150, 200)[50, 100)</th>\n",
       "      <td>288</td>\n",
       "    </tr>\n",
       "    <tr>\n",
       "      <th>[-50, 0)[150, 200)</th>\n",
       "      <td>287</td>\n",
       "    </tr>\n",
       "    <tr>\n",
       "      <th>[-200, -150)[50, 100)</th>\n",
       "      <td>270</td>\n",
       "    </tr>\n",
       "    <tr>\n",
       "      <th>[150, 200)[-50, 0)</th>\n",
       "      <td>265</td>\n",
       "    </tr>\n",
       "    <tr>\n",
       "      <th>[-200, -150)[200, 250)</th>\n",
       "      <td>260</td>\n",
       "    </tr>\n",
       "    <tr>\n",
       "      <th>[-200, -150)[100, 150)</th>\n",
       "      <td>259</td>\n",
       "    </tr>\n",
       "  </tbody>\n",
       "</table>\n",
       "</div>"
      ],
      "text/plain": [
       "                        shot_made_flag\n",
       "sector_xy                             \n",
       "[0, 50)[0, 50)                    5438\n",
       "Other                             4002\n",
       "[-50, 0)[0, 50)                    886\n",
       "[100, 150)[100, 150)               717\n",
       "[0, 50)[50, 100)                   686\n",
       "[100, 150)[200, 250)               641\n",
       "[-150, -100)[100, 150)             614\n",
       "[100, 150)[0, 50)                  595\n",
       "[-50, 0)[50, 100)                  585\n",
       "[-200, -150)[150, 200)             582\n",
       "[150, 200)[0, 50)                  563\n",
       "[150, 200)[150, 200)               542\n",
       "[50, 100)[0, 50)                   541\n",
       "[100, 150)[150, 200)               540\n",
       "[50, 100)[150, 200)                513\n",
       "[-150, -100)[200, 250)             511\n",
       "[-150, -100)[0, 50)                488\n",
       "[50, 100)[100, 150)                471\n",
       "[-100, -50)[0, 50)                 416\n",
       "[100, 150)[50, 100)                411\n",
       "[-200, -150)[0, 50)                403\n",
       "[-150, -100)[150, 200)             400\n",
       "[-150, -100)[50, 100)              399\n",
       "[50, 100)[50, 100)                 398\n",
       "[0, 50)[150, 200)                  389\n",
       "[-100, -50)[150, 200)              382\n",
       "[-100, -50)[100, 150)              363\n",
       "[0, 50)[100, 150)                  354\n",
       "[-100, -50)[50, 100)               329\n",
       "[50, 100)[200, 250)                311\n",
       "[150, 200)[100, 150)               300\n",
       "[-50, 0)[100, 150)                 298\n",
       "[150, 200)[50, 100)                288\n",
       "[-50, 0)[150, 200)                 287\n",
       "[-200, -150)[50, 100)              270\n",
       "[150, 200)[-50, 0)                 265\n",
       "[-200, -150)[200, 250)             260\n",
       "[-200, -150)[100, 150)             259"
      ]
     },
     "execution_count": 488,
     "metadata": {},
     "output_type": "execute_result"
    }
   ],
   "source": [
    "#посмотрим что получилось\n",
    "kobe_cut[['sector_xy','shot_made_flag' ]].groupby(['sector_xy']).agg('count').sort_values('shot_made_flag', ascending = False)"
   ]
  },
  {
   "cell_type": "code",
   "execution_count": 490,
   "metadata": {},
   "outputs": [
    {
     "data": {
      "text/plain": [
       "<matplotlib.axes._subplots.AxesSubplot at 0x20334090fd0>"
      ]
     },
     "execution_count": 490,
     "metadata": {},
     "output_type": "execute_result"
    },
    {
     "data": {
      "image/png": "[encoded data removed]",
      "text/plain": [
       "<Figure size 864x432 with 1 Axes>"
      ]
     },
     "metadata": {
      "needs_background": "light"
     },
     "output_type": "display_data"
    }
   ],
   "source": [
    "plt.figure(figsize=(12,6))\n",
    "sns.countplot(x=\"sector_xy\", hue=\"shot_made_flag\", data=kobe_cut)"
   ]
  },
  {
   "cell_type": "code",
   "execution_count": 491,
   "metadata": {},
   "outputs": [
    {
     "data": {
      "text/plain": [
       "<matplotlib.axes._subplots.AxesSubplot at 0x20334769d30>"
      ]
     },
     "execution_count": 491,
     "metadata": {},
     "output_type": "execute_result"
    },
    {
     "data": {
      "image/png": "[encoded data removed]",
      "text/plain": [
       "<Figure size 864x432 with 1 Axes>"
      ]
     },
     "metadata": {
      "needs_background": "light"
     },
     "output_type": "display_data"
    }
   ],
   "source": [
    "dist_prec = kobe_cut['shot_made_flag'].groupby(kobe_cut['sector_xy']).mean()\n",
    "dist_prec.plot(kind='bar', figsize=(12, 6))"
   ]
  },
  {
   "cell_type": "code",
   "execution_count": 492,
   "metadata": {},
   "outputs": [],
   "source": [
    "kobe_cut_dump = kobe_cut"
   ]
  },
  {
   "cell_type": "code",
   "execution_count": 125,
   "metadata": {},
   "outputs": [],
   "source": [
    "#если что-то пойдёт не так :)\n",
    "#kobe_cut = kobe_cut_dump"
   ]
  },
  {
   "cell_type": "code",
   "execution_count": 496,
   "metadata": {},
   "outputs": [
    {
     "name": "stdout",
     "output_type": "stream",
     "text": [
      "<class 'pandas.core.frame.DataFrame'>\n",
      "Int64Index: 25697 entries, 2 to 30697\n",
      "Data columns (total 9 columns):\n",
      "action_type        25697 non-null object\n",
      "shot_made_flag     25697 non-null float64\n",
      "shot_zone_area     25697 non-null object\n",
      "shot_zone_basic    25697 non-null object\n",
      "game_year          25697 non-null int64\n",
      "3pt_flag           25697 non-null int32\n",
      "shot_dist_3ft      25697 non-null category\n",
      "time_left_30       25697 non-null category\n",
      "sector_xy          25697 non-null object\n",
      "dtypes: category(2), float64(1), int32(1), int64(1), object(4)\n",
      "memory usage: 2.8+ MB\n"
     ]
    }
   ],
   "source": [
    "kobe_cut.info()"
   ]
  },
  {
   "cell_type": "code",
   "execution_count": 557,
   "metadata": {},
   "outputs": [],
   "source": [
    "#определим 2 разных датасета, в одном оставим shot_zone_area и shot_zone_basic, в другом sector_xy, т.к. эти фичи\n",
    "#обозначают примерно одно и то же\n",
    "kobe_xy = kobe_cut[['action_type', 'shot_made_flag', 'game_year',  '3pt_flag', 'shot_dist_3ft', 'time_left_30', 'sector_xy'    ]]\n",
    "kobe_shot_zone = kobe_cut[['action_type', 'shot_made_flag', 'shot_zone_area',  'shot_zone_basic',  'game_year',  '3pt_flag', 'shot_dist_3ft', 'time_left_30']]"
   ]
  },
  {
   "cell_type": "code",
   "execution_count": 558,
   "metadata": {},
   "outputs": [],
   "source": [
    "#определим категориальные фичи, которые трансформируем по столбцам, и затем удалим\n",
    "categorial_cols_xy = ['action_type', 'game_year', 'shot_dist_3ft', 'time_left_30', 'sector_xy' ]\n",
    "kobe_xy.reset_index()\n",
    "for cc in categorial_cols_xy:\n",
    "    dummies = pd.get_dummies(kobe_xy[cc])\n",
    "    dummies = dummies.add_prefix(\"{}#\".format(cc))\n",
    "    #kobe_cut.drop(cc, axis=1, inplace=True)\n",
    "    kobe_xy = kobe_xy.join(dummies)"
   ]
  },
  {
   "cell_type": "code",
   "execution_count": 559,
   "metadata": {
    "scrolled": true
   },
   "outputs": [
    {
     "data": {
      "text/html": [
       "<div>\n",
       "<style scoped>\n",
       "    .dataframe tbody tr th:only-of-type {\n",
       "        vertical-align: middle;\n",
       "    }\n",
       "\n",
       "    .dataframe tbody tr th {\n",
       "        vertical-align: top;\n",
       "    }\n",
       "\n",
       "    .dataframe thead th {\n",
       "        text-align: right;\n",
       "    }\n",
       "</style>\n",
       "<table border=\"1\" class=\"dataframe\">\n",
       "  <thead>\n",
       "    <tr style=\"text-align: right;\">\n",
       "      <th></th>\n",
       "      <th>action_type</th>\n",
       "      <th>shot_made_flag</th>\n",
       "      <th>game_year</th>\n",
       "      <th>3pt_flag</th>\n",
       "      <th>shot_dist_3ft</th>\n",
       "      <th>time_left_30</th>\n",
       "      <th>sector_xy</th>\n",
       "      <th>action_type#Driving Dunk Shot</th>\n",
       "      <th>action_type#Driving Layup Shot</th>\n",
       "      <th>action_type#Fadeaway Jump Shot</th>\n",
       "      <th>...</th>\n",
       "      <th>sector_xy#[150, 200)[-50, 0)</th>\n",
       "      <th>sector_xy#[150, 200)[0, 50)</th>\n",
       "      <th>sector_xy#[150, 200)[100, 150)</th>\n",
       "      <th>sector_xy#[150, 200)[150, 200)</th>\n",
       "      <th>sector_xy#[150, 200)[50, 100)</th>\n",
       "      <th>sector_xy#[50, 100)[0, 50)</th>\n",
       "      <th>sector_xy#[50, 100)[100, 150)</th>\n",
       "      <th>sector_xy#[50, 100)[150, 200)</th>\n",
       "      <th>sector_xy#[50, 100)[200, 250)</th>\n",
       "      <th>sector_xy#[50, 100)[50, 100)</th>\n",
       "    </tr>\n",
       "    <tr>\n",
       "      <th>shot_id</th>\n",
       "      <th></th>\n",
       "      <th></th>\n",
       "      <th></th>\n",
       "      <th></th>\n",
       "      <th></th>\n",
       "      <th></th>\n",
       "      <th></th>\n",
       "      <th></th>\n",
       "      <th></th>\n",
       "      <th></th>\n",
       "      <th></th>\n",
       "      <th></th>\n",
       "      <th></th>\n",
       "      <th></th>\n",
       "      <th></th>\n",
       "      <th></th>\n",
       "      <th></th>\n",
       "      <th></th>\n",
       "      <th></th>\n",
       "      <th></th>\n",
       "      <th></th>\n",
       "    </tr>\n",
       "  </thead>\n",
       "  <tbody>\n",
       "    <tr>\n",
       "      <th>2</th>\n",
       "      <td>Jump Shot</td>\n",
       "      <td>0.0</td>\n",
       "      <td>2000</td>\n",
       "      <td>0</td>\n",
       "      <td>[15, 18)</td>\n",
       "      <td>[600, 630)</td>\n",
       "      <td>[-200, -150)[0, 50)</td>\n",
       "      <td>0</td>\n",
       "      <td>0</td>\n",
       "      <td>0</td>\n",
       "      <td>...</td>\n",
       "      <td>0</td>\n",
       "      <td>0</td>\n",
       "      <td>0</td>\n",
       "      <td>0</td>\n",
       "      <td>0</td>\n",
       "      <td>0</td>\n",
       "      <td>0</td>\n",
       "      <td>0</td>\n",
       "      <td>0</td>\n",
       "      <td>0</td>\n",
       "    </tr>\n",
       "    <tr>\n",
       "      <th>3</th>\n",
       "      <td>Jump Shot</td>\n",
       "      <td>1.0</td>\n",
       "      <td>2000</td>\n",
       "      <td>0</td>\n",
       "      <td>[15, 18)</td>\n",
       "      <td>[450, 480)</td>\n",
       "      <td>[-150, -100)[100, 150)</td>\n",
       "      <td>0</td>\n",
       "      <td>0</td>\n",
       "      <td>0</td>\n",
       "      <td>...</td>\n",
       "      <td>0</td>\n",
       "      <td>0</td>\n",
       "      <td>0</td>\n",
       "      <td>0</td>\n",
       "      <td>0</td>\n",
       "      <td>0</td>\n",
       "      <td>0</td>\n",
       "      <td>0</td>\n",
       "      <td>0</td>\n",
       "      <td>0</td>\n",
       "    </tr>\n",
       "    <tr>\n",
       "      <th>4</th>\n",
       "      <td>Jump Shot</td>\n",
       "      <td>0.0</td>\n",
       "      <td>2000</td>\n",
       "      <td>0</td>\n",
       "      <td>[21, 24)</td>\n",
       "      <td>[390, 420)</td>\n",
       "      <td>[100, 150)[150, 200)</td>\n",
       "      <td>0</td>\n",
       "      <td>0</td>\n",
       "      <td>0</td>\n",
       "      <td>...</td>\n",
       "      <td>0</td>\n",
       "      <td>0</td>\n",
       "      <td>0</td>\n",
       "      <td>0</td>\n",
       "      <td>0</td>\n",
       "      <td>0</td>\n",
       "      <td>0</td>\n",
       "      <td>0</td>\n",
       "      <td>0</td>\n",
       "      <td>0</td>\n",
       "    </tr>\n",
       "    <tr>\n",
       "      <th>5</th>\n",
       "      <td>Driving Dunk Shot</td>\n",
       "      <td>1.0</td>\n",
       "      <td>2000</td>\n",
       "      <td>0</td>\n",
       "      <td>[0, 3)</td>\n",
       "      <td>[360, 390)</td>\n",
       "      <td>[0, 50)[0, 50)</td>\n",
       "      <td>1</td>\n",
       "      <td>0</td>\n",
       "      <td>0</td>\n",
       "      <td>...</td>\n",
       "      <td>0</td>\n",
       "      <td>0</td>\n",
       "      <td>0</td>\n",
       "      <td>0</td>\n",
       "      <td>0</td>\n",
       "      <td>0</td>\n",
       "      <td>0</td>\n",
       "      <td>0</td>\n",
       "      <td>0</td>\n",
       "      <td>0</td>\n",
       "    </tr>\n",
       "    <tr>\n",
       "      <th>6</th>\n",
       "      <td>Jump Shot</td>\n",
       "      <td>0.0</td>\n",
       "      <td>2000</td>\n",
       "      <td>0</td>\n",
       "      <td>[12, 15)</td>\n",
       "      <td>[570, 600)</td>\n",
       "      <td>Other</td>\n",
       "      <td>0</td>\n",
       "      <td>0</td>\n",
       "      <td>0</td>\n",
       "      <td>...</td>\n",
       "      <td>0</td>\n",
       "      <td>0</td>\n",
       "      <td>0</td>\n",
       "      <td>0</td>\n",
       "      <td>0</td>\n",
       "      <td>0</td>\n",
       "      <td>0</td>\n",
       "      <td>0</td>\n",
       "      <td>0</td>\n",
       "      <td>0</td>\n",
       "    </tr>\n",
       "  </tbody>\n",
       "</table>\n",
       "<p>5 rows × 114 columns</p>\n",
       "</div>"
      ],
      "text/plain": [
       "               action_type  shot_made_flag  game_year  3pt_flag shot_dist_3ft  \\\n",
       "shot_id                                                                         \n",
       "2                Jump Shot             0.0       2000         0      [15, 18)   \n",
       "3                Jump Shot             1.0       2000         0      [15, 18)   \n",
       "4                Jump Shot             0.0       2000         0      [21, 24)   \n",
       "5        Driving Dunk Shot             1.0       2000         0        [0, 3)   \n",
       "6                Jump Shot             0.0       2000         0      [12, 15)   \n",
       "\n",
       "        time_left_30               sector_xy  action_type#Driving Dunk Shot  \\\n",
       "shot_id                                                                       \n",
       "2         [600, 630)     [-200, -150)[0, 50)                              0   \n",
       "3         [450, 480)  [-150, -100)[100, 150)                              0   \n",
       "4         [390, 420)    [100, 150)[150, 200)                              0   \n",
       "5         [360, 390)          [0, 50)[0, 50)                              1   \n",
       "6         [570, 600)                   Other                              0   \n",
       "\n",
       "         action_type#Driving Layup Shot  action_type#Fadeaway Jump Shot  \\\n",
       "shot_id                                                                   \n",
       "2                                     0                               0   \n",
       "3                                     0                               0   \n",
       "4                                     0                               0   \n",
       "5                                     0                               0   \n",
       "6                                     0                               0   \n",
       "\n",
       "                     ...               sector_xy#[150, 200)[-50, 0)  \\\n",
       "shot_id              ...                                              \n",
       "2                    ...                                          0   \n",
       "3                    ...                                          0   \n",
       "4                    ...                                          0   \n",
       "5                    ...                                          0   \n",
       "6                    ...                                          0   \n",
       "\n",
       "         sector_xy#[150, 200)[0, 50)  sector_xy#[150, 200)[100, 150)  \\\n",
       "shot_id                                                                \n",
       "2                                  0                               0   \n",
       "3                                  0                               0   \n",
       "4                                  0                               0   \n",
       "5                                  0                               0   \n",
       "6                                  0                               0   \n",
       "\n",
       "         sector_xy#[150, 200)[150, 200)  sector_xy#[150, 200)[50, 100)  \\\n",
       "shot_id                                                                  \n",
       "2                                     0                              0   \n",
       "3                                     0                              0   \n",
       "4                                     0                              0   \n",
       "5                                     0                              0   \n",
       "6                                     0                              0   \n",
       "\n",
       "         sector_xy#[50, 100)[0, 50)  sector_xy#[50, 100)[100, 150)  \\\n",
       "shot_id                                                              \n",
       "2                                 0                              0   \n",
       "3                                 0                              0   \n",
       "4                                 0                              0   \n",
       "5                                 0                              0   \n",
       "6                                 0                              0   \n",
       "\n",
       "         sector_xy#[50, 100)[150, 200)  sector_xy#[50, 100)[200, 250)  \\\n",
       "shot_id                                                                 \n",
       "2                                    0                              0   \n",
       "3                                    0                              0   \n",
       "4                                    0                              0   \n",
       "5                                    0                              0   \n",
       "6                                    0                              0   \n",
       "\n",
       "         sector_xy#[50, 100)[50, 100)  \n",
       "shot_id                                \n",
       "2                                   0  \n",
       "3                                   0  \n",
       "4                                   0  \n",
       "5                                   0  \n",
       "6                                   0  \n",
       "\n",
       "[5 rows x 114 columns]"
      ]
     },
     "execution_count": 559,
     "metadata": {},
     "output_type": "execute_result"
    }
   ],
   "source": [
    "kobe_xy.head()"
   ]
  },
  {
   "cell_type": "code",
   "execution_count": 560,
   "metadata": {},
   "outputs": [],
   "source": [
    "for cc in categorial_cols_xy:\n",
    "    kobe_xy.drop(cc, axis=1, inplace=True)"
   ]
  },
  {
   "cell_type": "code",
   "execution_count": 561,
   "metadata": {},
   "outputs": [],
   "source": [
    "#определим категориальные фичи, которые трансформируем по столбцам, и затем удалим\n",
    "categorial_cols_shotzone = ['action_type','shot_zone_area',  'shot_zone_basic', 'shot_dist_3ft',  'game_year', 'time_left_30']\n",
    "kobe_shot_zone.reset_index()\n",
    "for cc in categorial_cols_shotzone:\n",
    "    dummies = pd.get_dummies(kobe_shot_zone[cc])\n",
    "    dummies = dummies.add_prefix(\"{}#\".format(cc))\n",
    "    #kobe_cut.drop(cc, axis=1, inplace=True)\n",
    "    kobe_shot_zone = kobe_shot_zone.join(dummies)"
   ]
  },
  {
   "cell_type": "code",
   "execution_count": 562,
   "metadata": {},
   "outputs": [],
   "source": [
    "for cc in categorial_cols_shotzone:\n",
    "    kobe_shot_zone.drop(cc, axis=1, inplace=True)"
   ]
  },
  {
   "cell_type": "code",
   "execution_count": 563,
   "metadata": {},
   "outputs": [
    {
     "data": {
      "text/html": [
       "<div>\n",
       "<style scoped>\n",
       "    .dataframe tbody tr th:only-of-type {\n",
       "        vertical-align: middle;\n",
       "    }\n",
       "\n",
       "    .dataframe tbody tr th {\n",
       "        vertical-align: top;\n",
       "    }\n",
       "\n",
       "    .dataframe thead th {\n",
       "        text-align: right;\n",
       "    }\n",
       "</style>\n",
       "<table border=\"1\" class=\"dataframe\">\n",
       "  <thead>\n",
       "    <tr style=\"text-align: right;\">\n",
       "      <th></th>\n",
       "      <th>shot_made_flag</th>\n",
       "      <th>3pt_flag</th>\n",
       "      <th>action_type#Driving Dunk Shot</th>\n",
       "      <th>action_type#Driving Layup Shot</th>\n",
       "      <th>action_type#Fadeaway Jump Shot</th>\n",
       "      <th>action_type#Jump Bank Shot</th>\n",
       "      <th>action_type#Jump Shot</th>\n",
       "      <th>action_type#Layup Shot</th>\n",
       "      <th>action_type#Other</th>\n",
       "      <th>action_type#Pullup Jump shot</th>\n",
       "      <th>...</th>\n",
       "      <th>time_left_30#[420, 450)</th>\n",
       "      <th>time_left_30#[450, 480)</th>\n",
       "      <th>time_left_30#[480, 510)</th>\n",
       "      <th>time_left_30#[510, 540)</th>\n",
       "      <th>time_left_30#[540, 570)</th>\n",
       "      <th>time_left_30#[570, 600)</th>\n",
       "      <th>time_left_30#[600, 630)</th>\n",
       "      <th>time_left_30#[630, 660)</th>\n",
       "      <th>time_left_30#[660, 690)</th>\n",
       "      <th>time_left_30#[690, 720)</th>\n",
       "    </tr>\n",
       "    <tr>\n",
       "      <th>shot_id</th>\n",
       "      <th></th>\n",
       "      <th></th>\n",
       "      <th></th>\n",
       "      <th></th>\n",
       "      <th></th>\n",
       "      <th></th>\n",
       "      <th></th>\n",
       "      <th></th>\n",
       "      <th></th>\n",
       "      <th></th>\n",
       "      <th></th>\n",
       "      <th></th>\n",
       "      <th></th>\n",
       "      <th></th>\n",
       "      <th></th>\n",
       "      <th></th>\n",
       "      <th></th>\n",
       "      <th></th>\n",
       "      <th></th>\n",
       "      <th></th>\n",
       "      <th></th>\n",
       "    </tr>\n",
       "  </thead>\n",
       "  <tbody>\n",
       "    <tr>\n",
       "      <th>2</th>\n",
       "      <td>0.0</td>\n",
       "      <td>0</td>\n",
       "      <td>0</td>\n",
       "      <td>0</td>\n",
       "      <td>0</td>\n",
       "      <td>0</td>\n",
       "      <td>1</td>\n",
       "      <td>0</td>\n",
       "      <td>0</td>\n",
       "      <td>0</td>\n",
       "      <td>...</td>\n",
       "      <td>0</td>\n",
       "      <td>0</td>\n",
       "      <td>0</td>\n",
       "      <td>0</td>\n",
       "      <td>0</td>\n",
       "      <td>0</td>\n",
       "      <td>1</td>\n",
       "      <td>0</td>\n",
       "      <td>0</td>\n",
       "      <td>0</td>\n",
       "    </tr>\n",
       "    <tr>\n",
       "      <th>3</th>\n",
       "      <td>1.0</td>\n",
       "      <td>0</td>\n",
       "      <td>0</td>\n",
       "      <td>0</td>\n",
       "      <td>0</td>\n",
       "      <td>0</td>\n",
       "      <td>1</td>\n",
       "      <td>0</td>\n",
       "      <td>0</td>\n",
       "      <td>0</td>\n",
       "      <td>...</td>\n",
       "      <td>0</td>\n",
       "      <td>1</td>\n",
       "      <td>0</td>\n",
       "      <td>0</td>\n",
       "      <td>0</td>\n",
       "      <td>0</td>\n",
       "      <td>0</td>\n",
       "      <td>0</td>\n",
       "      <td>0</td>\n",
       "      <td>0</td>\n",
       "    </tr>\n",
       "    <tr>\n",
       "      <th>4</th>\n",
       "      <td>0.0</td>\n",
       "      <td>0</td>\n",
       "      <td>0</td>\n",
       "      <td>0</td>\n",
       "      <td>0</td>\n",
       "      <td>0</td>\n",
       "      <td>1</td>\n",
       "      <td>0</td>\n",
       "      <td>0</td>\n",
       "      <td>0</td>\n",
       "      <td>...</td>\n",
       "      <td>0</td>\n",
       "      <td>0</td>\n",
       "      <td>0</td>\n",
       "      <td>0</td>\n",
       "      <td>0</td>\n",
       "      <td>0</td>\n",
       "      <td>0</td>\n",
       "      <td>0</td>\n",
       "      <td>0</td>\n",
       "      <td>0</td>\n",
       "    </tr>\n",
       "    <tr>\n",
       "      <th>5</th>\n",
       "      <td>1.0</td>\n",
       "      <td>0</td>\n",
       "      <td>1</td>\n",
       "      <td>0</td>\n",
       "      <td>0</td>\n",
       "      <td>0</td>\n",
       "      <td>0</td>\n",
       "      <td>0</td>\n",
       "      <td>0</td>\n",
       "      <td>0</td>\n",
       "      <td>...</td>\n",
       "      <td>0</td>\n",
       "      <td>0</td>\n",
       "      <td>0</td>\n",
       "      <td>0</td>\n",
       "      <td>0</td>\n",
       "      <td>0</td>\n",
       "      <td>0</td>\n",
       "      <td>0</td>\n",
       "      <td>0</td>\n",
       "      <td>0</td>\n",
       "    </tr>\n",
       "    <tr>\n",
       "      <th>6</th>\n",
       "      <td>0.0</td>\n",
       "      <td>0</td>\n",
       "      <td>0</td>\n",
       "      <td>0</td>\n",
       "      <td>0</td>\n",
       "      <td>0</td>\n",
       "      <td>1</td>\n",
       "      <td>0</td>\n",
       "      <td>0</td>\n",
       "      <td>0</td>\n",
       "      <td>...</td>\n",
       "      <td>0</td>\n",
       "      <td>0</td>\n",
       "      <td>0</td>\n",
       "      <td>0</td>\n",
       "      <td>0</td>\n",
       "      <td>1</td>\n",
       "      <td>0</td>\n",
       "      <td>0</td>\n",
       "      <td>0</td>\n",
       "      <td>0</td>\n",
       "    </tr>\n",
       "  </tbody>\n",
       "</table>\n",
       "<p>5 rows × 81 columns</p>\n",
       "</div>"
      ],
      "text/plain": [
       "         shot_made_flag  3pt_flag  action_type#Driving Dunk Shot  \\\n",
       "shot_id                                                            \n",
       "2                   0.0         0                              0   \n",
       "3                   1.0         0                              0   \n",
       "4                   0.0         0                              0   \n",
       "5                   1.0         0                              1   \n",
       "6                   0.0         0                              0   \n",
       "\n",
       "         action_type#Driving Layup Shot  action_type#Fadeaway Jump Shot  \\\n",
       "shot_id                                                                   \n",
       "2                                     0                               0   \n",
       "3                                     0                               0   \n",
       "4                                     0                               0   \n",
       "5                                     0                               0   \n",
       "6                                     0                               0   \n",
       "\n",
       "         action_type#Jump Bank Shot  action_type#Jump Shot  \\\n",
       "shot_id                                                      \n",
       "2                                 0                      1   \n",
       "3                                 0                      1   \n",
       "4                                 0                      1   \n",
       "5                                 0                      0   \n",
       "6                                 0                      1   \n",
       "\n",
       "         action_type#Layup Shot  action_type#Other  \\\n",
       "shot_id                                              \n",
       "2                             0                  0   \n",
       "3                             0                  0   \n",
       "4                             0                  0   \n",
       "5                             0                  0   \n",
       "6                             0                  0   \n",
       "\n",
       "         action_type#Pullup Jump shot           ...             \\\n",
       "shot_id                                         ...              \n",
       "2                                   0           ...              \n",
       "3                                   0           ...              \n",
       "4                                   0           ...              \n",
       "5                                   0           ...              \n",
       "6                                   0           ...              \n",
       "\n",
       "         time_left_30#[420, 450)  time_left_30#[450, 480)  \\\n",
       "shot_id                                                     \n",
       "2                              0                        0   \n",
       "3                              0                        1   \n",
       "4                              0                        0   \n",
       "5                              0                        0   \n",
       "6                              0                        0   \n",
       "\n",
       "         time_left_30#[480, 510)  time_left_30#[510, 540)  \\\n",
       "shot_id                                                     \n",
       "2                              0                        0   \n",
       "3                              0                        0   \n",
       "4                              0                        0   \n",
       "5                              0                        0   \n",
       "6                              0                        0   \n",
       "\n",
       "         time_left_30#[540, 570)  time_left_30#[570, 600)  \\\n",
       "shot_id                                                     \n",
       "2                              0                        0   \n",
       "3                              0                        0   \n",
       "4                              0                        0   \n",
       "5                              0                        0   \n",
       "6                              0                        1   \n",
       "\n",
       "         time_left_30#[600, 630)  time_left_30#[630, 660)  \\\n",
       "shot_id                                                     \n",
       "2                              1                        0   \n",
       "3                              0                        0   \n",
       "4                              0                        0   \n",
       "5                              0                        0   \n",
       "6                              0                        0   \n",
       "\n",
       "         time_left_30#[660, 690)  time_left_30#[690, 720)  \n",
       "shot_id                                                    \n",
       "2                              0                        0  \n",
       "3                              0                        0  \n",
       "4                              0                        0  \n",
       "5                              0                        0  \n",
       "6                              0                        0  \n",
       "\n",
       "[5 rows x 81 columns]"
      ]
     },
     "execution_count": 563,
     "metadata": {},
     "output_type": "execute_result"
    }
   ],
   "source": [
    "kobe_shot_zone.head()"
   ]
  },
  {
   "cell_type": "markdown",
   "metadata": {},
   "source": [
    "### Выделим из общего датасета те строки, для которых задана целевая переменная"
   ]
  },
  {
   "cell_type": "code",
   "execution_count": 564,
   "metadata": {},
   "outputs": [],
   "source": [
    "kobe_xy_train = kobe_xy[kobe_xy['shot_made_flag'].notnull()]"
   ]
  },
  {
   "cell_type": "code",
   "execution_count": 565,
   "metadata": {},
   "outputs": [],
   "source": [
    "from sklearn.linear_model import LinearRegression, Ridge, Lasso"
   ]
  },
  {
   "cell_type": "code",
   "execution_count": 566,
   "metadata": {},
   "outputs": [],
   "source": [
    "X = kobe_xy_train.loc[:, kobe_xy_train.columns != 'shot_made_flag'].values\n",
    "y = kobe_xy_train['shot_made_flag']"
   ]
  },
  {
   "cell_type": "code",
   "execution_count": 567,
   "metadata": {},
   "outputs": [],
   "source": [
    "import statsmodels.formula.api as smf"
   ]
  },
  {
   "cell_type": "code",
   "execution_count": 568,
   "metadata": {},
   "outputs": [
    {
     "data": {
      "text/html": [
       "<table class=\"simpletable\">\n",
       "<tr>\n",
       "    <td></td>      <th>coef</th>     <th>std err</th>      <th>t</th>      <th>P>|t|</th>  <th>[0.025</th>    <th>0.975]</th>  \n",
       "</tr>\n",
       "<tr>\n",
       "  <th>x1</th>   <td>   -0.0146</td> <td>    0.025</td> <td>   -0.580</td> <td> 0.562</td> <td>   -0.064</td> <td>    0.035</td>\n",
       "</tr>\n",
       "<tr>\n",
       "  <th>x2</th>   <td> 3.957e+11</td> <td> 4.82e+11</td> <td>    0.820</td> <td> 0.412</td> <td> -5.5e+11</td> <td> 1.34e+12</td>\n",
       "</tr>\n",
       "<tr>\n",
       "  <th>x3</th>   <td> 3.957e+11</td> <td> 4.82e+11</td> <td>    0.820</td> <td> 0.412</td> <td> -5.5e+11</td> <td> 1.34e+12</td>\n",
       "</tr>\n",
       "<tr>\n",
       "  <th>x4</th>   <td> 3.957e+11</td> <td> 4.82e+11</td> <td>    0.820</td> <td> 0.412</td> <td> -5.5e+11</td> <td> 1.34e+12</td>\n",
       "</tr>\n",
       "<tr>\n",
       "  <th>x5</th>   <td> 3.957e+11</td> <td> 4.82e+11</td> <td>    0.820</td> <td> 0.412</td> <td> -5.5e+11</td> <td> 1.34e+12</td>\n",
       "</tr>\n",
       "<tr>\n",
       "  <th>x6</th>   <td> 3.957e+11</td> <td> 4.82e+11</td> <td>    0.820</td> <td> 0.412</td> <td> -5.5e+11</td> <td> 1.34e+12</td>\n",
       "</tr>\n",
       "<tr>\n",
       "  <th>x7</th>   <td> 3.957e+11</td> <td> 4.82e+11</td> <td>    0.820</td> <td> 0.412</td> <td> -5.5e+11</td> <td> 1.34e+12</td>\n",
       "</tr>\n",
       "<tr>\n",
       "  <th>x8</th>   <td> 3.957e+11</td> <td> 4.82e+11</td> <td>    0.820</td> <td> 0.412</td> <td> -5.5e+11</td> <td> 1.34e+12</td>\n",
       "</tr>\n",
       "<tr>\n",
       "  <th>x9</th>   <td> 3.957e+11</td> <td> 4.82e+11</td> <td>    0.820</td> <td> 0.412</td> <td> -5.5e+11</td> <td> 1.34e+12</td>\n",
       "</tr>\n",
       "<tr>\n",
       "  <th>x10</th>  <td> 3.957e+11</td> <td> 4.82e+11</td> <td>    0.820</td> <td> 0.412</td> <td> -5.5e+11</td> <td> 1.34e+12</td>\n",
       "</tr>\n",
       "<tr>\n",
       "  <th>x11</th>  <td> 3.957e+11</td> <td> 4.82e+11</td> <td>    0.820</td> <td> 0.412</td> <td> -5.5e+11</td> <td> 1.34e+12</td>\n",
       "</tr>\n",
       "<tr>\n",
       "  <th>x12</th>  <td> 3.957e+11</td> <td> 4.82e+11</td> <td>    0.820</td> <td> 0.412</td> <td> -5.5e+11</td> <td> 1.34e+12</td>\n",
       "</tr>\n",
       "<tr>\n",
       "  <th>x13</th>  <td> 3.957e+11</td> <td> 4.82e+11</td> <td>    0.820</td> <td> 0.412</td> <td> -5.5e+11</td> <td> 1.34e+12</td>\n",
       "</tr>\n",
       "<tr>\n",
       "  <th>x14</th>  <td> 3.957e+11</td> <td> 4.82e+11</td> <td>    0.820</td> <td> 0.412</td> <td> -5.5e+11</td> <td> 1.34e+12</td>\n",
       "</tr>\n",
       "<tr>\n",
       "  <th>x15</th>  <td> -1.17e+11</td> <td> 1.43e+11</td> <td>   -0.820</td> <td> 0.412</td> <td>-3.96e+11</td> <td> 1.62e+11</td>\n",
       "</tr>\n",
       "<tr>\n",
       "  <th>x16</th>  <td> -1.17e+11</td> <td> 1.43e+11</td> <td>   -0.820</td> <td> 0.412</td> <td>-3.96e+11</td> <td> 1.62e+11</td>\n",
       "</tr>\n",
       "<tr>\n",
       "  <th>x17</th>  <td> -1.17e+11</td> <td> 1.43e+11</td> <td>   -0.820</td> <td> 0.412</td> <td>-3.96e+11</td> <td> 1.62e+11</td>\n",
       "</tr>\n",
       "<tr>\n",
       "  <th>x18</th>  <td> -1.17e+11</td> <td> 1.43e+11</td> <td>   -0.820</td> <td> 0.412</td> <td>-3.96e+11</td> <td> 1.62e+11</td>\n",
       "</tr>\n",
       "<tr>\n",
       "  <th>x19</th>  <td> -1.17e+11</td> <td> 1.43e+11</td> <td>   -0.820</td> <td> 0.412</td> <td>-3.96e+11</td> <td> 1.62e+11</td>\n",
       "</tr>\n",
       "<tr>\n",
       "  <th>x20</th>  <td> -1.17e+11</td> <td> 1.43e+11</td> <td>   -0.820</td> <td> 0.412</td> <td>-3.96e+11</td> <td> 1.62e+11</td>\n",
       "</tr>\n",
       "<tr>\n",
       "  <th>x21</th>  <td> -1.17e+11</td> <td> 1.43e+11</td> <td>   -0.820</td> <td> 0.412</td> <td>-3.96e+11</td> <td> 1.62e+11</td>\n",
       "</tr>\n",
       "<tr>\n",
       "  <th>x22</th>  <td> -1.17e+11</td> <td> 1.43e+11</td> <td>   -0.820</td> <td> 0.412</td> <td>-3.96e+11</td> <td> 1.62e+11</td>\n",
       "</tr>\n",
       "<tr>\n",
       "  <th>x23</th>  <td> -1.17e+11</td> <td> 1.43e+11</td> <td>   -0.820</td> <td> 0.412</td> <td>-3.96e+11</td> <td> 1.62e+11</td>\n",
       "</tr>\n",
       "<tr>\n",
       "  <th>x24</th>  <td> -1.17e+11</td> <td> 1.43e+11</td> <td>   -0.820</td> <td> 0.412</td> <td>-3.96e+11</td> <td> 1.62e+11</td>\n",
       "</tr>\n",
       "<tr>\n",
       "  <th>x25</th>  <td> -1.17e+11</td> <td> 1.43e+11</td> <td>   -0.820</td> <td> 0.412</td> <td>-3.96e+11</td> <td> 1.62e+11</td>\n",
       "</tr>\n",
       "<tr>\n",
       "  <th>x26</th>  <td> -1.17e+11</td> <td> 1.43e+11</td> <td>   -0.820</td> <td> 0.412</td> <td>-3.96e+11</td> <td> 1.62e+11</td>\n",
       "</tr>\n",
       "<tr>\n",
       "  <th>x27</th>  <td> -1.17e+11</td> <td> 1.43e+11</td> <td>   -0.820</td> <td> 0.412</td> <td>-3.96e+11</td> <td> 1.62e+11</td>\n",
       "</tr>\n",
       "<tr>\n",
       "  <th>x28</th>  <td> -1.17e+11</td> <td> 1.43e+11</td> <td>   -0.820</td> <td> 0.412</td> <td>-3.96e+11</td> <td> 1.62e+11</td>\n",
       "</tr>\n",
       "<tr>\n",
       "  <th>x29</th>  <td> -1.17e+11</td> <td> 1.43e+11</td> <td>   -0.820</td> <td> 0.412</td> <td>-3.96e+11</td> <td> 1.62e+11</td>\n",
       "</tr>\n",
       "<tr>\n",
       "  <th>x30</th>  <td> -1.17e+11</td> <td> 1.43e+11</td> <td>   -0.820</td> <td> 0.412</td> <td>-3.96e+11</td> <td> 1.62e+11</td>\n",
       "</tr>\n",
       "<tr>\n",
       "  <th>x31</th>  <td> -1.17e+11</td> <td> 1.43e+11</td> <td>   -0.820</td> <td> 0.412</td> <td>-3.96e+11</td> <td> 1.62e+11</td>\n",
       "</tr>\n",
       "<tr>\n",
       "  <th>x32</th>  <td> -1.17e+11</td> <td> 1.43e+11</td> <td>   -0.820</td> <td> 0.412</td> <td>-3.96e+11</td> <td> 1.62e+11</td>\n",
       "</tr>\n",
       "<tr>\n",
       "  <th>x33</th>  <td> -1.17e+11</td> <td> 1.43e+11</td> <td>   -0.820</td> <td> 0.412</td> <td>-3.96e+11</td> <td> 1.62e+11</td>\n",
       "</tr>\n",
       "<tr>\n",
       "  <th>x34</th>  <td> -1.17e+11</td> <td> 1.43e+11</td> <td>   -0.820</td> <td> 0.412</td> <td>-3.96e+11</td> <td> 1.62e+11</td>\n",
       "</tr>\n",
       "<tr>\n",
       "  <th>x35</th>  <td> -1.17e+11</td> <td> 1.43e+11</td> <td>   -0.820</td> <td> 0.412</td> <td>-3.96e+11</td> <td> 1.62e+11</td>\n",
       "</tr>\n",
       "<tr>\n",
       "  <th>x36</th>  <td>-2.272e+11</td> <td> 2.77e+11</td> <td>   -0.820</td> <td> 0.412</td> <td> -7.7e+11</td> <td> 3.16e+11</td>\n",
       "</tr>\n",
       "<tr>\n",
       "  <th>x37</th>  <td>-2.272e+11</td> <td> 2.77e+11</td> <td>   -0.820</td> <td> 0.412</td> <td> -7.7e+11</td> <td> 3.16e+11</td>\n",
       "</tr>\n",
       "<tr>\n",
       "  <th>x38</th>  <td>-2.272e+11</td> <td> 2.77e+11</td> <td>   -0.820</td> <td> 0.412</td> <td> -7.7e+11</td> <td> 3.16e+11</td>\n",
       "</tr>\n",
       "<tr>\n",
       "  <th>x39</th>  <td>-2.272e+11</td> <td> 2.77e+11</td> <td>   -0.820</td> <td> 0.412</td> <td> -7.7e+11</td> <td> 3.16e+11</td>\n",
       "</tr>\n",
       "<tr>\n",
       "  <th>x40</th>  <td>-2.272e+11</td> <td> 2.77e+11</td> <td>   -0.820</td> <td> 0.412</td> <td> -7.7e+11</td> <td> 3.16e+11</td>\n",
       "</tr>\n",
       "<tr>\n",
       "  <th>x41</th>  <td>-2.272e+11</td> <td> 2.77e+11</td> <td>   -0.820</td> <td> 0.412</td> <td> -7.7e+11</td> <td> 3.16e+11</td>\n",
       "</tr>\n",
       "<tr>\n",
       "  <th>x42</th>  <td>-2.272e+11</td> <td> 2.77e+11</td> <td>   -0.820</td> <td> 0.412</td> <td> -7.7e+11</td> <td> 3.16e+11</td>\n",
       "</tr>\n",
       "<tr>\n",
       "  <th>x43</th>  <td>-2.272e+11</td> <td> 2.77e+11</td> <td>   -0.820</td> <td> 0.412</td> <td> -7.7e+11</td> <td> 3.16e+11</td>\n",
       "</tr>\n",
       "<tr>\n",
       "  <th>x44</th>  <td>-2.272e+11</td> <td> 2.77e+11</td> <td>   -0.820</td> <td> 0.412</td> <td> -7.7e+11</td> <td> 3.16e+11</td>\n",
       "</tr>\n",
       "<tr>\n",
       "  <th>x45</th>  <td>-2.272e+11</td> <td> 2.77e+11</td> <td>   -0.820</td> <td> 0.412</td> <td> -7.7e+11</td> <td> 3.16e+11</td>\n",
       "</tr>\n",
       "<tr>\n",
       "  <th>x46</th>  <td>-2.272e+11</td> <td> 2.77e+11</td> <td>   -0.820</td> <td> 0.412</td> <td> -7.7e+11</td> <td> 3.16e+11</td>\n",
       "</tr>\n",
       "<tr>\n",
       "  <th>x47</th>  <td>-1.839e+10</td> <td> 2.24e+10</td> <td>   -0.820</td> <td> 0.412</td> <td>-6.23e+10</td> <td> 2.55e+10</td>\n",
       "</tr>\n",
       "<tr>\n",
       "  <th>x48</th>  <td>-1.839e+10</td> <td> 2.24e+10</td> <td>   -0.820</td> <td> 0.412</td> <td>-6.23e+10</td> <td> 2.55e+10</td>\n",
       "</tr>\n",
       "<tr>\n",
       "  <th>x49</th>  <td>-1.839e+10</td> <td> 2.24e+10</td> <td>   -0.820</td> <td> 0.412</td> <td>-6.23e+10</td> <td> 2.55e+10</td>\n",
       "</tr>\n",
       "<tr>\n",
       "  <th>x50</th>  <td>-1.839e+10</td> <td> 2.24e+10</td> <td>   -0.820</td> <td> 0.412</td> <td>-6.23e+10</td> <td> 2.55e+10</td>\n",
       "</tr>\n",
       "<tr>\n",
       "  <th>x51</th>  <td>-1.839e+10</td> <td> 2.24e+10</td> <td>   -0.820</td> <td> 0.412</td> <td>-6.23e+10</td> <td> 2.55e+10</td>\n",
       "</tr>\n",
       "<tr>\n",
       "  <th>x52</th>  <td>-1.839e+10</td> <td> 2.24e+10</td> <td>   -0.820</td> <td> 0.412</td> <td>-6.23e+10</td> <td> 2.55e+10</td>\n",
       "</tr>\n",
       "<tr>\n",
       "  <th>x53</th>  <td>-1.839e+10</td> <td> 2.24e+10</td> <td>   -0.820</td> <td> 0.412</td> <td>-6.23e+10</td> <td> 2.55e+10</td>\n",
       "</tr>\n",
       "<tr>\n",
       "  <th>x54</th>  <td>-1.839e+10</td> <td> 2.24e+10</td> <td>   -0.820</td> <td> 0.412</td> <td>-6.23e+10</td> <td> 2.55e+10</td>\n",
       "</tr>\n",
       "<tr>\n",
       "  <th>x55</th>  <td>-1.839e+10</td> <td> 2.24e+10</td> <td>   -0.820</td> <td> 0.412</td> <td>-6.23e+10</td> <td> 2.55e+10</td>\n",
       "</tr>\n",
       "<tr>\n",
       "  <th>x56</th>  <td>-1.839e+10</td> <td> 2.24e+10</td> <td>   -0.820</td> <td> 0.412</td> <td>-6.23e+10</td> <td> 2.55e+10</td>\n",
       "</tr>\n",
       "<tr>\n",
       "  <th>x57</th>  <td>-1.839e+10</td> <td> 2.24e+10</td> <td>   -0.820</td> <td> 0.412</td> <td>-6.23e+10</td> <td> 2.55e+10</td>\n",
       "</tr>\n",
       "<tr>\n",
       "  <th>x58</th>  <td>-1.839e+10</td> <td> 2.24e+10</td> <td>   -0.820</td> <td> 0.412</td> <td>-6.23e+10</td> <td> 2.55e+10</td>\n",
       "</tr>\n",
       "<tr>\n",
       "  <th>x59</th>  <td>-1.839e+10</td> <td> 2.24e+10</td> <td>   -0.820</td> <td> 0.412</td> <td>-6.23e+10</td> <td> 2.55e+10</td>\n",
       "</tr>\n",
       "<tr>\n",
       "  <th>x60</th>  <td>-1.839e+10</td> <td> 2.24e+10</td> <td>   -0.820</td> <td> 0.412</td> <td>-6.23e+10</td> <td> 2.55e+10</td>\n",
       "</tr>\n",
       "<tr>\n",
       "  <th>x61</th>  <td>-1.839e+10</td> <td> 2.24e+10</td> <td>   -0.820</td> <td> 0.412</td> <td>-6.23e+10</td> <td> 2.55e+10</td>\n",
       "</tr>\n",
       "<tr>\n",
       "  <th>x62</th>  <td>-1.839e+10</td> <td> 2.24e+10</td> <td>   -0.820</td> <td> 0.412</td> <td>-6.23e+10</td> <td> 2.55e+10</td>\n",
       "</tr>\n",
       "<tr>\n",
       "  <th>x63</th>  <td>-1.839e+10</td> <td> 2.24e+10</td> <td>   -0.820</td> <td> 0.412</td> <td>-6.23e+10</td> <td> 2.55e+10</td>\n",
       "</tr>\n",
       "<tr>\n",
       "  <th>x64</th>  <td>-1.839e+10</td> <td> 2.24e+10</td> <td>   -0.820</td> <td> 0.412</td> <td>-6.23e+10</td> <td> 2.55e+10</td>\n",
       "</tr>\n",
       "<tr>\n",
       "  <th>x65</th>  <td>-1.839e+10</td> <td> 2.24e+10</td> <td>   -0.820</td> <td> 0.412</td> <td>-6.23e+10</td> <td> 2.55e+10</td>\n",
       "</tr>\n",
       "<tr>\n",
       "  <th>x66</th>  <td>-1.839e+10</td> <td> 2.24e+10</td> <td>   -0.820</td> <td> 0.412</td> <td>-6.23e+10</td> <td> 2.55e+10</td>\n",
       "</tr>\n",
       "<tr>\n",
       "  <th>x67</th>  <td>-1.839e+10</td> <td> 2.24e+10</td> <td>   -0.820</td> <td> 0.412</td> <td>-6.23e+10</td> <td> 2.55e+10</td>\n",
       "</tr>\n",
       "<tr>\n",
       "  <th>x68</th>  <td>-1.839e+10</td> <td> 2.24e+10</td> <td>   -0.820</td> <td> 0.412</td> <td>-6.23e+10</td> <td> 2.55e+10</td>\n",
       "</tr>\n",
       "<tr>\n",
       "  <th>x69</th>  <td>-1.839e+10</td> <td> 2.24e+10</td> <td>   -0.820</td> <td> 0.412</td> <td>-6.23e+10</td> <td> 2.55e+10</td>\n",
       "</tr>\n",
       "<tr>\n",
       "  <th>x70</th>  <td>-1.839e+10</td> <td> 2.24e+10</td> <td>   -0.820</td> <td> 0.412</td> <td>-6.23e+10</td> <td> 2.55e+10</td>\n",
       "</tr>\n",
       "<tr>\n",
       "  <th>x71</th>  <td>-3.312e+10</td> <td> 4.04e+10</td> <td>   -0.820</td> <td> 0.412</td> <td>-1.12e+11</td> <td>  4.6e+10</td>\n",
       "</tr>\n",
       "<tr>\n",
       "  <th>x72</th>  <td>-3.312e+10</td> <td> 4.04e+10</td> <td>   -0.820</td> <td> 0.412</td> <td>-1.12e+11</td> <td>  4.6e+10</td>\n",
       "</tr>\n",
       "<tr>\n",
       "  <th>x73</th>  <td>-3.312e+10</td> <td> 4.04e+10</td> <td>   -0.820</td> <td> 0.412</td> <td>-1.12e+11</td> <td>  4.6e+10</td>\n",
       "</tr>\n",
       "<tr>\n",
       "  <th>x74</th>  <td>-3.312e+10</td> <td> 4.04e+10</td> <td>   -0.820</td> <td> 0.412</td> <td>-1.12e+11</td> <td>  4.6e+10</td>\n",
       "</tr>\n",
       "<tr>\n",
       "  <th>x75</th>  <td>-3.312e+10</td> <td> 4.04e+10</td> <td>   -0.820</td> <td> 0.412</td> <td>-1.12e+11</td> <td>  4.6e+10</td>\n",
       "</tr>\n",
       "<tr>\n",
       "  <th>x76</th>  <td>-3.312e+10</td> <td> 4.04e+10</td> <td>   -0.820</td> <td> 0.412</td> <td>-1.12e+11</td> <td>  4.6e+10</td>\n",
       "</tr>\n",
       "<tr>\n",
       "  <th>x77</th>  <td>-3.312e+10</td> <td> 4.04e+10</td> <td>   -0.820</td> <td> 0.412</td> <td>-1.12e+11</td> <td>  4.6e+10</td>\n",
       "</tr>\n",
       "<tr>\n",
       "  <th>x78</th>  <td>-3.312e+10</td> <td> 4.04e+10</td> <td>   -0.820</td> <td> 0.412</td> <td>-1.12e+11</td> <td>  4.6e+10</td>\n",
       "</tr>\n",
       "<tr>\n",
       "  <th>x79</th>  <td>-3.312e+10</td> <td> 4.04e+10</td> <td>   -0.820</td> <td> 0.412</td> <td>-1.12e+11</td> <td>  4.6e+10</td>\n",
       "</tr>\n",
       "<tr>\n",
       "  <th>x80</th>  <td>-3.312e+10</td> <td> 4.04e+10</td> <td>   -0.820</td> <td> 0.412</td> <td>-1.12e+11</td> <td>  4.6e+10</td>\n",
       "</tr>\n",
       "<tr>\n",
       "  <th>x81</th>  <td>-3.312e+10</td> <td> 4.04e+10</td> <td>   -0.820</td> <td> 0.412</td> <td>-1.12e+11</td> <td>  4.6e+10</td>\n",
       "</tr>\n",
       "<tr>\n",
       "  <th>x82</th>  <td>-3.312e+10</td> <td> 4.04e+10</td> <td>   -0.820</td> <td> 0.412</td> <td>-1.12e+11</td> <td>  4.6e+10</td>\n",
       "</tr>\n",
       "<tr>\n",
       "  <th>x83</th>  <td>-3.312e+10</td> <td> 4.04e+10</td> <td>   -0.820</td> <td> 0.412</td> <td>-1.12e+11</td> <td>  4.6e+10</td>\n",
       "</tr>\n",
       "<tr>\n",
       "  <th>x84</th>  <td>-3.312e+10</td> <td> 4.04e+10</td> <td>   -0.820</td> <td> 0.412</td> <td>-1.12e+11</td> <td>  4.6e+10</td>\n",
       "</tr>\n",
       "<tr>\n",
       "  <th>x85</th>  <td>-3.312e+10</td> <td> 4.04e+10</td> <td>   -0.820</td> <td> 0.412</td> <td>-1.12e+11</td> <td>  4.6e+10</td>\n",
       "</tr>\n",
       "<tr>\n",
       "  <th>x86</th>  <td>-3.312e+10</td> <td> 4.04e+10</td> <td>   -0.820</td> <td> 0.412</td> <td>-1.12e+11</td> <td>  4.6e+10</td>\n",
       "</tr>\n",
       "<tr>\n",
       "  <th>x87</th>  <td>-3.312e+10</td> <td> 4.04e+10</td> <td>   -0.820</td> <td> 0.412</td> <td>-1.12e+11</td> <td>  4.6e+10</td>\n",
       "</tr>\n",
       "<tr>\n",
       "  <th>x88</th>  <td>-3.312e+10</td> <td> 4.04e+10</td> <td>   -0.820</td> <td> 0.412</td> <td>-1.12e+11</td> <td>  4.6e+10</td>\n",
       "</tr>\n",
       "<tr>\n",
       "  <th>x89</th>  <td>-3.312e+10</td> <td> 4.04e+10</td> <td>   -0.820</td> <td> 0.412</td> <td>-1.12e+11</td> <td>  4.6e+10</td>\n",
       "</tr>\n",
       "<tr>\n",
       "  <th>x90</th>  <td>-3.312e+10</td> <td> 4.04e+10</td> <td>   -0.820</td> <td> 0.412</td> <td>-1.12e+11</td> <td>  4.6e+10</td>\n",
       "</tr>\n",
       "<tr>\n",
       "  <th>x91</th>  <td>-3.312e+10</td> <td> 4.04e+10</td> <td>   -0.820</td> <td> 0.412</td> <td>-1.12e+11</td> <td>  4.6e+10</td>\n",
       "</tr>\n",
       "<tr>\n",
       "  <th>x92</th>  <td>-3.312e+10</td> <td> 4.04e+10</td> <td>   -0.820</td> <td> 0.412</td> <td>-1.12e+11</td> <td>  4.6e+10</td>\n",
       "</tr>\n",
       "<tr>\n",
       "  <th>x93</th>  <td>-3.312e+10</td> <td> 4.04e+10</td> <td>   -0.820</td> <td> 0.412</td> <td>-1.12e+11</td> <td>  4.6e+10</td>\n",
       "</tr>\n",
       "<tr>\n",
       "  <th>x94</th>  <td>-3.312e+10</td> <td> 4.04e+10</td> <td>   -0.820</td> <td> 0.412</td> <td>-1.12e+11</td> <td>  4.6e+10</td>\n",
       "</tr>\n",
       "<tr>\n",
       "  <th>x95</th>  <td>-3.312e+10</td> <td> 4.04e+10</td> <td>   -0.820</td> <td> 0.412</td> <td>-1.12e+11</td> <td>  4.6e+10</td>\n",
       "</tr>\n",
       "<tr>\n",
       "  <th>x96</th>  <td>-3.312e+10</td> <td> 4.04e+10</td> <td>   -0.820</td> <td> 0.412</td> <td>-1.12e+11</td> <td>  4.6e+10</td>\n",
       "</tr>\n",
       "<tr>\n",
       "  <th>x97</th>  <td>-3.312e+10</td> <td> 4.04e+10</td> <td>   -0.820</td> <td> 0.412</td> <td>-1.12e+11</td> <td>  4.6e+10</td>\n",
       "</tr>\n",
       "<tr>\n",
       "  <th>x98</th>  <td>-3.312e+10</td> <td> 4.04e+10</td> <td>   -0.820</td> <td> 0.412</td> <td>-1.12e+11</td> <td>  4.6e+10</td>\n",
       "</tr>\n",
       "<tr>\n",
       "  <th>x99</th>  <td>-3.312e+10</td> <td> 4.04e+10</td> <td>   -0.820</td> <td> 0.412</td> <td>-1.12e+11</td> <td>  4.6e+10</td>\n",
       "</tr>\n",
       "<tr>\n",
       "  <th>x100</th> <td>-3.312e+10</td> <td> 4.04e+10</td> <td>   -0.820</td> <td> 0.412</td> <td>-1.12e+11</td> <td>  4.6e+10</td>\n",
       "</tr>\n",
       "<tr>\n",
       "  <th>x101</th> <td>-3.312e+10</td> <td> 4.04e+10</td> <td>   -0.820</td> <td> 0.412</td> <td>-1.12e+11</td> <td>  4.6e+10</td>\n",
       "</tr>\n",
       "<tr>\n",
       "  <th>x102</th> <td>-3.312e+10</td> <td> 4.04e+10</td> <td>   -0.820</td> <td> 0.412</td> <td>-1.12e+11</td> <td>  4.6e+10</td>\n",
       "</tr>\n",
       "<tr>\n",
       "  <th>x103</th> <td>-3.312e+10</td> <td> 4.04e+10</td> <td>   -0.820</td> <td> 0.412</td> <td>-1.12e+11</td> <td>  4.6e+10</td>\n",
       "</tr>\n",
       "<tr>\n",
       "  <th>x104</th> <td>-3.312e+10</td> <td> 4.04e+10</td> <td>   -0.820</td> <td> 0.412</td> <td>-1.12e+11</td> <td>  4.6e+10</td>\n",
       "</tr>\n",
       "<tr>\n",
       "  <th>x105</th> <td>-3.312e+10</td> <td> 4.04e+10</td> <td>   -0.820</td> <td> 0.412</td> <td>-1.12e+11</td> <td>  4.6e+10</td>\n",
       "</tr>\n",
       "<tr>\n",
       "  <th>x106</th> <td>-3.312e+10</td> <td> 4.04e+10</td> <td>   -0.820</td> <td> 0.412</td> <td>-1.12e+11</td> <td>  4.6e+10</td>\n",
       "</tr>\n",
       "<tr>\n",
       "  <th>x107</th> <td>-3.312e+10</td> <td> 4.04e+10</td> <td>   -0.820</td> <td> 0.412</td> <td>-1.12e+11</td> <td>  4.6e+10</td>\n",
       "</tr>\n",
       "<tr>\n",
       "  <th>x108</th> <td>-3.312e+10</td> <td> 4.04e+10</td> <td>   -0.820</td> <td> 0.412</td> <td>-1.12e+11</td> <td>  4.6e+10</td>\n",
       "</tr>\n",
       "</table>"
      ],
      "text/plain": [
       "<class 'statsmodels.iolib.table.SimpleTable'>"
      ]
     },
     "execution_count": 568,
     "metadata": {},
     "output_type": "execute_result"
    }
   ],
   "source": [
    "est = smf.OLS(y,X,).fit()\n",
    "est_res = est.summary()\n",
    "est_res.tables[1]"
   ]
  },
  {
   "cell_type": "code",
   "execution_count": 569,
   "metadata": {},
   "outputs": [
    {
     "name": "stdout",
     "output_type": "stream",
     "text": [
      "RSS: 5410.570017659236\n",
      "R^2: 0.1479100325146443\n"
     ]
    }
   ],
   "source": [
    "rss = np.sum(est.resid ** 2)\n",
    "print(\"RSS:\", rss)\n",
    "print(\"R^2:\", est.rsquared)"
   ]
  },
  {
   "cell_type": "code",
   "execution_count": 570,
   "metadata": {},
   "outputs": [
    {
     "name": "stdout",
     "output_type": "stream",
     "text": [
      "3093190921902.7383\n",
      "[-1.76080374e-02 -3.60078245e+12 -3.60078245e+12 -3.60078245e+12\n",
      " -3.60078245e+12 -3.60078245e+12 -3.60078245e+12 -3.60078245e+12\n",
      " -3.60078245e+12 -3.60078245e+12 -3.60078245e+12 -3.60078245e+12\n",
      " -3.60078245e+12 -3.60078245e+12 -1.25701198e+12 -1.25701198e+12\n",
      " -1.25701198e+12 -1.25701198e+12 -1.25701198e+12 -1.25701198e+12\n",
      " -1.25701198e+12 -1.25701198e+12 -1.25701198e+12 -1.25701198e+12\n",
      " -1.25701198e+12 -1.25701198e+12 -1.25701198e+12 -1.25701198e+12\n",
      " -1.25701198e+12 -1.25701198e+12 -1.25701198e+12 -1.25701198e+12\n",
      " -1.25701198e+12 -1.25701198e+12 -1.25701198e+12  1.89167029e+12\n",
      "  1.89167029e+12  1.89167029e+12  1.89167029e+12  1.89167029e+12\n",
      "  1.89167029e+12  1.89167029e+12  1.89167029e+12  1.89167029e+12\n",
      "  1.89167029e+12  1.89167029e+12 -1.66478179e+11 -1.66478179e+11\n",
      " -1.66478179e+11 -1.66478179e+11 -1.66478179e+11 -1.66478179e+11\n",
      " -1.66478179e+11 -1.66478179e+11 -1.66478179e+11 -1.66478179e+11\n",
      " -1.66478179e+11 -1.66478179e+11 -1.66478179e+11 -1.66478179e+11\n",
      " -1.66478179e+11 -1.66478179e+11 -1.66478179e+11 -1.66478179e+11\n",
      " -1.66478179e+11 -1.66478179e+11 -1.66478179e+11 -1.66478179e+11\n",
      " -1.66478179e+11 -1.66478179e+11  3.94113952e+10  3.94113952e+10\n",
      "  3.94113952e+10  3.94113952e+10  3.94113952e+10  3.94113952e+10\n",
      "  3.94113952e+10  3.94113952e+10  3.94113952e+10  3.94113952e+10\n",
      "  3.94113952e+10  3.94113952e+10  3.94113952e+10  3.94113952e+10\n",
      "  3.94113952e+10  3.94113952e+10  3.94113952e+10  3.94113952e+10\n",
      "  3.94113952e+10  3.94113952e+10  3.94113952e+10  3.94113952e+10\n",
      "  3.94113952e+10  3.94113952e+10  3.94113952e+10  3.94113952e+10\n",
      "  3.94113952e+10  3.94113952e+10  3.94113952e+10  3.94113952e+10\n",
      "  3.94113952e+10  3.94113952e+10  3.94113952e+10  3.94113952e+10\n",
      "  3.94113952e+10  3.94113952e+10  3.94113952e+10  3.94113952e+10]\n"
     ]
    }
   ],
   "source": [
    "lm = LinearRegression().fit(X, y)\n",
    "print(lm.intercept_)\n",
    "print(lm.coef_)"
   ]
  },
  {
   "cell_type": "code",
   "execution_count": 571,
   "metadata": {},
   "outputs": [
    {
     "name": "stdout",
     "output_type": "stream",
     "text": [
      "0.586473097407925\n",
      "[-2.50357266e-02  6.54529932e-02  5.46948271e-02 -2.46703034e-03\n",
      "  4.56661978e-02 -2.40308264e-01 -1.82512837e-01  5.55175429e-02\n",
      "  4.21552058e-02 -4.56750744e-03  7.39461807e-02  8.10014359e-02\n",
      "  3.39509552e-03  8.02615976e-03 -1.91798081e-03 -6.52126329e-03\n",
      " -8.20781128e-03  1.10762076e-02  2.38085637e-02  1.01066308e-02\n",
      " -2.23230417e-03  3.97620019e-04 -1.00107633e-02  8.79309726e-03\n",
      "  2.60245394e-02  1.28883613e-02  1.65119954e-02  1.05689004e-02\n",
      " -3.09477076e-03  3.72656102e-03 -4.82805298e-03 -8.32053667e-03\n",
      " -2.04916741e-02 -2.54405086e-02 -3.28368109e-02  5.19192545e-02\n",
      " -2.01258455e-02 -1.42299674e-02 -1.25082141e-02 -6.45011953e-03\n",
      " -8.47532440e-03  1.29417722e-02  2.84778344e-02  1.95905373e-02\n",
      " -1.73380178e-02 -3.38019097e-02 -5.63536049e-02 -1.64460799e-03\n",
      "  2.11726518e-03 -3.90424373e-03 -7.09828335e-04 -5.49410090e-03\n",
      " -6.16344307e-03  4.48413862e-03 -1.23660801e-03  3.21474574e-03\n",
      "  8.74087575e-03  1.15530715e-02  1.07412317e-02  9.96184788e-03\n",
      "  1.41500567e-02  8.00128483e-03 -2.03186804e-02  5.37837048e-03\n",
      "  1.47767301e-03  1.94175092e-02  1.44295267e-02 -7.53498911e-03\n",
      " -1.16817084e-02  1.37421767e-03 -1.40383875e-02 -6.16424272e-03\n",
      "  1.39027660e-02 -1.53765413e-03 -1.48319180e-02 -2.13446410e-02\n",
      "  7.22477016e-04  1.29431908e-03 -1.12673165e-02 -1.65044391e-02\n",
      " -5.30447793e-03  7.40252232e-03  2.85104051e-03 -2.56407620e-03\n",
      " -8.59958203e-03 -5.71598198e-05  1.29449689e-02  1.11544496e-03\n",
      "  4.70086272e-03  1.48480514e-02  1.67940019e-02  9.99185402e-03\n",
      " -3.01336892e-03 -1.13303488e-02 -2.36591423e-03  5.63201949e-03\n",
      "  1.38747840e-03 -6.18514436e-03 -4.96326873e-03  1.08256755e-03\n",
      "  1.08194367e-02  1.41120493e-02 -8.05164164e-03 -1.06276843e-02\n",
      "  1.26006735e-02  1.98910478e-02 -6.58097339e-03  3.23865780e-03]\n"
     ]
    }
   ],
   "source": [
    "rg = Ridge(alpha=1000).fit(X, y)\n",
    "print(rg.intercept_)\n",
    "print(rg.coef_)"
   ]
  },
  {
   "cell_type": "code",
   "execution_count": 572,
   "metadata": {},
   "outputs": [
    {
     "name": "stdout",
     "output_type": "stream",
     "text": [
      "0.44616103047048294\n",
      "[-0.  0.  0.  0.  0. -0. -0.  0.  0.  0.  0.  0.  0.  0. -0. -0. -0.  0.\n",
      "  0.  0. -0. -0. -0.  0.  0.  0.  0.  0. -0.  0. -0.  0. -0. -0. -0.  0.\n",
      "  0. -0. -0. -0. -0. -0. -0. -0. -0. -0. -0. -0.  0. -0.  0. -0. -0.  0.\n",
      "  0.  0.  0.  0.  0.  0.  0.  0. -0.  0.  0.  0.  0. -0. -0. -0. -0.  0.\n",
      "  0. -0. -0. -0. -0. -0. -0. -0. -0. -0. -0. -0. -0.  0.  0. -0.  0.  0.\n",
      "  0. -0. -0. -0. -0. -0. -0. -0. -0. -0. -0. -0. -0. -0.  0.  0. -0.  0.]\n"
     ]
    }
   ],
   "source": [
    "rg = Lasso().fit(X, y)\n",
    "print(rg.intercept_)\n",
    "print(rg.coef_)"
   ]
  },
  {
   "cell_type": "code",
   "execution_count": 573,
   "metadata": {},
   "outputs": [],
   "source": [
    "kobe_shotzone_train = kobe_shot_zone[kobe_shot_zone['shot_made_flag'].notnull()]"
   ]
  },
  {
   "cell_type": "code",
   "execution_count": 574,
   "metadata": {},
   "outputs": [],
   "source": [
    "X1 = kobe_shotzone_train.loc[:, kobe_shotzone_train.columns != 'shot_made_flag'].values\n",
    "y1 = kobe_shotzone_train['shot_made_flag']"
   ]
  },
  {
   "cell_type": "code",
   "execution_count": 575,
   "metadata": {},
   "outputs": [
    {
     "data": {
      "text/html": [
       "<table class=\"simpletable\">\n",
       "<tr>\n",
       "   <td></td>      <th>coef</th>     <th>std err</th>      <th>t</th>      <th>P>|t|</th>  <th>[0.025</th>    <th>0.975]</th>  \n",
       "</tr>\n",
       "<tr>\n",
       "  <th>x1</th>  <td>    0.0447</td> <td>    0.061</td> <td>    0.734</td> <td> 0.463</td> <td>   -0.075</td> <td>    0.164</td>\n",
       "</tr>\n",
       "<tr>\n",
       "  <th>x2</th>  <td>    0.3257</td> <td>    0.030</td> <td>   10.684</td> <td> 0.000</td> <td>    0.266</td> <td>    0.385</td>\n",
       "</tr>\n",
       "<tr>\n",
       "  <th>x3</th>  <td>    0.0971</td> <td>    0.018</td> <td>    5.405</td> <td> 0.000</td> <td>    0.062</td> <td>    0.132</td>\n",
       "</tr>\n",
       "<tr>\n",
       "  <th>x4</th>  <td>   -0.0214</td> <td>    0.019</td> <td>   -1.155</td> <td> 0.248</td> <td>   -0.058</td> <td>    0.015</td>\n",
       "</tr>\n",
       "<tr>\n",
       "  <th>x5</th>  <td>    0.2004</td> <td>    0.028</td> <td>    7.272</td> <td> 0.000</td> <td>    0.146</td> <td>    0.254</td>\n",
       "</tr>\n",
       "<tr>\n",
       "  <th>x6</th>  <td>   -0.2857</td> <td>    0.012</td> <td>  -23.731</td> <td> 0.000</td> <td>   -0.309</td> <td>   -0.262</td>\n",
       "</tr>\n",
       "<tr>\n",
       "  <th>x7</th>  <td>   -0.2603</td> <td>    0.017</td> <td>  -15.107</td> <td> 0.000</td> <td>   -0.294</td> <td>   -0.226</td>\n",
       "</tr>\n",
       "<tr>\n",
       "  <th>x8</th>  <td>    0.0979</td> <td>    0.014</td> <td>    6.876</td> <td> 0.000</td> <td>    0.070</td> <td>    0.126</td>\n",
       "</tr>\n",
       "<tr>\n",
       "  <th>x9</th>  <td>    0.1427</td> <td>    0.025</td> <td>    5.824</td> <td> 0.000</td> <td>    0.095</td> <td>    0.191</td>\n",
       "</tr>\n",
       "<tr>\n",
       "  <th>x10</th> <td>   -0.0146</td> <td>    0.028</td> <td>   -0.526</td> <td> 0.599</td> <td>   -0.069</td> <td>    0.040</td>\n",
       "</tr>\n",
       "<tr>\n",
       "  <th>x11</th> <td>    0.1612</td> <td>    0.019</td> <td>    8.464</td> <td> 0.000</td> <td>    0.124</td> <td>    0.199</td>\n",
       "</tr>\n",
       "<tr>\n",
       "  <th>x12</th> <td>    0.3310</td> <td>    0.028</td> <td>   11.899</td> <td> 0.000</td> <td>    0.277</td> <td>    0.386</td>\n",
       "</tr>\n",
       "<tr>\n",
       "  <th>x13</th> <td>    0.0100</td> <td>    0.025</td> <td>    0.393</td> <td> 0.694</td> <td>   -0.040</td> <td>    0.060</td>\n",
       "</tr>\n",
       "<tr>\n",
       "  <th>x14</th> <td>    0.0001</td> <td>    0.018</td> <td>    0.006</td> <td> 0.995</td> <td>   -0.036</td> <td>    0.036</td>\n",
       "</tr>\n",
       "<tr>\n",
       "  <th>x15</th> <td>    0.1950</td> <td>    0.107</td> <td>    1.819</td> <td> 0.069</td> <td>   -0.015</td> <td>    0.405</td>\n",
       "</tr>\n",
       "<tr>\n",
       "  <th>x16</th> <td>    0.3024</td> <td>    0.039</td> <td>    7.811</td> <td> 0.000</td> <td>    0.226</td> <td>    0.378</td>\n",
       "</tr>\n",
       "<tr>\n",
       "  <th>x17</th> <td>    0.2868</td> <td>    0.038</td> <td>    7.458</td> <td> 0.000</td> <td>    0.211</td> <td>    0.362</td>\n",
       "</tr>\n",
       "<tr>\n",
       "  <th>x18</th> <td>    0.0344</td> <td>    0.047</td> <td>    0.728</td> <td> 0.467</td> <td>   -0.058</td> <td>    0.127</td>\n",
       "</tr>\n",
       "<tr>\n",
       "  <th>x19</th> <td>    0.0876</td> <td>    0.127</td> <td>    0.688</td> <td> 0.491</td> <td>   -0.162</td> <td>    0.337</td>\n",
       "</tr>\n",
       "<tr>\n",
       "  <th>x20</th> <td>    0.1941</td> <td>    0.041</td> <td>    4.782</td> <td> 0.000</td> <td>    0.115</td> <td>    0.274</td>\n",
       "</tr>\n",
       "<tr>\n",
       "  <th>x21</th> <td>    0.0799</td> <td>    0.049</td> <td>    1.617</td> <td> 0.106</td> <td>   -0.017</td> <td>    0.177</td>\n",
       "</tr>\n",
       "<tr>\n",
       "  <th>x22</th> <td>    0.1378</td> <td>    0.039</td> <td>    3.508</td> <td> 0.000</td> <td>    0.061</td> <td>    0.215</td>\n",
       "</tr>\n",
       "<tr>\n",
       "  <th>x23</th> <td>    0.2010</td> <td>    0.048</td> <td>    4.161</td> <td> 0.000</td> <td>    0.106</td> <td>    0.296</td>\n",
       "</tr>\n",
       "<tr>\n",
       "  <th>x24</th> <td>    0.0495</td> <td>    0.048</td> <td>    1.040</td> <td> 0.299</td> <td>   -0.044</td> <td>    0.143</td>\n",
       "</tr>\n",
       "<tr>\n",
       "  <th>x25</th> <td>    0.0604</td> <td>    0.035</td> <td>    1.719</td> <td> 0.086</td> <td>   -0.008</td> <td>    0.129</td>\n",
       "</tr>\n",
       "<tr>\n",
       "  <th>x26</th> <td>   -0.0228</td> <td>    0.022</td> <td>   -1.053</td> <td> 0.292</td> <td>   -0.065</td> <td>    0.020</td>\n",
       "</tr>\n",
       "<tr>\n",
       "  <th>x27</th> <td>   -0.0041</td> <td>    0.019</td> <td>   -0.214</td> <td> 0.830</td> <td>   -0.042</td> <td>    0.034</td>\n",
       "</tr>\n",
       "<tr>\n",
       "  <th>x28</th> <td>    0.0379</td> <td>    0.018</td> <td>    2.151</td> <td> 0.031</td> <td>    0.003</td> <td>    0.072</td>\n",
       "</tr>\n",
       "<tr>\n",
       "  <th>x29</th> <td>    0.0732</td> <td>    0.017</td> <td>    4.387</td> <td> 0.000</td> <td>    0.040</td> <td>    0.106</td>\n",
       "</tr>\n",
       "<tr>\n",
       "  <th>x30</th> <td>    0.0973</td> <td>    0.017</td> <td>    5.867</td> <td> 0.000</td> <td>    0.065</td> <td>    0.130</td>\n",
       "</tr>\n",
       "<tr>\n",
       "  <th>x31</th> <td>    0.1325</td> <td>    0.017</td> <td>    7.938</td> <td> 0.000</td> <td>    0.100</td> <td>    0.165</td>\n",
       "</tr>\n",
       "<tr>\n",
       "  <th>x32</th> <td>    0.1661</td> <td>    0.017</td> <td>    9.734</td> <td> 0.000</td> <td>    0.133</td> <td>    0.200</td>\n",
       "</tr>\n",
       "<tr>\n",
       "  <th>x33</th> <td>    0.1797</td> <td>    0.029</td> <td>    6.297</td> <td> 0.000</td> <td>    0.124</td> <td>    0.236</td>\n",
       "</tr>\n",
       "<tr>\n",
       "  <th>x34</th> <td>    0.1083</td> <td>    0.033</td> <td>    3.303</td> <td> 0.001</td> <td>    0.044</td> <td>    0.173</td>\n",
       "</tr>\n",
       "<tr>\n",
       "  <th>x35</th> <td>   -0.0442</td> <td>    0.048</td> <td>   -0.916</td> <td> 0.360</td> <td>   -0.139</td> <td>    0.050</td>\n",
       "</tr>\n",
       "<tr>\n",
       "  <th>x36</th> <td>    0.0148</td> <td>    0.056</td> <td>    0.265</td> <td> 0.791</td> <td>   -0.095</td> <td>    0.124</td>\n",
       "</tr>\n",
       "<tr>\n",
       "  <th>x37</th> <td>    0.0224</td> <td>    0.019</td> <td>    1.179</td> <td> 0.238</td> <td>   -0.015</td> <td>    0.060</td>\n",
       "</tr>\n",
       "<tr>\n",
       "  <th>x38</th> <td>    0.0176</td> <td>    0.020</td> <td>    0.866</td> <td> 0.386</td> <td>   -0.022</td> <td>    0.057</td>\n",
       "</tr>\n",
       "<tr>\n",
       "  <th>x39</th> <td>    0.0688</td> <td>    0.015</td> <td>    4.620</td> <td> 0.000</td> <td>    0.040</td> <td>    0.098</td>\n",
       "</tr>\n",
       "<tr>\n",
       "  <th>x40</th> <td>    0.0812</td> <td>    0.012</td> <td>    6.949</td> <td> 0.000</td> <td>    0.058</td> <td>    0.104</td>\n",
       "</tr>\n",
       "<tr>\n",
       "  <th>x41</th> <td>    0.0655</td> <td>    0.013</td> <td>    5.141</td> <td> 0.000</td> <td>    0.041</td> <td>    0.091</td>\n",
       "</tr>\n",
       "<tr>\n",
       "  <th>x42</th> <td>    0.0480</td> <td>    0.011</td> <td>    4.260</td> <td> 0.000</td> <td>    0.026</td> <td>    0.070</td>\n",
       "</tr>\n",
       "<tr>\n",
       "  <th>x43</th> <td>    0.0521</td> <td>    0.012</td> <td>    4.370</td> <td> 0.000</td> <td>    0.029</td> <td>    0.075</td>\n",
       "</tr>\n",
       "<tr>\n",
       "  <th>x44</th> <td>    0.0301</td> <td>    0.012</td> <td>    2.462</td> <td> 0.014</td> <td>    0.006</td> <td>    0.054</td>\n",
       "</tr>\n",
       "<tr>\n",
       "  <th>x45</th> <td>    0.0704</td> <td>    0.013</td> <td>    5.334</td> <td> 0.000</td> <td>    0.045</td> <td>    0.096</td>\n",
       "</tr>\n",
       "<tr>\n",
       "  <th>x46</th> <td>    0.0913</td> <td>    0.011</td> <td>    7.972</td> <td> 0.000</td> <td>    0.069</td> <td>    0.114</td>\n",
       "</tr>\n",
       "<tr>\n",
       "  <th>x47</th> <td>    0.0725</td> <td>    0.012</td> <td>    6.131</td> <td> 0.000</td> <td>    0.049</td> <td>    0.096</td>\n",
       "</tr>\n",
       "<tr>\n",
       "  <th>x48</th> <td>    0.0706</td> <td>    0.011</td> <td>    6.233</td> <td> 0.000</td> <td>    0.048</td> <td>    0.093</td>\n",
       "</tr>\n",
       "<tr>\n",
       "  <th>x49</th> <td>    0.0607</td> <td>    0.011</td> <td>    5.574</td> <td> 0.000</td> <td>    0.039</td> <td>    0.082</td>\n",
       "</tr>\n",
       "<tr>\n",
       "  <th>x50</th> <td>    0.0431</td> <td>    0.012</td> <td>    3.720</td> <td> 0.000</td> <td>    0.020</td> <td>    0.066</td>\n",
       "</tr>\n",
       "<tr>\n",
       "  <th>x51</th> <td>    0.0509</td> <td>    0.014</td> <td>    3.585</td> <td> 0.000</td> <td>    0.023</td> <td>    0.079</td>\n",
       "</tr>\n",
       "<tr>\n",
       "  <th>x52</th> <td>    0.0364</td> <td>    0.011</td> <td>    3.253</td> <td> 0.001</td> <td>    0.014</td> <td>    0.058</td>\n",
       "</tr>\n",
       "<tr>\n",
       "  <th>x53</th> <td>    0.0188</td> <td>    0.016</td> <td>    1.187</td> <td> 0.235</td> <td>   -0.012</td> <td>    0.050</td>\n",
       "</tr>\n",
       "<tr>\n",
       "  <th>x54</th> <td>   -0.0165</td> <td>    0.020</td> <td>   -0.834</td> <td> 0.404</td> <td>   -0.055</td> <td>    0.022</td>\n",
       "</tr>\n",
       "<tr>\n",
       "  <th>x55</th> <td>   -0.0446</td> <td>    0.020</td> <td>   -2.183</td> <td> 0.029</td> <td>   -0.085</td> <td>   -0.005</td>\n",
       "</tr>\n",
       "<tr>\n",
       "  <th>x56</th> <td>   -0.0699</td> <td>    0.020</td> <td>   -3.446</td> <td> 0.001</td> <td>   -0.110</td> <td>   -0.030</td>\n",
       "</tr>\n",
       "<tr>\n",
       "  <th>x57</th> <td>   -0.0455</td> <td>    0.011</td> <td>   -4.023</td> <td> 0.000</td> <td>   -0.068</td> <td>   -0.023</td>\n",
       "</tr>\n",
       "<tr>\n",
       "  <th>x58</th> <td>    0.0258</td> <td>    0.012</td> <td>    2.081</td> <td> 0.037</td> <td>    0.002</td> <td>    0.050</td>\n",
       "</tr>\n",
       "<tr>\n",
       "  <th>x59</th> <td>    0.0341</td> <td>    0.014</td> <td>    2.521</td> <td> 0.012</td> <td>    0.008</td> <td>    0.061</td>\n",
       "</tr>\n",
       "<tr>\n",
       "  <th>x60</th> <td>    0.0250</td> <td>    0.014</td> <td>    1.808</td> <td> 0.071</td> <td>   -0.002</td> <td>    0.052</td>\n",
       "</tr>\n",
       "<tr>\n",
       "  <th>x61</th> <td>    0.0292</td> <td>    0.013</td> <td>    2.220</td> <td> 0.026</td> <td>    0.003</td> <td>    0.055</td>\n",
       "</tr>\n",
       "<tr>\n",
       "  <th>x62</th> <td>    0.0206</td> <td>    0.014</td> <td>    1.516</td> <td> 0.130</td> <td>   -0.006</td> <td>    0.047</td>\n",
       "</tr>\n",
       "<tr>\n",
       "  <th>x63</th> <td>    0.0160</td> <td>    0.014</td> <td>    1.184</td> <td> 0.236</td> <td>   -0.011</td> <td>    0.043</td>\n",
       "</tr>\n",
       "<tr>\n",
       "  <th>x64</th> <td>    0.0404</td> <td>    0.013</td> <td>    3.052</td> <td> 0.002</td> <td>    0.014</td> <td>    0.066</td>\n",
       "</tr>\n",
       "<tr>\n",
       "  <th>x65</th> <td>    0.0258</td> <td>    0.013</td> <td>    1.943</td> <td> 0.052</td> <td>   -0.000</td> <td>    0.052</td>\n",
       "</tr>\n",
       "<tr>\n",
       "  <th>x66</th> <td>    0.0385</td> <td>    0.013</td> <td>    2.891</td> <td> 0.004</td> <td>    0.012</td> <td>    0.065</td>\n",
       "</tr>\n",
       "<tr>\n",
       "  <th>x67</th> <td>    0.0497</td> <td>    0.014</td> <td>    3.660</td> <td> 0.000</td> <td>    0.023</td> <td>    0.076</td>\n",
       "</tr>\n",
       "<tr>\n",
       "  <th>x68</th> <td>    0.0538</td> <td>    0.014</td> <td>    3.772</td> <td> 0.000</td> <td>    0.026</td> <td>    0.082</td>\n",
       "</tr>\n",
       "<tr>\n",
       "  <th>x69</th> <td>    0.0542</td> <td>    0.015</td> <td>    3.708</td> <td> 0.000</td> <td>    0.026</td> <td>    0.083</td>\n",
       "</tr>\n",
       "<tr>\n",
       "  <th>x70</th> <td>    0.0524</td> <td>    0.015</td> <td>    3.605</td> <td> 0.000</td> <td>    0.024</td> <td>    0.081</td>\n",
       "</tr>\n",
       "<tr>\n",
       "  <th>x71</th> <td>    0.0560</td> <td>    0.015</td> <td>    3.789</td> <td> 0.000</td> <td>    0.027</td> <td>    0.085</td>\n",
       "</tr>\n",
       "<tr>\n",
       "  <th>x72</th> <td>    0.0477</td> <td>    0.015</td> <td>    3.153</td> <td> 0.002</td> <td>    0.018</td> <td>    0.077</td>\n",
       "</tr>\n",
       "<tr>\n",
       "  <th>x73</th> <td>   -0.0073</td> <td>    0.015</td> <td>   -0.477</td> <td> 0.633</td> <td>   -0.037</td> <td>    0.023</td>\n",
       "</tr>\n",
       "<tr>\n",
       "  <th>x74</th> <td>    0.0443</td> <td>    0.016</td> <td>    2.842</td> <td> 0.004</td> <td>    0.014</td> <td>    0.075</td>\n",
       "</tr>\n",
       "<tr>\n",
       "  <th>x75</th> <td>    0.0316</td> <td>    0.015</td> <td>    2.120</td> <td> 0.034</td> <td>    0.002</td> <td>    0.061</td>\n",
       "</tr>\n",
       "<tr>\n",
       "  <th>x76</th> <td>    0.0677</td> <td>    0.015</td> <td>    4.511</td> <td> 0.000</td> <td>    0.038</td> <td>    0.097</td>\n",
       "</tr>\n",
       "<tr>\n",
       "  <th>x77</th> <td>    0.0634</td> <td>    0.015</td> <td>    4.189</td> <td> 0.000</td> <td>    0.034</td> <td>    0.093</td>\n",
       "</tr>\n",
       "<tr>\n",
       "  <th>x78</th> <td>    0.0184</td> <td>    0.015</td> <td>    1.196</td> <td> 0.232</td> <td>   -0.012</td> <td>    0.048</td>\n",
       "</tr>\n",
       "<tr>\n",
       "  <th>x79</th> <td>    0.0082</td> <td>    0.015</td> <td>    0.550</td> <td> 0.582</td> <td>   -0.021</td> <td>    0.038</td>\n",
       "</tr>\n",
       "<tr>\n",
       "  <th>x80</th> <td>    0.0341</td> <td>    0.018</td> <td>    1.850</td> <td> 0.064</td> <td>   -0.002</td> <td>    0.070</td>\n",
       "</tr>\n",
       "</table>"
      ],
      "text/plain": [
       "<class 'statsmodels.iolib.table.SimpleTable'>"
      ]
     },
     "execution_count": 575,
     "metadata": {},
     "output_type": "execute_result"
    }
   ],
   "source": [
    "est1 = smf.OLS(y1,X1,).fit()\n",
    "est_res1 = est1.summary()\n",
    "est_res1.tables[1]"
   ]
  },
  {
   "cell_type": "code",
   "execution_count": 576,
   "metadata": {},
   "outputs": [
    {
     "name": "stdout",
     "output_type": "stream",
     "text": [
      "RSS: 5410.570017659236\n",
      "R^2: 0.1459171611708341\n"
     ]
    }
   ],
   "source": [
    "rss1 = np.sum(est.resid ** 2)\n",
    "print(\"RSS:\", rss1)\n",
    "print(\"R^2:\", est1.rsquared)"
   ]
  },
  {
   "cell_type": "code",
   "execution_count": 577,
   "metadata": {},
   "outputs": [
    {
     "name": "stdout",
     "output_type": "stream",
     "text": [
      "-1365440480686.23\n",
      "[ 4.46237280e-02 -2.45164340e+12 -2.45164340e+12 -2.45164340e+12\n",
      " -2.45164340e+12 -2.45164340e+12 -2.45164340e+12 -2.45164340e+12\n",
      " -2.45164340e+12 -2.45164340e+12 -2.45164340e+12 -2.45164340e+12\n",
      " -2.45164340e+12 -2.45164340e+12  6.92965464e+11  6.92965464e+11\n",
      "  6.92965464e+11 -1.58054381e+11 -1.58054381e+11 -1.58054381e+11\n",
      " -1.58054381e+11 -1.58054381e+11 -1.58054381e+11 -1.58054381e+11\n",
      "  2.66640074e+12  2.66640074e+12  2.66640074e+12  2.66640074e+12\n",
      "  2.66640074e+12  2.66640074e+12  2.66640074e+12  2.66640074e+12\n",
      "  2.66640074e+12  2.66640074e+12  2.66640074e+12  5.39093407e+11\n",
      "  5.39093407e+11  5.39093407e+11  5.39093407e+11  5.39093407e+11\n",
      "  5.39093407e+11  5.39093407e+11  5.39093407e+11  5.39093407e+11\n",
      "  5.39093407e+11  5.39093407e+11  5.39093407e+11  5.39093407e+11\n",
      "  5.39093407e+11  5.39093407e+11  5.39093407e+11  5.39093407e+11\n",
      "  5.39093407e+11  5.39093407e+11  5.39093407e+11  5.39093407e+11\n",
      "  7.66786492e+10  7.66786492e+10  7.66786492e+10  7.66786492e+10\n",
      "  7.66786492e+10  7.66786492e+10  7.66786492e+10  7.66786492e+10\n",
      "  7.66786492e+10  7.66786492e+10  7.66786492e+10  7.66786492e+10\n",
      "  7.66786492e+10  7.66786492e+10  7.66786492e+10  7.66786492e+10\n",
      "  7.66786492e+10  7.66786492e+10  7.66786492e+10  7.66786492e+10\n",
      "  7.66786492e+10  7.66786492e+10  7.66786492e+10  7.66786492e+10]\n"
     ]
    }
   ],
   "source": [
    "lm = LinearRegression().fit(X1, y1)\n",
    "print(lm.intercept_)\n",
    "print(lm.coef_)"
   ]
  },
  {
   "cell_type": "code",
   "execution_count": 578,
   "metadata": {},
   "outputs": [
    {
     "name": "stdout",
     "output_type": "stream",
     "text": [
      "0.5758990488898127\n",
      "[-0.02062298  0.06443189  0.05191619 -0.00033204  0.04581181 -0.23585474\n",
      " -0.18633678  0.05341308  0.0443283  -0.00604094  0.0745802   0.08006987\n",
      "  0.00444266  0.0095705  -0.01491865  0.01611208 -0.00119343 -0.01404556\n",
      " -0.01207018  0.00395388  0.00409057 -0.00380545  0.02492795 -0.0030512\n",
      "  0.03923314 -0.0266046  -0.0214577  -0.01303256 -0.004897   -0.0017257\n",
      "  0.02083584  0.03024137  0.02639364 -0.01599056 -0.03299587 -0.00188325\n",
      " -0.00666391 -0.00851815  0.01081793  0.02325897  0.00958805 -0.00250319\n",
      "  0.00060775 -0.01012829  0.00916009  0.02689712  0.0139916   0.01714491\n",
      "  0.01122175 -0.00298932  0.00338607 -0.00578769 -0.00895189 -0.02055064\n",
      " -0.02530644 -0.03279147 -0.05653746 -0.00156421  0.0021669  -0.00381968\n",
      " -0.00068537 -0.00563932 -0.00612113  0.00444149 -0.00133273  0.00319144\n",
      "  0.00836107  0.01153029  0.01069603  0.00997792  0.01403346  0.00799973\n",
      " -0.02039119  0.00530628  0.00158677  0.01969779  0.0145974  -0.00761263\n",
      " -0.01137103  0.0014882 ]\n"
     ]
    }
   ],
   "source": [
    "rg = Ridge(alpha=1000).fit(X1, y1)\n",
    "print(rg.intercept_)\n",
    "print(rg.coef_)"
   ]
  },
  {
   "cell_type": "code",
   "execution_count": 579,
   "metadata": {},
   "outputs": [
    {
     "name": "stdout",
     "output_type": "stream",
     "text": [
      "0.44616103047048294\n",
      "[-0.  0.  0.  0.  0. -0. -0.  0.  0.  0.  0.  0.  0.  0. -0.  0. -0. -0.\n",
      " -0.  0. -0. -0.  0. -0.  0.  0. -0. -0. -0. -0. -0. -0. -0. -0. -0. -0.\n",
      " -0. -0.  0.  0.  0. -0. -0. -0.  0.  0.  0.  0.  0. -0.  0. -0.  0. -0.\n",
      " -0. -0. -0. -0.  0. -0.  0. -0. -0.  0.  0.  0.  0.  0.  0.  0.  0.  0.\n",
      " -0.  0.  0.  0.  0. -0. -0. -0.]\n"
     ]
    }
   ],
   "source": [
    "rg = Lasso().fit(X1, y1)\n",
    "print(rg.intercept_)\n",
    "print(rg.coef_)"
   ]
  },
  {
   "cell_type": "code",
   "execution_count": null,
   "metadata": {},
   "outputs": [],
   "source": []
  }
 ],
 "metadata": {
  "kernelspec": {
   "display_name": "Python 3",
   "language": "python",
   "name": "python3"
  },
  "language_info": {
   "codemirror_mode": {
    "name": "ipython",
    "version": 3
   },
   "file_extension": ".py",
   "mimetype": "text/x-python",
   "name": "python",
   "nbconvert_exporter": "python",
   "pygments_lexer": "ipython3",
   "version": "3.7.0"
  }
 },
 "nbformat": 4,
 "nbformat_minor": 2
}
