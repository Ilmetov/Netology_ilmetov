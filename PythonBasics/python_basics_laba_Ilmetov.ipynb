{
 "cells": [
  {
   "cell_type": "code",
   "execution_count": 12,
   "metadata": {},
   "outputs": [],
   "source": [
    "import random\n",
    "rand_list= random.sample(range(50), 10)"
   ]
  },
  {
   "cell_type": "markdown",
   "metadata": {},
   "source": [
    "1.Дан произвольный список, содержащий только числа.Выведите результат сложения всех чисел больше 10. "
   ]
  },
  {
   "cell_type": "code",
   "execution_count": 13,
   "metadata": {},
   "outputs": [
    {
     "data": {
      "text/plain": [
       "[40, 11, 20, 43, 9, 4, 37, 38, 28, 2]"
      ]
     },
     "execution_count": 13,
     "metadata": {},
     "output_type": "execute_result"
    }
   ],
   "source": [
    "rand_list"
   ]
  },
  {
   "cell_type": "code",
   "execution_count": 14,
   "metadata": {},
   "outputs": [
    {
     "data": {
      "text/plain": [
       "217"
      ]
     },
     "execution_count": 14,
     "metadata": {},
     "output_type": "execute_result"
    }
   ],
   "source": [
    "sum([x for x in rand_list if x >10])"
   ]
  },
  {
   "cell_type": "markdown",
   "metadata": {},
   "source": [
    "2.Пусть задан список, содержащий строки.Выведите все строки, заканчивающиеся буквой r."
   ]
  },
  {
   "cell_type": "code",
   "execution_count": 16,
   "metadata": {},
   "outputs": [],
   "source": [
    "str_list = ['asdasdv','asdr','asdads','fgjkrr']"
   ]
  },
  {
   "cell_type": "code",
   "execution_count": 17,
   "metadata": {},
   "outputs": [
    {
     "data": {
      "text/plain": [
       "['asdr', 'fgjkrr']"
      ]
     },
     "execution_count": 17,
     "metadata": {},
     "output_type": "execute_result"
    }
   ],
   "source": [
    "[i for i in str_list if i[-1]=='r'] "
   ]
  },
  {
   "cell_type": "markdown",
   "metadata": {},
   "source": [
    "3.Сгенерируйте и выведите cлучайную строку размером 6 символов, содержащую только цифры. Строка должна содержать хотя бы одну цифру 3."
   ]
  },
  {
   "cell_type": "code",
   "execution_count": 98,
   "metadata": {},
   "outputs": [],
   "source": [
    "def rand_int_str(n):\n",
    "    digit='0123456789'\n",
    "    i=[]\n",
    "    for each in range(0,n):\n",
    "        i.append(random.choice(digit))\n",
    "    if '3' not in i:\n",
    "        i[random.randint(0,n-1)]='3'\n",
    "    i_str=\"\".join(i)\n",
    "    return i_str"
   ]
  },
  {
   "cell_type": "code",
   "execution_count": 161,
   "metadata": {},
   "outputs": [
    {
     "data": {
      "text/plain": [
       "'514306'"
      ]
     },
     "execution_count": 161,
     "metadata": {},
     "output_type": "execute_result"
    }
   ],
   "source": [
    "rand_int_str(6)"
   ]
  },
  {
   "cell_type": "markdown",
   "metadata": {},
   "source": [
    "4.Пусть дана строка произвольной длины. Выведите информацию о том,сколько в ней символов и сколько слов."
   ]
  },
  {
   "cell_type": "code",
   "execution_count": 164,
   "metadata": {},
   "outputs": [],
   "source": [
    "rand_str = 'посчитай в этой строке количество символов и слов'"
   ]
  },
  {
   "cell_type": "code",
   "execution_count": 184,
   "metadata": {},
   "outputs": [
    {
     "data": {
      "text/plain": [
       "49"
      ]
     },
     "execution_count": 184,
     "metadata": {},
     "output_type": "execute_result"
    }
   ],
   "source": [
    "count_symb=0\n",
    "for each in rand_str:\n",
    "    count_symb+=1\n",
    "count_symb"
   ]
  },
  {
   "cell_type": "code",
   "execution_count": 185,
   "metadata": {},
   "outputs": [
    {
     "data": {
      "text/plain": [
       "8"
      ]
     },
     "execution_count": 185,
     "metadata": {},
     "output_type": "execute_result"
    }
   ],
   "source": [
    "count_word=0\n",
    "for each in rand_str.split():\n",
    "    count_word+=1\n",
    "count_word"
   ]
  },
  {
   "cell_type": "markdown",
   "metadata": {},
   "source": [
    "Матрицы-следующее за списками и строками важное понятие. Широко используется в линейной алгебре. Находит свое применение в современных рекомендательных системах и архитектуре нейронных сетей:\n",
    "\n",
    "    1. Пусть дана матрица чисел размером NхN. Представьте данную матрицу ввиде списка. Выведите результат сложения всех элементов матрицы."
   ]
  },
  {
   "cell_type": "code",
   "execution_count": 199,
   "metadata": {},
   "outputs": [
    {
     "data": {
      "text/plain": [
       "[[87, 79, 29], [1, 87, 68], [22, 64, 36]]"
      ]
     },
     "execution_count": 199,
     "metadata": {},
     "output_type": "execute_result"
    }
   ],
   "source": [
    "random_matrix = ([[random.randint(0,100) for x in range(3)] for y in range(3)])\n",
    "random_matrix"
   ]
  },
  {
   "cell_type": "code",
   "execution_count": 202,
   "metadata": {},
   "outputs": [
    {
     "data": {
      "text/plain": [
       "[87, 79, 29, 1, 87, 68, 22, 64, 36]"
      ]
     },
     "execution_count": 202,
     "metadata": {},
     "output_type": "execute_result"
    }
   ],
   "source": [
    "list_from_matrix = []\n",
    "for i in random_matrix:\n",
    "    list_from_matrix += i\n",
    "list_from_matrix"
   ]
  },
  {
   "cell_type": "code",
   "execution_count": 206,
   "metadata": {},
   "outputs": [
    {
     "data": {
      "text/plain": [
       "473"
      ]
     },
     "execution_count": 206,
     "metadata": {},
     "output_type": "execute_result"
    }
   ],
   "source": [
    "sum_matrix = 0\n",
    "for i in range(len(random_matrix)):\n",
    "    for j in range(len(random_matrix[i])):\n",
    "        sum_matrix += random_matrix[i][j]\n",
    "sum_matrix"
   ]
  },
  {
   "cell_type": "markdown",
   "metadata": {},
   "source": [
    "2.Пусть дана матрица чисел размером NхM. Найти столбец матрицы с максимальной суммой элементов."
   ]
  },
  {
   "cell_type": "code",
   "execution_count": 207,
   "metadata": {},
   "outputs": [
    {
     "data": {
      "text/plain": [
       "[[95, 68, 35, 9], [41, 16, 85, 2], [16, 6, 24, 30]]"
      ]
     },
     "execution_count": 207,
     "metadata": {},
     "output_type": "execute_result"
    }
   ],
   "source": [
    "random_matrix_1 = ([[random.randint(0,100) for x in range(4)] for y in range(3)])\n",
    "random_matrix_1"
   ]
  },
  {
   "cell_type": "code",
   "execution_count": 212,
   "metadata": {},
   "outputs": [
    {
     "data": {
      "text/plain": [
       "195"
      ]
     },
     "execution_count": 212,
     "metadata": {},
     "output_type": "execute_result"
    }
   ],
   "source": [
    "#построчная сумма\n",
    "list_of_sums = []\n",
    "for i in range(len(random_matrix)):\n",
    "    sum_matrix = 0\n",
    "    for j in range(len(random_matrix[i])):\n",
    "        sum_matrix += random_matrix[i][j]\n",
    "    list_of_sums.append(sum_matrix)\n",
    "max_sum = max(list_of_sums)\n",
    "max_sum"
   ]
  },
  {
   "cell_type": "code",
   "execution_count": 215,
   "metadata": {},
   "outputs": [
    {
     "data": {
      "text/plain": [
       "152"
      ]
     },
     "execution_count": 215,
     "metadata": {},
     "output_type": "execute_result"
    }
   ],
   "source": [
    "#постолбцовая\n",
    "max([sum(i) for i in zip(*random_matrix_1)])"
   ]
  },
  {
   "cell_type": "code",
   "execution_count": 217,
   "metadata": {},
   "outputs": [
    {
     "data": {
      "text/plain": [
       "152"
      ]
     },
     "execution_count": 217,
     "metadata": {},
     "output_type": "execute_result"
    }
   ],
   "source": [
    "#постолбцовая без zip\n",
    "max([sum([i[b] for i in random_matrix_1]) for b in range(len(random_matrix_1[0]))])"
   ]
  },
  {
   "cell_type": "markdown",
   "metadata": {},
   "source": [
    "Работа с динамичными структурами важная часть в имплементации вашего кода в продакшнсистему:1.Пусть список студентов представлен в виде структуры [[No, ФИО, Возраст,Группа],[No, ФИО, Возраст, Группа],[No, ФИО, Возраст, Группа]]. Преобразуйте список в словарь вида: {No: [ФИО, Возраст, Группа], No:[....], No: [....]}"
   ]
  },
  {
   "cell_type": "code",
   "execution_count": 219,
   "metadata": {},
   "outputs": [],
   "source": [
    "list_of_stud = [[1, 'Иванов', 20, 'Netology-1'],[2, 'Петров', 20, 'Netology-1'],[3, 'Сидоров', 20, 'Netology-2']]"
   ]
  },
  {
   "cell_type": "code",
   "execution_count": 230,
   "metadata": {},
   "outputs": [],
   "source": [
    "def list_to_dict (list_in):\n",
    "    dict_out = {}\n",
    "    for each in list_in:\n",
    "        dict_out[each[0]] = each[1:]\n",
    "    return dict_out"
   ]
  },
  {
   "cell_type": "code",
   "execution_count": 231,
   "metadata": {},
   "outputs": [],
   "source": [
    "dict_of_stud = list_to_dict(list_of_stud)"
   ]
  },
  {
   "cell_type": "markdown",
   "metadata": {},
   "source": [
    "2.Добавьте к задаче No6 для словаря возможность (без преобразования словаря обратно в список) изменить группу студента. Поиск по «ФИО» («ФИО» студента и новый номер группы необходимо ввести с клавиатуры)."
   ]
  },
  {
   "cell_type": "code",
   "execution_count": 256,
   "metadata": {},
   "outputs": [],
   "source": [
    "def change_group (dict_in, fio_in = '', new_group = ''):\n",
    "    if new_group == '' or fio_in == '':\n",
    "        return dict_in\n",
    "    else:\n",
    "        for i,y in dict_in.items():\n",
    "            if y[0] == fio_in:\n",
    "                y[2] = new_group\n",
    "                dict_in[i] = y\n",
    "        return dict_in"
   ]
  },
  {
   "cell_type": "code",
   "execution_count": 257,
   "metadata": {},
   "outputs": [
    {
     "data": {
      "text/plain": [
       "{1: ['Иванов', 22, 'Netology-10'],\n",
       " 2: ['Петров', 20, 'Netology-1'],\n",
       " 3: ['Сидоров', 20, 'Netology-2']}"
      ]
     },
     "execution_count": 257,
     "metadata": {},
     "output_type": "execute_result"
    }
   ],
   "source": [
    "change_group(dict_of_stud, 'Иванов', 'Netology-10')"
   ]
  },
  {
   "cell_type": "markdown",
   "metadata": {},
   "source": [
    "3. Добавьте к задаче No6 для словаря возможность (без преобразования словаря обратно в список) изменить возраст студента."
   ]
  },
  {
   "cell_type": "code",
   "execution_count": 251,
   "metadata": {},
   "outputs": [],
   "source": [
    "def change_age (dict_in, fio_in = '', new_age = 0):\n",
    "    if type(new_age) != 'int':\n",
    "        try:\n",
    "            new_age = int(new_age)\n",
    "        except ValueError:\n",
    "            return 'Возраст должен быть целым числом'\n",
    "    elif new_age == 0 or fio_in == '':\n",
    "        return dict_in\n",
    "    else:\n",
    "        for i,y in dict_in.items():\n",
    "            if y[0] == fio_in:\n",
    "                y[1] = new_age\n",
    "                dict_in[i] = y\n",
    "        return dict_in"
   ]
  },
  {
   "cell_type": "code",
   "execution_count": 258,
   "metadata": {},
   "outputs": [
    {
     "data": {
      "text/plain": [
       "{1: ['Иванов', 22, 'Netology-10'],\n",
       " 2: ['Петров', 20, 'Netology-1'],\n",
       " 3: ['Сидоров', 20, 'Netology-2']}"
      ]
     },
     "execution_count": 258,
     "metadata": {},
     "output_type": "execute_result"
    }
   ],
   "source": [
    "change_age(dict_of_stud, 'Иванов', 22)"
   ]
  }
 ],
 "metadata": {
  "kernelspec": {
   "display_name": "Python 3",
   "language": "python",
   "name": "python3"
  },
  "language_info": {
   "codemirror_mode": {
    "name": "ipython",
    "version": 3
   },
   "file_extension": ".py",
   "mimetype": "text/x-python",
   "name": "python",
   "nbconvert_exporter": "python",
   "pygments_lexer": "ipython3",
   "version": "3.7.0"
  }
 },
 "nbformat": 4,
 "nbformat_minor": 2
}
