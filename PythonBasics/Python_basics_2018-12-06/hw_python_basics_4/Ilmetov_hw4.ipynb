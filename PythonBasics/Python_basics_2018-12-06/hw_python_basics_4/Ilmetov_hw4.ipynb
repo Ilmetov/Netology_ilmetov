{
 "cells": [
  {
   "cell_type": "markdown",
   "metadata": {},
   "source": [
    "Задание 1\n",
    "Напишите функцию date_range, которая возвращает список дней между датами start_date и end_date. Даты должны вводиться в формате YYYY-MM-DD.\n"
   ]
  },
  {
   "cell_type": "code",
   "execution_count": 8,
   "metadata": {},
   "outputs": [],
   "source": [
    "from datetime import datetime\n",
    "from datetime import timedelta"
   ]
  },
  {
   "cell_type": "code",
   "execution_count": 15,
   "metadata": {},
   "outputs": [],
   "source": [
    "def date_range (start_dt, end_dt):\n",
    "    st_dt = datetime.strptime( start_dt, '%Y-%m-%d')\n",
    "    en_dt = datetime.strptime( end_dt, '%Y-%m-%d')\n",
    "    st = st_dt\n",
    "    while st <= en_dt:\n",
    "        print(st.strftime('%Y-%m-%d'))\n",
    "        st += timedelta(days=1)"
   ]
  },
  {
   "cell_type": "code",
   "execution_count": 16,
   "metadata": {},
   "outputs": [
    {
     "name": "stdout",
     "output_type": "stream",
     "text": [
      "2018-10-01\n",
      "2018-10-02\n",
      "2018-10-03\n",
      "2018-10-04\n",
      "2018-10-05\n",
      "2018-10-06\n",
      "2018-10-07\n",
      "2018-10-08\n",
      "2018-10-09\n",
      "2018-10-10\n"
     ]
    }
   ],
   "source": [
    "date_range('2018-10-01','2018-10-10')"
   ]
  },
  {
   "cell_type": "markdown",
   "metadata": {},
   "source": [
    "\n",
    "Задание 2\n",
    "Дополните функцию из первого задания проверкой на корректность дат. В случае неверного формата или если start_date > end_date должен возвращаться пустой список.\n"
   ]
  },
  {
   "cell_type": "code",
   "execution_count": 25,
   "metadata": {},
   "outputs": [],
   "source": [
    "def date_range (start_dt, end_dt):\n",
    "    if start_dt > end_dt:\n",
    "        return []\n",
    "        \n",
    "    else:\n",
    "        try:\n",
    "            st_dt = datetime.strptime( start_dt, '%Y-%m-%d')\n",
    "        except ValueError:\n",
    "            return []\n",
    "            \n",
    "        try:\n",
    "            en_dt = datetime.strptime( end_dt, '%Y-%m-%d')\n",
    "        except ValueError:\n",
    "            return []\n",
    "    st = st_dt\n",
    "    day_lst = []\n",
    "    while st <= en_dt:\n",
    "        day_lst.append(st.strftime('%Y-%m-%d'))\n",
    "        st += timedelta(days=1)\n",
    "    return day_lst"
   ]
  },
  {
   "cell_type": "code",
   "execution_count": 31,
   "metadata": {},
   "outputs": [
    {
     "data": {
      "text/plain": [
       "['2018-10-01',\n",
       " '2018-10-02',\n",
       " '2018-10-03',\n",
       " '2018-10-04',\n",
       " '2018-10-05',\n",
       " '2018-10-06',\n",
       " '2018-10-07',\n",
       " '2018-10-08',\n",
       " '2018-10-09',\n",
       " '2018-10-10']"
      ]
     },
     "execution_count": 31,
     "metadata": {},
     "output_type": "execute_result"
    }
   ],
   "source": [
    "date_range('2018-10-01','2018-10-10')"
   ]
  },
  {
   "cell_type": "code",
   "execution_count": 28,
   "metadata": {},
   "outputs": [
    {
     "data": {
      "text/plain": [
       "[]"
      ]
     },
     "execution_count": 28,
     "metadata": {},
     "output_type": "execute_result"
    }
   ],
   "source": [
    "date_range('2018-10-01','2018-10-44')"
   ]
  },
  {
   "cell_type": "code",
   "execution_count": 29,
   "metadata": {},
   "outputs": [
    {
     "data": {
      "text/plain": [
       "[]"
      ]
     },
     "execution_count": 29,
     "metadata": {},
     "output_type": "execute_result"
    }
   ],
   "source": [
    "date_range('2018-10-44','2018-10-10')"
   ]
  },
  {
   "cell_type": "code",
   "execution_count": 30,
   "metadata": {},
   "outputs": [
    {
     "data": {
      "text/plain": [
       "[]"
      ]
     },
     "execution_count": 30,
     "metadata": {},
     "output_type": "execute_result"
    }
   ],
   "source": [
    "date_range('2018-10-10','2018-10-01')"
   ]
  },
  {
   "cell_type": "markdown",
   "metadata": {},
   "source": [
    "\n",
    "Задание 3\n",
    "Дан поток дат в формате YYYY-MM-DD, в которых встречаются некорректные значения:\n",
    "stream = ['2018-04-02', '2018-02-29', '2018-19-02']\n",
    "\n",
    "Напишите функцию, которая проверяет эти даты на корректность. Т. е. для каждой даты возвращает True (дата корректна) или False (некорректная дата). \n"
   ]
  },
  {
   "cell_type": "code",
   "execution_count": 32,
   "metadata": {},
   "outputs": [],
   "source": [
    "stream = ['2018-04-02', '2018-02-29', '2018-19-02']"
   ]
  },
  {
   "cell_type": "code",
   "execution_count": 35,
   "metadata": {},
   "outputs": [],
   "source": [
    "def is_date_correct(list_in):\n",
    "    list_out = []\n",
    "    for each in list_in:\n",
    "        try:\n",
    "            datetime.strptime( each, '%Y-%m-%d')\n",
    "            list_out.append(True)\n",
    "        except ValueError:\n",
    "            list_out.append(False)\n",
    "    return list_out"
   ]
  },
  {
   "cell_type": "code",
   "execution_count": 36,
   "metadata": {},
   "outputs": [
    {
     "data": {
      "text/plain": [
       "[True, False, False]"
      ]
     },
     "execution_count": 36,
     "metadata": {},
     "output_type": "execute_result"
    }
   ],
   "source": [
    "is_date_correct(stream)"
   ]
  },
  {
   "cell_type": "markdown",
   "metadata": {},
   "source": [
    "\n",
    "Задание 4\n",
    "Напишите функцию, которая возвращает список дат с 1 по вчерашний день текущего месяца. Если дан 1 день месяца, то возвращается список дней прошлого месяца.\n"
   ]
  },
  {
   "cell_type": "code",
   "execution_count": null,
   "metadata": {},
   "outputs": [],
   "source": []
  },
  {
   "cell_type": "code",
   "execution_count": null,
   "metadata": {},
   "outputs": [],
   "source": []
  },
  {
   "cell_type": "code",
   "execution_count": null,
   "metadata": {},
   "outputs": [],
   "source": []
  },
  {
   "cell_type": "markdown",
   "metadata": {},
   "source": [
    "\n",
    "Задание 5\n",
    "Напишите функцию, которая возвращает точную дату в формате YYYY-MM-DD по фразе:\n",
    "1. 'today' - сегодняшнюю дату\n",
    "2. 'last monday' -  прошлый понедельник\n",
    "3. 'last day' - Последний день текущего месяца\n",
    "\n"
   ]
  },
  {
   "cell_type": "code",
   "execution_count": 43,
   "metadata": {},
   "outputs": [],
   "source": [
    "def last_day_of_month(any_day):\n",
    "    next_month = any_day.replace(day=28) + timedelta(days=4) \n",
    "    return next_month - timedelta(days=next_month.day)\n",
    "def last_monday(any_day):\n",
    "    return any_day - timedelta(days=any_day.weekday())\n",
    "def date_from_word (word_in):\n",
    "    now = datetime.now()\n",
    "    if word_in == 'today':\n",
    "        return datetime.strftime(now,'%Y-%m-%d')\n",
    "    elif word_in == 'last monday':\n",
    "        return datetime.strftime(last_monday(now),'%Y-%m-%d')\n",
    "    elif word_in == 'last day':\n",
    "        return datetime.strftime(last_day_of_month(now),'%Y-%m-%d')\n",
    "        \n",
    "        "
   ]
  },
  {
   "cell_type": "code",
   "execution_count": 44,
   "metadata": {},
   "outputs": [
    {
     "data": {
      "text/plain": [
       "'2018-12-06'"
      ]
     },
     "execution_count": 44,
     "metadata": {},
     "output_type": "execute_result"
    }
   ],
   "source": [
    "date_from_word('today')"
   ]
  },
  {
   "cell_type": "code",
   "execution_count": 45,
   "metadata": {},
   "outputs": [
    {
     "data": {
      "text/plain": [
       "'2018-12-03'"
      ]
     },
     "execution_count": 45,
     "metadata": {},
     "output_type": "execute_result"
    }
   ],
   "source": [
    "date_from_word('last monday')"
   ]
  },
  {
   "cell_type": "code",
   "execution_count": 46,
   "metadata": {},
   "outputs": [
    {
     "data": {
      "text/plain": [
       "'2018-12-31'"
      ]
     },
     "execution_count": 46,
     "metadata": {},
     "output_type": "execute_result"
    }
   ],
   "source": [
    "date_from_word('last day')"
   ]
  },
  {
   "cell_type": "markdown",
   "metadata": {},
   "source": [
    "Задание 6\n",
    "Напишите функцию, которая разбивает на недели с понедельника по воскресенье интервал дат между start_date и end_date. Считайте, что входные данные всегда корректны. В ответ должны входить только полные недели."
   ]
  },
  {
   "cell_type": "code",
   "execution_count": null,
   "metadata": {},
   "outputs": [],
   "source": []
  },
  {
   "cell_type": "code",
   "execution_count": null,
   "metadata": {},
   "outputs": [],
   "source": []
  },
  {
   "cell_type": "code",
   "execution_count": null,
   "metadata": {},
   "outputs": [],
   "source": []
  }
 ],
 "metadata": {
  "kernelspec": {
   "display_name": "Python 3",
   "language": "python",
   "name": "python3"
  },
  "language_info": {
   "codemirror_mode": {
    "name": "ipython",
    "version": 3
   },
   "file_extension": ".py",
   "mimetype": "text/x-python",
   "name": "python",
   "nbconvert_exporter": "python",
   "pygments_lexer": "ipython3",
   "version": "3.7.0"
  }
 },
 "nbformat": 4,
 "nbformat_minor": 2
}
