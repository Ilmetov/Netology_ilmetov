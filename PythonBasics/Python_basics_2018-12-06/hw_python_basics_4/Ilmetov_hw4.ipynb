{
 "cells": [
  {
   "cell_type": "markdown",
   "metadata": {},
   "source": [
    "Задание 1\n",
    "Напишите функцию date_range, которая возвращает список дней между датами start_date и end_date. Даты должны вводиться в формате YYYY-MM-DD.\n"
   ]
  },
  {
   "cell_type": "code",
   "execution_count": 8,
   "metadata": {},
   "outputs": [],
   "source": [
    "from datetime import datetime\n",
    "from datetime import timedelta"
   ]
  },
  {
   "cell_type": "code",
   "execution_count": 15,
   "metadata": {},
   "outputs": [],
   "source": [
    "def date_range (start_dt, end_dt):\n",
    "    st_dt = datetime.strptime( start_dt, '%Y-%m-%d')\n",
    "    en_dt = datetime.strptime( end_dt, '%Y-%m-%d')\n",
    "    st = st_dt\n",
    "    while st <= en_dt:\n",
    "        print(st.strftime('%Y-%m-%d'))\n",
    "        st += timedelta(days=1)"
   ]
  },
  {
   "cell_type": "code",
   "execution_count": 16,
   "metadata": {},
   "outputs": [
    {
     "name": "stdout",
     "output_type": "stream",
     "text": [
      "2018-10-01\n",
      "2018-10-02\n",
      "2018-10-03\n",
      "2018-10-04\n",
      "2018-10-05\n",
      "2018-10-06\n",
      "2018-10-07\n",
      "2018-10-08\n",
      "2018-10-09\n",
      "2018-10-10\n"
     ]
    }
   ],
   "source": [
    "date_range('2018-10-01','2018-10-10')"
   ]
  },
  {
   "cell_type": "markdown",
   "metadata": {},
   "source": [
    "\n",
    "Задание 2\n",
    "Дополните функцию из первого задания проверкой на корректность дат. В случае неверного формата или если start_date > end_date должен возвращаться пустой список.\n"
   ]
  },
  {
   "cell_type": "code",
   "execution_count": 25,
   "metadata": {},
   "outputs": [],
   "source": [
    "def date_range (start_dt, end_dt):\n",
    "    if start_dt > end_dt:\n",
    "        return []\n",
    "        \n",
    "    else:\n",
    "        try:\n",
    "            st_dt = datetime.strptime( start_dt, '%Y-%m-%d')\n",
    "        except ValueError:\n",
    "            return []\n",
    "            \n",
    "        try:\n",
    "            en_dt = datetime.strptime( end_dt, '%Y-%m-%d')\n",
    "        except ValueError:\n",
    "            return []\n",
    "    st = st_dt\n",
    "    day_lst = []\n",
    "    while st <= en_dt:\n",
    "        day_lst.append(st.strftime('%Y-%m-%d'))\n",
    "        st += timedelta(days=1)\n",
    "    return day_lst"
   ]
  },
  {
   "cell_type": "code",
   "execution_count": 31,
   "metadata": {},
   "outputs": [
    {
     "data": {
      "text/plain": [
       "['2018-10-01',\n",
       " '2018-10-02',\n",
       " '2018-10-03',\n",
       " '2018-10-04',\n",
       " '2018-10-05',\n",
       " '2018-10-06',\n",
       " '2018-10-07',\n",
       " '2018-10-08',\n",
       " '2018-10-09',\n",
       " '2018-10-10']"
      ]
     },
     "execution_count": 31,
     "metadata": {},
     "output_type": "execute_result"
    }
   ],
   "source": [
    "date_range('2018-10-01','2018-10-10')"
   ]
  },
  {
   "cell_type": "code",
   "execution_count": 28,
   "metadata": {},
   "outputs": [
    {
     "data": {
      "text/plain": [
       "[]"
      ]
     },
     "execution_count": 28,
     "metadata": {},
     "output_type": "execute_result"
    }
   ],
   "source": [
    "date_range('2018-10-01','2018-10-44')"
   ]
  },
  {
   "cell_type": "code",
   "execution_count": 29,
   "metadata": {},
   "outputs": [
    {
     "data": {
      "text/plain": [
       "[]"
      ]
     },
     "execution_count": 29,
     "metadata": {},
     "output_type": "execute_result"
    }
   ],
   "source": [
    "date_range('2018-10-44','2018-10-10')"
   ]
  },
  {
   "cell_type": "code",
   "execution_count": 30,
   "metadata": {},
   "outputs": [
    {
     "data": {
      "text/plain": [
       "[]"
      ]
     },
     "execution_count": 30,
     "metadata": {},
     "output_type": "execute_result"
    }
   ],
   "source": [
    "date_range('2018-10-10','2018-10-01')"
   ]
  },
  {
   "cell_type": "markdown",
   "metadata": {},
   "source": [
    "\n",
    "Задание 3\n",
    "Дан поток дат в формате YYYY-MM-DD, в которых встречаются некорректные значения:\n",
    "stream = ['2018-04-02', '2018-02-29', '2018-19-02']\n",
    "\n",
    "Напишите функцию, которая проверяет эти даты на корректность. Т. е. для каждой даты возвращает True (дата корректна) или False (некорректная дата). \n"
   ]
  },
  {
   "cell_type": "code",
   "execution_count": 32,
   "metadata": {},
   "outputs": [],
   "source": [
    "stream = ['2018-04-02', '2018-02-29', '2018-19-02']"
   ]
  },
  {
   "cell_type": "code",
   "execution_count": 35,
   "metadata": {},
   "outputs": [],
   "source": [
    "def is_date_correct(list_in):\n",
    "    list_out = []\n",
    "    for each in list_in:\n",
    "        try:\n",
    "            datetime.strptime( each, '%Y-%m-%d')\n",
    "            list_out.append(True)\n",
    "        except ValueError:\n",
    "            list_out.append(False)\n",
    "    return list_out"
   ]
  },
  {
   "cell_type": "code",
   "execution_count": 36,
   "metadata": {},
   "outputs": [
    {
     "data": {
      "text/plain": [
       "[True, False, False]"
      ]
     },
     "execution_count": 36,
     "metadata": {},
     "output_type": "execute_result"
    }
   ],
   "source": [
    "is_date_correct(stream)"
   ]
  },
  {
   "cell_type": "markdown",
   "metadata": {},
   "source": [
    "\n",
    "Задание 4\n",
    "Напишите функцию, которая возвращает список дат с 1 по вчерашний день текущего месяца. Если дан 1 день месяца, то возвращается список дней прошлого месяца.\n"
   ]
  },
  {
   "cell_type": "code",
   "execution_count": 80,
   "metadata": {},
   "outputs": [],
   "source": [
    "def month_dt (date_in = datetime.strftime(datetime.now().date(),'%Y-%m-%d')):\n",
    "    date_in = datetime.strptime(date_in,'%Y-%m-%d' )\n",
    "    if date_in.day == 1:\n",
    "        first_dt = (date_in.replace(day=1) - timedelta(days=1)).replace(day=1)\n",
    "    else:\n",
    "        first_dt = date_in.replace(day=1)\n",
    "    each_dt = first_dt\n",
    "    list_out=[]\n",
    "    while each_dt < date_in:\n",
    "        list_out.append(datetime.strftime(each_dt,'%Y-%m-%d'))\n",
    "        each_dt += timedelta(days=1)\n",
    "    return list_out"
   ]
  },
  {
   "cell_type": "code",
   "execution_count": 82,
   "metadata": {},
   "outputs": [
    {
     "data": {
      "text/plain": [
       "['2018-11-01',\n",
       " '2018-11-02',\n",
       " '2018-11-03',\n",
       " '2018-11-04',\n",
       " '2018-11-05',\n",
       " '2018-11-06',\n",
       " '2018-11-07',\n",
       " '2018-11-08',\n",
       " '2018-11-09',\n",
       " '2018-11-10',\n",
       " '2018-11-11',\n",
       " '2018-11-12',\n",
       " '2018-11-13',\n",
       " '2018-11-14',\n",
       " '2018-11-15',\n",
       " '2018-11-16',\n",
       " '2018-11-17',\n",
       " '2018-11-18',\n",
       " '2018-11-19',\n",
       " '2018-11-20',\n",
       " '2018-11-21',\n",
       " '2018-11-22',\n",
       " '2018-11-23',\n",
       " '2018-11-24',\n",
       " '2018-11-25',\n",
       " '2018-11-26',\n",
       " '2018-11-27',\n",
       " '2018-11-28',\n",
       " '2018-11-29',\n",
       " '2018-11-30']"
      ]
     },
     "execution_count": 82,
     "metadata": {},
     "output_type": "execute_result"
    }
   ],
   "source": [
    "month_dt('2018-12-01')\n"
   ]
  },
  {
   "cell_type": "code",
   "execution_count": 83,
   "metadata": {},
   "outputs": [
    {
     "data": {
      "text/plain": [
       "['2018-12-01',\n",
       " '2018-12-02',\n",
       " '2018-12-03',\n",
       " '2018-12-04',\n",
       " '2018-12-05',\n",
       " '2018-12-06',\n",
       " '2018-12-07']"
      ]
     },
     "execution_count": 83,
     "metadata": {},
     "output_type": "execute_result"
    }
   ],
   "source": [
    "month_dt()"
   ]
  },
  {
   "cell_type": "markdown",
   "metadata": {},
   "source": [
    "\n",
    "Задание 5\n",
    "Напишите функцию, которая возвращает точную дату в формате YYYY-MM-DD по фразе:\n",
    "1. 'today' - сегодняшнюю дату\n",
    "2. 'last monday' -  прошлый понедельник\n",
    "3. 'last day' - Последний день текущего месяца\n",
    "\n"
   ]
  },
  {
   "cell_type": "code",
   "execution_count": 43,
   "metadata": {},
   "outputs": [],
   "source": [
    "def last_day_of_month(any_day):\n",
    "    next_month = any_day.replace(day=28) + timedelta(days=4) \n",
    "    return next_month - timedelta(days=next_month.day)\n",
    "def last_monday(any_day):\n",
    "    return any_day - timedelta(days=any_day.weekday())\n",
    "def date_from_word (word_in):\n",
    "    now = datetime.now()\n",
    "    if word_in == 'today':\n",
    "        return datetime.strftime(now,'%Y-%m-%d')\n",
    "    elif word_in == 'last monday':\n",
    "        return datetime.strftime(last_monday(now),'%Y-%m-%d')\n",
    "    elif word_in == 'last day':\n",
    "        return datetime.strftime(last_day_of_month(now),'%Y-%m-%d')\n",
    "        \n",
    "        "
   ]
  },
  {
   "cell_type": "code",
   "execution_count": 44,
   "metadata": {},
   "outputs": [
    {
     "data": {
      "text/plain": [
       "'2018-12-06'"
      ]
     },
     "execution_count": 44,
     "metadata": {},
     "output_type": "execute_result"
    }
   ],
   "source": [
    "date_from_word('today')"
   ]
  },
  {
   "cell_type": "code",
   "execution_count": 52,
   "metadata": {},
   "outputs": [
    {
     "data": {
      "text/plain": [
       "'2018-12-03'"
      ]
     },
     "execution_count": 52,
     "metadata": {},
     "output_type": "execute_result"
    }
   ],
   "source": [
    "date_from_word('last monday')"
   ]
  },
  {
   "cell_type": "code",
   "execution_count": 46,
   "metadata": {},
   "outputs": [
    {
     "data": {
      "text/plain": [
       "'2018-12-31'"
      ]
     },
     "execution_count": 46,
     "metadata": {},
     "output_type": "execute_result"
    }
   ],
   "source": [
    "date_from_word('last day')"
   ]
  },
  {
   "cell_type": "markdown",
   "metadata": {},
   "source": [
    "Задание 6\n",
    "Напишите функцию, которая разбивает на недели с понедельника по воскресенье интервал дат между start_date и end_date. Считайте, что входные данные всегда корректны. В ответ должны входить только полные недели."
   ]
  },
  {
   "cell_type": "code",
   "execution_count": 123,
   "metadata": {},
   "outputs": [],
   "source": [
    "def dt_range_2_week_list (st, end):\n",
    "    st_dt = datetime.strptime(st, '%Y-%m-%d')\n",
    "    end_dt = datetime.strptime(end, '%Y-%m-%d')\n",
    "    if st_dt.weekday() ==0:\n",
    "        st_monday_dt = st_dt\n",
    "    else:\n",
    "        st_monday_dt = st_dt + timedelta(days=(7-st_dt.weekday()))\n",
    "    if end_dt.weekday()==6:\n",
    "        end_sunday_dt=end_dt\n",
    "    else:\n",
    "        end_sunday_dt=end_dt - timedelta(days=(1+end_dt.weekday()))\n",
    "    if end_sunday_dt < st_monday_dt:\n",
    "        total_weeks_none=[]\n",
    "        return (total_weeks_none)\n",
    "    else:\n",
    "        total_weeks = (end_sunday_dt-st_monday_dt+timedelta(days=1)).days / 7\n",
    "        dt = st_monday_dt\n",
    "        total_list =[]\n",
    "        week_list=[]\n",
    "        while dt <= end_sunday_dt:\n",
    "            dt_str = datetime.strftime(dt,'%Y-%m-%d')\n",
    "            week_list.append(dt_str)\n",
    "            if dt.weekday() == 6:\n",
    "                total_list.append(week_list)\n",
    "                week_list=[]\n",
    "            dt+=timedelta(days=1)\n",
    "        return total_list\n"
   ]
  },
  {
   "cell_type": "code",
   "execution_count": 125,
   "metadata": {},
   "outputs": [
    {
     "data": {
      "text/plain": [
       "[['2018-01-01',\n",
       "  '2018-01-02',\n",
       "  '2018-01-03',\n",
       "  '2018-01-04',\n",
       "  '2018-01-05',\n",
       "  '2018-01-06',\n",
       "  '2018-01-07'],\n",
       " ['2018-01-08',\n",
       "  '2018-01-09',\n",
       "  '2018-01-10',\n",
       "  '2018-01-11',\n",
       "  '2018-01-12',\n",
       "  '2018-01-13',\n",
       "  '2018-01-14'],\n",
       " ['2018-01-15',\n",
       "  '2018-01-16',\n",
       "  '2018-01-17',\n",
       "  '2018-01-18',\n",
       "  '2018-01-19',\n",
       "  '2018-01-20',\n",
       "  '2018-01-21'],\n",
       " ['2018-01-22',\n",
       "  '2018-01-23',\n",
       "  '2018-01-24',\n",
       "  '2018-01-25',\n",
       "  '2018-01-26',\n",
       "  '2018-01-27',\n",
       "  '2018-01-28']]"
      ]
     },
     "execution_count": 125,
     "metadata": {},
     "output_type": "execute_result"
    }
   ],
   "source": [
    "dt_range_2_week_list('2018-01-01','2018-02-01')"
   ]
  },
  {
   "cell_type": "code",
   "execution_count": 126,
   "metadata": {},
   "outputs": [
    {
     "data": {
      "text/plain": [
       "[]"
      ]
     },
     "execution_count": 126,
     "metadata": {},
     "output_type": "execute_result"
    }
   ],
   "source": [
    "dt_range_2_week_list('2018-01-01','2017-02-01')"
   ]
  },
  {
   "cell_type": "code",
   "execution_count": null,
   "metadata": {},
   "outputs": [],
   "source": []
  }
 ],
 "metadata": {
  "kernelspec": {
   "display_name": "Python 3",
   "language": "python",
   "name": "python3"
  },
  "language_info": {
   "codemirror_mode": {
    "name": "ipython",
    "version": 3
   },
   "file_extension": ".py",
   "mimetype": "text/x-python",
   "name": "python",
   "nbconvert_exporter": "python",
   "pygments_lexer": "ipython3",
   "version": "3.7.0"
  }
 },
 "nbformat": 4,
 "nbformat_minor": 2
}
